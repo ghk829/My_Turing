{
 "cells": [
  {
   "cell_type": "code",
   "execution_count": 18,
   "metadata": {
    "collapsed": false
   },
   "outputs": [],
   "source": [
    "#-*- coding: UTF-8 -*-\n",
    "from selenium import webdriver\n",
    "from selenium.webdriver.common.keys import Keys\n",
    "from selenium.webdriver.common.by import By\n",
    "from selenium.webdriver.common.action_chains import ActionChains\n",
    "chrome_path = r'C:\\Users\\kikun\\Desktop\\chromedriver.exe'\n",
    "driver = webdriver.Chrome(chrome_path)"
   ]
  },
  {
   "cell_type": "code",
   "execution_count": 19,
   "metadata": {
    "collapsed": false
   },
   "outputs": [],
   "source": [
    "driver.get('http://www.watcha.net')"
   ]
  },
  {
   "cell_type": "code",
   "execution_count": 20,
   "metadata": {
    "collapsed": false,
    "scrolled": true
   },
   "outputs": [],
   "source": [
    "driver.find_element_by_xpath('''//*[@id=\"contents\"]/div[3]/div[2]/span[2]/a''').click()"
   ]
  },
  {
   "cell_type": "code",
   "execution_count": 21,
   "metadata": {
    "collapsed": false
   },
   "outputs": [],
   "source": [
    "elem = driver.find_element_by_id('user_email')\n",
    "elem.send_keys(\"ghk829@hanmail.net\")\n",
    "elem = driver.find_element_by_id('user_password')\n",
    "elem.send_keys('')\n",
    "elem.submit()"
   ]
  },
  {
   "cell_type": "code",
   "execution_count": 5,
   "metadata": {
    "collapsed": false,
    "scrolled": true
   },
   "outputs": [],
   "source": [
    "data = driver.find_element(By.CSS_SELECTOR,'#boxoffice-section > div > div > ul > div.ranking.card.grid-1.hei-1.top-0.left-0 > div > ol')"
   ]
  },
  {
   "cell_type": "code",
   "execution_count": 6,
   "metadata": {
    "collapsed": false
   },
   "outputs": [],
   "source": [
    "datas = data.find_elements_by_tag_name('a')"
   ]
  },
  {
   "cell_type": "code",
   "execution_count": 9,
   "metadata": {
    "collapsed": false
   },
   "outputs": [
    {
     "name": "stdout",
     "output_type": "stream",
     "text": [
      "https://watcha.net/mv/gwihyang-2015/mjg36r\n",
      "https://watcha.net/mv/gods-of-egypt-2016/mx7f1y\n",
      "https://watcha.net/mv/zootopia-2016/me8chg\n",
      "https://watcha.net/mv/deadpool-2014/mjjua7\n",
      "https://watcha.net/mv/dongju-2015/mnnww7\n",
      "https://watcha.net/mv/spotlight-2015/mnp3sa\n",
      "https://watcha.net/mv/13-hours-the-secret-2016/mipsxt\n",
      "https://watcha.net/mv/geomsa-oejeon-2014/mxt5a6\n",
      "https://watcha.net/mv/room-2015/mxeow7\n",
      "https://watcha.net/mv/haepi-peiseubug-gaje-2015/mkjn6z\n",
      "https://watcha.net/mv/the-danish-girl-2012/m8weqi\n",
      "https://watcha.net/mv/carol-2013/mog045\n"
     ]
    }
   ],
   "source": [
    "for data in datas:\n",
    "    print data.get_attribute('href')"
   ]
  },
  {
   "cell_type": "code",
   "execution_count": null,
   "metadata": {
    "collapsed": true
   },
   "outputs": [],
   "source": [
    "################################################"
   ]
  },
  {
   "cell_type": "code",
   "execution_count": 471,
   "metadata": {
    "collapsed": true
   },
   "outputs": [],
   "source": [
    "data = u'귀향'"
   ]
  },
  {
   "cell_type": "code",
   "execution_count": 460,
   "metadata": {
    "collapsed": false
   },
   "outputs": [],
   "source": [
    "elem = driver.find_element_by_id('input-query')"
   ]
  },
  {
   "cell_type": "code",
   "execution_count": 469,
   "metadata": {
    "collapsed": false
   },
   "outputs": [],
   "source": [
    "elem.send_keys(unicode(data))"
   ]
  },
  {
   "cell_type": "code",
   "execution_count": 470,
   "metadata": {
    "collapsed": true
   },
   "outputs": [],
   "source": [
    "elem.submit()"
   ]
  }
 ],
 "metadata": {
  "kernelspec": {
   "display_name": "Python [default]",
   "language": "python",
   "name": "python2"
  },
  "language_info": {
   "codemirror_mode": {
    "name": "ipython",
    "version": 2
   },
   "file_extension": ".py",
   "mimetype": "text/x-python",
   "name": "python",
   "nbconvert_exporter": "python",
   "pygments_lexer": "ipython2",
   "version": "2.7.12"
  }
 },
 "nbformat": 4,
 "nbformat_minor": 0
}
