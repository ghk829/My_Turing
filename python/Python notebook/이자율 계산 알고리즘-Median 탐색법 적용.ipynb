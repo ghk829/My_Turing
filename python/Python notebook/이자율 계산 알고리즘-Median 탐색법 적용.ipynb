{
 "cells": [
  {
   "cell_type": "code",
   "execution_count": 1,
   "metadata": {
    "collapsed": true
   },
   "outputs": [],
   "source": [
    "import numpy as np\n",
    "from sympy.solvers import solve\n",
    "from sympy import Symbol\n",
    "from sympy import solve, Poly, Eq, Function, exp"
   ]
  },
  {
   "cell_type": "code",
   "execution_count": 172,
   "metadata": {
    "collapsed": false
   },
   "outputs": [],
   "source": [
    "# 적은 이자율 변동이 있을때 유용\n",
    "def find_BS(a1,a2,a3,a4):\n",
    "    x=Symbol('x');y=Symbol('y');a=Symbol('a')\n",
    "    expr1 = x*y+a1*y-a2\n",
    "    expr2 = x*(y+a)+(a1+a3)*(y+a)-a4\n",
    "    R=np.arange(-2,2,0.001)\n",
    "    for i in range(len(R)):\n",
    "        a5=round(R[len(R)/2+pow(-1,i)*(i/2)],4)\n",
    "        expr3=expr2.subs(a,a5)\n",
    "        try:\n",
    "            y1=solve(expr1-expr3,y)\n",
    "            if len(str(float(y1[0])))>6:\n",
    "                continue\n",
    "            expr4=expr1.subs(y,y1[0])\n",
    "            x1=solve(expr4,x)\n",
    "            if round(x1[0],0)==x1[0] and x1[0]>0:\n",
    "                if abs(expr4.subs(x,x1[0]))<0.001:\n",
    "                    return {'X':int(x1[0]),'Y':round(y1[0],3),'change':a5}\n",
    "            else: continue\n",
    "        except:\n",
    "            r1=solve(expr1-expr3,x)\n",
    "            expr4=expr1.subs(x,r1[0])\n",
    "            r2=solve(expr4,y)\n",
    "            try:\n",
    "                for j in range(len(r2)):\n",
    "                    r2[j]=float(r2[j])\n",
    "            except:\n",
    "                continue\n",
    "            y1=0\n",
    "            for i in range(len(r2)):\n",
    "                if r2[i] > 0:\n",
    "                    y1=r2[i]\n",
    "            if len(str(y1))>=6:\n",
    "                continue\n",
    "            if abs(expr4.subs(y,y1))<0.001:\n",
    "                x1=solve(expr1.subs(y,y1),x)[0]\n",
    "                if x1>0:\n",
    "                    return {'X':int(x1),'Y':y1,'change':a5}"
   ]
  },
  {
   "cell_type": "code",
   "execution_count": 173,
   "metadata": {
    "collapsed": false
   },
   "outputs": [
    {
     "data": {
      "text/plain": [
       "{'X': 29900, 'Y': 0.038, 'change': -0.0}"
      ]
     },
     "execution_count": 173,
     "metadata": {},
     "output_type": "execute_result"
    }
   ],
   "source": [
    "find_BS(2500,1244.16,-4050,1088.64)"
   ]
  }
 ],
 "metadata": {
  "anaconda-cloud": {},
  "kernelspec": {
   "display_name": "Python [conda root]",
   "language": "python",
   "name": "conda-root-py"
  },
  "language_info": {
   "codemirror_mode": {
    "name": "ipython",
    "version": 2
   },
   "file_extension": ".py",
   "mimetype": "text/x-python",
   "name": "python",
   "nbconvert_exporter": "python",
   "pygments_lexer": "ipython2",
   "version": "2.7.12"
  }
 },
 "nbformat": 4,
 "nbformat_minor": 1
}
