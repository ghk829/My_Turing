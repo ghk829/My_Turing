{
 "cells": [
  {
   "cell_type": "code",
   "execution_count": 208,
   "metadata": {
    "collapsed": false
   },
   "outputs": [],
   "source": [
    "#-*- coding: UTF-8 -*-\n",
    "from selenium import webdriver\n",
    "from selenium.webdriver.common.keys import Keys\n",
    "from selenium.webdriver.common.by import By\n",
    "from selenium.webdriver.common.action_chains import ActionChains\n",
    "chrome_path = r'C:\\Users\\kikun\\Desktop\\chromedriver.exe'\n",
    "driver = webdriver.Chrome(chrome_path)\n",
    "from bs4 import BeautifulSoup as BT\n",
    "import urllib2"
   ]
  },
  {
   "cell_type": "code",
   "execution_count": 209,
   "metadata": {
    "collapsed": false
   },
   "outputs": [],
   "source": [
    "import os\n",
    "import re\n",
    "import pandas as pd\n",
    "from pandas import DataFrame, Series\n",
    "import matplotlib.pyplot as plt\n",
    "import numpy as np\n",
    "from sklearn import datasets, linear_model\n",
    "import scipy as sci\n",
    "os.chdir('C:\\Users\\kikun\\Desktop')\n",
    "os.getcwd()\n",
    "%matplotlib inline"
   ]
  },
  {
   "cell_type": "code",
   "execution_count": 210,
   "metadata": {
    "collapsed": true
   },
   "outputs": [],
   "source": [
    "url = 'http://www.wisetoto.com/gameinfo/?game_type=pt&game_category=pt1&game_year=2016&game_round=25'"
   ]
  },
  {
   "cell_type": "code",
   "execution_count": 211,
   "metadata": {
    "collapsed": true
   },
   "outputs": [],
   "source": [
    "driver.get(url)"
   ]
  },
  {
   "cell_type": "code",
   "execution_count": 213,
   "metadata": {
    "collapsed": false,
    "scrolled": true
   },
   "outputs": [],
   "source": [
    "driver.find_element_by_xpath('''//*[@id=\"gameinfo_body\"]/table[1]/tbody/tr[1]/td[1]/img[4]''').click()"
   ]
  },
  {
   "cell_type": "code",
   "execution_count": 214,
   "metadata": {
    "collapsed": false
   },
   "outputs": [],
   "source": [
    "soup=BT(driver.page_source)"
   ]
  },
  {
   "cell_type": "code",
   "execution_count": 215,
   "metadata": {
    "collapsed": true
   },
   "outputs": [],
   "source": [
    "d = soup.findAll('li',attrs={'class':'rw'})\n",
    "DataFrame({'win':a,'lose':c})"
   ]
  },
  {
   "cell_type": "code",
   "execution_count": 373,
   "metadata": {
    "collapsed": false
   },
   "outputs": [],
   "source": [
    "a=list()\n",
    "b=list()\n",
    "c=list()\n",
    "for k in d:\n",
    "    l = k.findPreviousSiblings()\n",
    "    l.reverse()\n",
    "    b.append(l[5].text+':'+l[7].text)\n",
    "    a.append(l[8].text)\n",
    "    c.append(l[10].text)"
   ]
  },
  {
   "cell_type": "code",
   "execution_count": 374,
   "metadata": {
    "collapsed": false
   },
   "outputs": [],
   "source": [
    "for i in range(len(a)):\n",
    "    try:\n",
    "        a[i]=float(a[i])\n",
    "    except UnicodeEncodeError:\n",
    "        pass\n",
    "    except ValueError:\n",
    "        pass\n",
    "for i in range(len(a)):\n",
    "    try:\n",
    "        c[i]=float(c[i])\n",
    "    except UnicodeEncodeError:\n",
    "        pass\n",
    "    except ValueError:\n",
    "        pass    "
   ]
  },
  {
   "cell_type": "code",
   "execution_count": 375,
   "metadata": {
    "collapsed": false,
    "scrolled": false
   },
   "outputs": [
    {
     "ename": "IndexError",
     "evalue": "list index out of range",
     "output_type": "error",
     "traceback": [
      "\u001b[1;31m---------------------------------------------------------------------------\u001b[0m",
      "\u001b[1;31mIndexError\u001b[0m                                Traceback (most recent call last)",
      "\u001b[1;32m<ipython-input-375-ac01aa032766>\u001b[0m in \u001b[0;36m<module>\u001b[1;34m()\u001b[0m\n\u001b[0;32m      1\u001b[0m \u001b[1;32mfor\u001b[0m \u001b[0mi\u001b[0m \u001b[1;32min\u001b[0m \u001b[0mrange\u001b[0m\u001b[1;33m(\u001b[0m\u001b[0mlen\u001b[0m\u001b[1;33m(\u001b[0m\u001b[0ma\u001b[0m\u001b[1;33m)\u001b[0m\u001b[1;33m)\u001b[0m\u001b[1;33m:\u001b[0m\u001b[1;33m\u001b[0m\u001b[0m\n\u001b[0;32m      2\u001b[0m     \u001b[1;32mif\u001b[0m \u001b[0mtype\u001b[0m\u001b[1;33m(\u001b[0m\u001b[0ma\u001b[0m\u001b[1;33m[\u001b[0m\u001b[0mi\u001b[0m\u001b[1;33m]\u001b[0m\u001b[1;33m)\u001b[0m\u001b[1;33m!=\u001b[0m\u001b[0mfloat\u001b[0m\u001b[1;33m:\u001b[0m\u001b[1;33m\u001b[0m\u001b[0m\n\u001b[1;32m----> 3\u001b[1;33m         \u001b[0ma\u001b[0m\u001b[1;33m[\u001b[0m\u001b[0mi\u001b[0m\u001b[1;33m]\u001b[0m\u001b[1;33m=\u001b[0m\u001b[0mfloat\u001b[0m\u001b[1;33m(\u001b[0m\u001b[0mre\u001b[0m\u001b[1;33m.\u001b[0m\u001b[0mfindall\u001b[0m\u001b[1;33m(\u001b[0m\u001b[1;34m'[0-9][.][0-9][0-9]'\u001b[0m\u001b[1;33m,\u001b[0m\u001b[0ma\u001b[0m\u001b[1;33m[\u001b[0m\u001b[0mi\u001b[0m\u001b[1;33m]\u001b[0m\u001b[1;33m)\u001b[0m\u001b[1;33m[\u001b[0m\u001b[1;36m0\u001b[0m\u001b[1;33m]\u001b[0m\u001b[1;33m)\u001b[0m\u001b[1;33m\u001b[0m\u001b[0m\n\u001b[0m",
      "\u001b[1;31mIndexError\u001b[0m: list index out of range"
     ]
    }
   ],
   "source": [
    "for i in range(len(a)):\n",
    "    if type(a[i])!=float:\n",
    "        a[i]=float(re.findall('[0-9][.][0-9][0-9]',a[i])[0])    "
   ]
  },
  {
   "cell_type": "code",
   "execution_count": 376,
   "metadata": {
    "collapsed": false
   },
   "outputs": [
    {
     "ename": "IndexError",
     "evalue": "list index out of range",
     "output_type": "error",
     "traceback": [
      "\u001b[1;31m---------------------------------------------------------------------------\u001b[0m",
      "\u001b[1;31mIndexError\u001b[0m                                Traceback (most recent call last)",
      "\u001b[1;32m<ipython-input-376-b0701cdbd89d>\u001b[0m in \u001b[0;36m<module>\u001b[1;34m()\u001b[0m\n\u001b[0;32m      1\u001b[0m \u001b[1;32mfor\u001b[0m \u001b[0mi\u001b[0m \u001b[1;32min\u001b[0m \u001b[0mrange\u001b[0m\u001b[1;33m(\u001b[0m\u001b[0mlen\u001b[0m\u001b[1;33m(\u001b[0m\u001b[0mc\u001b[0m\u001b[1;33m)\u001b[0m\u001b[1;33m)\u001b[0m\u001b[1;33m:\u001b[0m\u001b[1;33m\u001b[0m\u001b[0m\n\u001b[0;32m      2\u001b[0m     \u001b[1;32mif\u001b[0m \u001b[0mtype\u001b[0m\u001b[1;33m(\u001b[0m\u001b[0mc\u001b[0m\u001b[1;33m[\u001b[0m\u001b[0mi\u001b[0m\u001b[1;33m]\u001b[0m\u001b[1;33m)\u001b[0m\u001b[1;33m!=\u001b[0m\u001b[0mfloat\u001b[0m\u001b[1;33m:\u001b[0m\u001b[1;33m\u001b[0m\u001b[0m\n\u001b[1;32m----> 3\u001b[1;33m         \u001b[0mc\u001b[0m\u001b[1;33m[\u001b[0m\u001b[0mi\u001b[0m\u001b[1;33m]\u001b[0m\u001b[1;33m=\u001b[0m\u001b[0mfloat\u001b[0m\u001b[1;33m(\u001b[0m\u001b[0mre\u001b[0m\u001b[1;33m.\u001b[0m\u001b[0mfindall\u001b[0m\u001b[1;33m(\u001b[0m\u001b[1;34m'[0-9][.][0-9][0-9]'\u001b[0m\u001b[1;33m,\u001b[0m\u001b[0mc\u001b[0m\u001b[1;33m[\u001b[0m\u001b[0mi\u001b[0m\u001b[1;33m]\u001b[0m\u001b[1;33m)\u001b[0m\u001b[1;33m[\u001b[0m\u001b[1;36m0\u001b[0m\u001b[1;33m]\u001b[0m\u001b[1;33m)\u001b[0m\u001b[1;33m\u001b[0m\u001b[0m\n\u001b[0m",
      "\u001b[1;31mIndexError\u001b[0m: list index out of range"
     ]
    }
   ],
   "source": [
    "for i in range(len(c)):\n",
    "    if type(c[i])!=float:\n",
    "        c[i]=float(re.findall('[0-9][.][0-9][0-9]',c[i])[0])    "
   ]
  },
  {
   "cell_type": "code",
   "execution_count": 377,
   "metadata": {
    "collapsed": false
   },
   "outputs": [],
   "source": [
    "for i in range(len(a)):\n",
    "    if a[i] != u'-':\n",
    "        b[i]=b[i]\n",
    "    else: b[i]=0    "
   ]
  },
  {
   "cell_type": "code",
   "execution_count": 378,
   "metadata": {
    "collapsed": false,
    "scrolled": false
   },
   "outputs": [],
   "source": [
    "c=[k for k in c if k!= u'-']"
   ]
  },
  {
   "cell_type": "code",
   "execution_count": 379,
   "metadata": {
    "collapsed": false
   },
   "outputs": [],
   "source": [
    "a=[k for k in a if k!= u'-']"
   ]
  },
  {
   "cell_type": "code",
   "execution_count": 387,
   "metadata": {
    "collapsed": false
   },
   "outputs": [],
   "source": [
    "for i in range(100):\n",
    "    if b[-1] == 0:\n",
    "        b.remove(0)"
   ]
  },
  {
   "cell_type": "code",
   "execution_count": 429,
   "metadata": {
    "collapsed": false
   },
   "outputs": [],
   "source": [
    "data = DataFrame({'win':c,'lose':a},index=b)"
   ]
  },
  {
   "cell_type": "code",
   "execution_count": 412,
   "metadata": {
    "collapsed": false
   },
   "outputs": [],
   "source": [
    "data.ix[:,0]=data.ix[:,0]-1"
   ]
  },
  {
   "cell_type": "code",
   "execution_count": 413,
   "metadata": {
    "collapsed": true
   },
   "outputs": [],
   "source": [
    "data.ix[:,1]=data.ix[:,1]-1"
   ]
  },
  {
   "cell_type": "code",
   "execution_count": 433,
   "metadata": {
    "collapsed": false
   },
   "outputs": [],
   "source": [
    "dd=data.get_values()"
   ]
  },
  {
   "cell_type": "code",
   "execution_count": 449,
   "metadata": {
    "collapsed": false
   },
   "outputs": [],
   "source": [
    "e=list()\n",
    "r=list()\n",
    "for ddd in dd:\n",
    "    e.append((ddd[0]-1))\n",
    "    r.append(1/(ddd[1]-1))"
   ]
  },
  {
   "cell_type": "code",
   "execution_count": 450,
   "metadata": {
    "collapsed": false,
    "scrolled": true
   },
   "outputs": [
    {
     "data": {
      "text/html": [
       "<div>\n",
       "<table border=\"1\" class=\"dataframe\">\n",
       "  <thead>\n",
       "    <tr style=\"text-align: right;\">\n",
       "      <th></th>\n",
       "      <th>beta1</th>\n",
       "      <th>beta2</th>\n",
       "    </tr>\n",
       "  </thead>\n",
       "  <tbody>\n",
       "    <tr>\n",
       "      <th>브루클린 : 인디애나</th>\n",
       "      <td>1.86</td>\n",
       "      <td>4.347826</td>\n",
       "    </tr>\n",
       "    <tr>\n",
       "      <th>브루클린 : 인디애나</th>\n",
       "      <td>0.68</td>\n",
       "      <td>1.315789</td>\n",
       "    </tr>\n",
       "    <tr>\n",
       "      <th>올랜도 : 시카고B</th>\n",
       "      <td>1.09</td>\n",
       "      <td>2.173913</td>\n",
       "    </tr>\n",
       "    <tr>\n",
       "      <th>올랜도 : 시카고B</th>\n",
       "      <td>0.71</td>\n",
       "      <td>1.369863</td>\n",
       "    </tr>\n",
       "    <tr>\n",
       "      <th>뉴올리언 : 토론토R</th>\n",
       "      <td>2.41</td>\n",
       "      <td>6.666667</td>\n",
       "    </tr>\n",
       "    <tr>\n",
       "      <th>뉴올리언 : 토론토R</th>\n",
       "      <td>0.67</td>\n",
       "      <td>1.298701</td>\n",
       "    </tr>\n",
       "    <tr>\n",
       "      <th>디트로P : 애틀란H</th>\n",
       "      <td>0.60</td>\n",
       "      <td>1.162791</td>\n",
       "    </tr>\n",
       "    <tr>\n",
       "      <th>디트로P : 애틀란H</th>\n",
       "      <td>0.70</td>\n",
       "      <td>1.351351</td>\n",
       "    </tr>\n",
       "    <tr>\n",
       "      <th>뉴욕닉스 : 클리블C</th>\n",
       "      <td>2.04</td>\n",
       "      <td>5.000000</td>\n",
       "    </tr>\n",
       "    <tr>\n",
       "      <th>뉴욕닉스 : 클리블C</th>\n",
       "      <td>0.74</td>\n",
       "      <td>1.428571</td>\n",
       "    </tr>\n",
       "    <tr>\n",
       "      <th>미네울브 : 유타재즈</th>\n",
       "      <td>1.58</td>\n",
       "      <td>3.448276</td>\n",
       "    </tr>\n",
       "    <tr>\n",
       "      <th>미네울브 : 유타재즈</th>\n",
       "      <td>0.77</td>\n",
       "      <td>1.492537</td>\n",
       "    </tr>\n",
       "    <tr>\n",
       "      <th>오클라호 : 샌안토니</th>\n",
       "      <td>0.15</td>\n",
       "      <td>0.414938</td>\n",
       "    </tr>\n",
       "    <tr>\n",
       "      <th>오클라호 : 샌안토니</th>\n",
       "      <td>0.68</td>\n",
       "      <td>1.315789</td>\n",
       "    </tr>\n",
       "    <tr>\n",
       "      <th>밀워키벅 : 샬럿</th>\n",
       "      <td>0.92</td>\n",
       "      <td>1.785714</td>\n",
       "    </tr>\n",
       "    <tr>\n",
       "      <th>밀워키벅 : 샬럿</th>\n",
       "      <td>0.71</td>\n",
       "      <td>1.369863</td>\n",
       "    </tr>\n",
       "    <tr>\n",
       "      <th>피닉스 : 보스턴C</th>\n",
       "      <td>2.10</td>\n",
       "      <td>5.263158</td>\n",
       "    </tr>\n",
       "    <tr>\n",
       "      <th>피닉스 : 보스턴C</th>\n",
       "      <td>0.68</td>\n",
       "      <td>1.315789</td>\n",
       "    </tr>\n",
       "    <tr>\n",
       "      <th>포틀랜드 : 필라76</th>\n",
       "      <td>0.01</td>\n",
       "      <td>0.208768</td>\n",
       "    </tr>\n",
       "    <tr>\n",
       "      <th>포틀랜드 : 필라76</th>\n",
       "      <td>0.69</td>\n",
       "      <td>1.333333</td>\n",
       "    </tr>\n",
       "    <tr>\n",
       "      <th>KCC : 오리온스</th>\n",
       "      <td>0.72</td>\n",
       "      <td>1.388889</td>\n",
       "    </tr>\n",
       "    <tr>\n",
       "      <th>KCC : 오리온스</th>\n",
       "      <td>0.83</td>\n",
       "      <td>1.612903</td>\n",
       "    </tr>\n",
       "    <tr>\n",
       "      <th>KCC:오리온스</th>\n",
       "      <td>0.67</td>\n",
       "      <td>1.298701</td>\n",
       "    </tr>\n",
       "  </tbody>\n",
       "</table>\n",
       "</div>"
      ],
      "text/plain": [
       "             beta1     beta2\n",
       "브루클린 : 인디애나   1.86  4.347826\n",
       "브루클린 : 인디애나   0.68  1.315789\n",
       "올랜도 : 시카고B    1.09  2.173913\n",
       "올랜도 : 시카고B    0.71  1.369863\n",
       "뉴올리언 : 토론토R   2.41  6.666667\n",
       "뉴올리언 : 토론토R   0.67  1.298701\n",
       "디트로P : 애틀란H   0.60  1.162791\n",
       "디트로P : 애틀란H   0.70  1.351351\n",
       "뉴욕닉스 : 클리블C   2.04  5.000000\n",
       "뉴욕닉스 : 클리블C   0.74  1.428571\n",
       "미네울브 : 유타재즈   1.58  3.448276\n",
       "미네울브 : 유타재즈   0.77  1.492537\n",
       "오클라호 : 샌안토니   0.15  0.414938\n",
       "오클라호 : 샌안토니   0.68  1.315789\n",
       "밀워키벅 : 샬럿     0.92  1.785714\n",
       "밀워키벅 : 샬럿     0.71  1.369863\n",
       "피닉스 : 보스턴C    2.10  5.263158\n",
       "피닉스 : 보스턴C    0.68  1.315789\n",
       "포틀랜드 : 필라76   0.01  0.208768\n",
       "포틀랜드 : 필라76   0.69  1.333333\n",
       "KCC : 오리온스    0.72  1.388889\n",
       "KCC : 오리온스    0.83  1.612903\n",
       "KCC:오리온스      0.67  1.298701"
      ]
     },
     "execution_count": 450,
     "metadata": {},
     "output_type": "execute_result"
    }
   ],
   "source": [
    "DataFrame({'beta1':e,'beta2':r},index=b)"
   ]
  },
  {
   "cell_type": "code",
   "execution_count": 418,
   "metadata": {
    "collapsed": false,
    "scrolled": true
   },
   "outputs": [
    {
     "data": {
      "text/plain": [
       "True"
      ]
     },
     "execution_count": 418,
     "metadata": {},
     "output_type": "execute_result"
    }
   ],
   "source": [
    "1.86 >\n",
    "1/0.76"
   ]
  },
  {
   "cell_type": "code",
   "execution_count": 419,
   "metadata": {
    "collapsed": false,
    "scrolled": false
   },
   "outputs": [
    {
     "data": {
      "text/plain": [
       "1.3157894736842106"
      ]
     },
     "execution_count": 419,
     "metadata": {},
     "output_type": "execute_result"
    }
   ],
   "source": [
    "1/0.76"
   ]
  },
  {
   "cell_type": "code",
   "execution_count": null,
   "metadata": {
    "collapsed": true
   },
   "outputs": [],
   "source": []
  }
 ],
 "metadata": {
  "kernelspec": {
   "display_name": "Python 2",
   "language": "python",
   "name": "python2"
  },
  "language_info": {
   "codemirror_mode": {
    "name": "ipython",
    "version": 2
   },
   "file_extension": ".py",
   "mimetype": "text/x-python",
   "name": "python",
   "nbconvert_exporter": "python",
   "pygments_lexer": "ipython2",
   "version": "2.7.11"
  }
 },
 "nbformat": 4,
 "nbformat_minor": 0
}
