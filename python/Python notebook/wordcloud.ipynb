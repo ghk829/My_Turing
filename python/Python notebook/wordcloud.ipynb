{
 "cells": [
  {
   "cell_type": "code",
   "execution_count": 55,
   "metadata": {
    "collapsed": false
   },
   "outputs": [
    {
     "name": "stdout",
     "output_type": "stream",
     "text": [
      "[{'color': (199, 156, 34), 'size': 150, 'tag': 것},\n",
      " {'color': (118, 246, 222), 'size': 110, 'tag': 행사},\n",
      " {'color': (228, 85, 222), 'size': 80, 'tag': 술},\n",
      " {'color': (70, 173, 41), 'size': 60, 'tag': 학생},\n",
      " {'color': (165, 146, 158), 'size': 50, 'tag': 진행},\n",
      " {'color': (92, 222, 49), 'size': 50, 'tag': 후배},\n",
      " {'color': (203, 97, 250), 'size': 50, 'tag': 저},\n",
      " {'color': (72, 249, 81), 'size': 50, 'tag': 생각},\n",
      " {'color': (180, 56, 202), 'size': 40, 'tag': 전},\n",
      " {'color': (54, 24, 99), 'size': 40, 'tag': 글}]\n"
     ]
    }
   ],
   "source": [
    "# -*- coding: utf-8 -*-\n",
    "import konlpy\n",
    "from collections import Counter\n",
    "import urllib\n",
    "import random\n",
    "import webbrowser\n",
    "from konlpy.utils import pprint \n",
    "from konlpy.tag import Hannanum\n",
    "from lxml import html\n",
    "import pytagcloud # requires Korean font support\n",
    "import sys\n",
    "\n",
    "if sys.version_info[0] >= 3:\n",
    "    urlopen = urllib.request.urlopen\n",
    "else:\n",
    "    urlopen = urllib.urlopen\n",
    "\n",
    "\n",
    "r = lambda: random.randint(0,255)\n",
    "color = lambda: (r(), r(), r())\n",
    "\n",
    "\n",
    "def get_tags(text, ntags=10, multiplier=10):\n",
    "    h = Hannanum()\n",
    "    nouns = h.nouns(text)\n",
    "    count = Counter(nouns)\n",
    "    return [{ 'color': color(), 'tag': n, 'size': c*multiplier }\\\n",
    "                for n, c in count.most_common(ntags)]\n",
    "\n",
    "def draw_cloud(tags, filename, fontname='Noto Sans CJK', size=(800, 600)):\n",
    "    pytagcloud.create_tag_image(tags, filename, fontname=fontname, size=size)\n",
    "    webbrowser.open(filename)\n",
    "\n",
    "text = open('love.txt').read()\n",
    "tags = get_tags(text.decode('utf-8'))\n",
    "pprint(tags)\n",
    "draw_cloud(tags, 'wordcloud.png')\n"
   ]
  },
  {
   "cell_type": "code",
   "execution_count": 70,
   "metadata": {
    "collapsed": false
   },
   "outputs": [],
   "source": [
    "url = 'http://joongang.joins.com/'\n",
    "import urllib2\n",
    "from bs4 import BeautifulSoup as BT\n",
    "r = urllib2.urlopen(url)\n",
    "soup = BT(r)\n",
    "data = soup.findAll('li')\n",
    "txt = list()\n",
    "center = ''\n",
    "for w in data:\n",
    "    txt.append(w.get_text())\n",
    "for i in range(len(txt)):\n",
    "    center = center + txt[i]\n"
   ]
  },
  {
   "cell_type": "code",
   "execution_count": 121,
   "metadata": {
    "collapsed": false
   },
   "outputs": [
    {
     "name": "stdout",
     "output_type": "stream",
     "text": [
      "[{'color': (34, 119, 38), 'size': 60, 'tag': |},\n",
      " {'color': (120, 149, 223), 'size': 60, 'tag': 자},\n",
      " {'color': (60, 189, 16), 'size': 50, 'tag': 후보},\n",
      " {'color': (31, 178, 194), 'size': 40, 'tag': 그},\n",
      " {'color': (141, 57, 101), 'size': 40, 'tag': 수},\n",
      " {'color': (128, 111, 104), 'size': 30, 'tag': 여론조사},\n",
      " {'color': (136, 16, 56), 'size': 30, 'tag': 13명},\n",
      " {'color': (152, 232, 237), 'size': 30, 'tag': 마스터스},\n",
      " {'color': (3, 245, 67), 'size': 30, 'tag': 숲},\n",
      " {'color': (228, 79, 9), 'size': 30, 'tag': 4월},\n",
      " {'color': (166, 169, 156), 'size': 30, 'tag': 경제},\n",
      " {'color': (93, 53, 5), 'size': 30, 'tag': 北},\n",
      " {'color': (5, 50, 156), 'size': 30, 'tag': 2주},\n",
      " {'color': (116, 132, 227), 'size': 30, 'tag': 번},\n",
      " {'color': (42, 55, 228), 'size': 30, 'tag': 위작},\n",
      " {'color': (123, 233, 166), 'size': 30, 'tag': 책},\n",
      " {'color': (232, 148, 213), 'size': 30, 'tag': 세월호},\n",
      " {'color': (98, 117, 252), 'size': 30, 'tag': 총선},\n",
      " {'color': (218, 44, 156), 'size': 30, 'tag': 서울},\n",
      " {'color': (155, 39, 33), 'size': 30, 'tag': 출신}]\n"
     ]
    }
   ],
   "source": [
    "# -*- coding: utf-8 -*-\n",
    "import konlpy\n",
    "from collections import Counter\n",
    "import urllib\n",
    "import random\n",
    "import webbrowser\n",
    "from konlpy.utils import pprint \n",
    "from konlpy.tag import Hannanum\n",
    "from lxml import html\n",
    "import pytagcloud # requires Korean font support\n",
    "import sys\n",
    "\n",
    "if sys.version_info[0] >= 3:\n",
    "    urlopen = urllib.request.urlopen\n",
    "else:\n",
    "    urlopen = urllib.urlopen\n",
    "\n",
    "\n",
    "r = lambda: random.randint(0,255)\n",
    "color = lambda: (r(), r(), r())\n",
    "\n",
    "\n",
    "def get_tags(text, ntags=20, multiplier=10):\n",
    "    h = Hannanum()\n",
    "    nouns = h.nouns(text)\n",
    "    count = Counter(nouns)\n",
    "    return [{ 'color': color(), 'tag': n, 'size': c*multiplier }\\\n",
    "                for n, c in count.most_common(ntags)]\n",
    "\n",
    "def draw_cloud(tags, filename, fontname='Noto Sans CJK', size=(800, 600)):\n",
    "    pytagcloud.create_tag_image(tags, filename, fontname=fontname, size=size)\n",
    "    webbrowser.open(filename)\n",
    "\n",
    "tags = get_tags(center)\n",
    "pprint(tags)\n",
    "draw_cloud(tags, 'wordcloud.png')\n"
   ]
  },
  {
   "cell_type": "code",
   "execution_count": 75,
   "metadata": {
    "collapsed": true
   },
   "outputs": [],
   "source": [
    "url = 'http://www.chosun.com/'\n",
    "import urllib2\n",
    "from bs4 import BeautifulSoup as BT\n",
    "r = urllib2.urlopen(url)\n",
    "soup = BT(r)\n",
    "data = soup.findAll('dt')\n",
    "txt = list()\n",
    "chosun = ''\n",
    "for w in data:\n",
    "    txt.append(w.get_text())\n",
    "for i in range(len(txt)):\n",
    "    chosun = chosun + txt[i]"
   ]
  },
  {
   "cell_type": "code",
   "execution_count": 120,
   "metadata": {
    "collapsed": false
   },
   "outputs": [
    {
     "name": "stdout",
     "output_type": "stream",
     "text": [
      "[{'color': (212, 190, 219), 'size': 110, 'tag': 기자},\n",
      " {'color': (71, 148, 131), 'size': 60, 'tag': 이동휘},\n",
      " {'color': (18, 147, 198), 'size': 50, 'tag': 후예},\n",
      " {'color': (23, 229, 161), 'size': 40, 'tag': 태양},\n",
      " {'color': (36, 246, 140), 'size': 40, 'tag': 北},\n",
      " {'color': (255, 227, 60), 'size': 40, 'tag': 1위},\n",
      " {'color': (229, 171, 54), 'size': 40, 'tag': 내},\n",
      " {'color': (252, 77, 140), 'size': 30, 'tag': 것},\n",
      " {'color': (170, 70, 35), 'size': 30, 'tag': 손덕호},\n",
      " {'color': (222, 103, 5), 'size': 30, 'tag': 진짜},\n",
      " {'color': (69, 11, 125), 'size': 30, 'tag': 팀},\n",
      " {'color': (149, 222, 159), 'size': 30, 'tag': 가족},\n",
      " {'color': (249, 119, 150), 'size': 30, 'tag': 여성},\n",
      " {'color': (200, 44, 104), 'size': 30, 'tag': 치매},\n",
      " {'color': (205, 239, 241), 'size': 30, 'tag': 송원형},\n",
      " {'color': (229, 126, 23), 'size': 30, 'tag': 수},\n",
      " {'color': (95, 76, 139), 'size': 30, 'tag': 심판},\n",
      " {'color': (62, 62, 96), 'size': 20, 'tag': 회사},\n",
      " {'color': (147, 140, 179), 'size': 20, 'tag': 재벌},\n",
      " {'color': (173, 10, 153), 'size': 20, 'tag': 남성},\n",
      " {'color': (64, 225, 122), 'size': 20, 'tag': 마스터스},\n",
      " {'color': (19, 121, 249), 'size': 20, 'tag': 머리},\n",
      " {'color': (142, 99, 20), 'size': 20, 'tag': 고음질},\n",
      " {'color': (95, 61, 35), 'size': 20, 'tag': 해외},\n",
      " {'color': (211, 18, 46), 'size': 20, 'tag': 위안부},\n",
      " {'color': (243, 57, 49), 'size': 20, 'tag': 맛},\n",
      " {'color': (11, 36, 201), 'size': 20, 'tag': 세계},\n",
      " {'color': (45, 186, 83), 'size': 20, 'tag': 위험},\n",
      " {'color': (146, 126, 114), 'size': 20, 'tag': 추억},\n",
      " {'color': (115, 28, 229), 'size': 20, 'tag': 속},\n",
      " {'color': (32, 14, 198), 'size': 20, 'tag': 비주얼},\n",
      " {'color': (242, 79, 218), 'size': 20, 'tag': 학종},\n",
      " {'color': (174, 193, 56), 'size': 20, 'tag': 블루투스},\n",
      " {'color': (233, 227, 204), 'size': 20, 'tag': 우승},\n",
      " {'color': (193, 18, 244), 'size': 20, 'tag': 김정},\n",
      " {'color': (55, 2, 184), 'size': 20, 'tag': 말},\n",
      " {'color': (114, 194, 146), 'size': 20, 'tag': 역전승},\n",
      " {'color': (58, 171, 23), 'size': 20, 'tag': 주},\n",
      " {'color': (148, 108, 200), 'size': 20, 'tag': 최원우},\n",
      " {'color': (136, 186, 11), 'size': 20, 'tag': 朴대통령},\n",
      " {'color': (253, 5, 181), 'size': 20, 'tag': 현명},\n",
      " {'color': (148, 51, 60), 'size': 20, 'tag': 리},\n",
      " {'color': (201, 153, 69), 'size': 20, 'tag': 오늘},\n",
      " {'color': (151, 155, 248), 'size': 20, 'tag': 마지막},\n",
      " {'color': (1, 240, 84), 'size': 20, 'tag': 첫},\n",
      " {'color': (246, 86, 43), 'size': 20, 'tag': 연속},\n",
      " {'color': (29, 197, 169), 'size': 20, 'tag': 초대},\n",
      " {'color': (40, 191, 74), 'size': 20, 'tag': 아기},\n",
      " {'color': (152, 121, 12), 'size': 20, 'tag': 매출},\n",
      " {'color': (139, 187, 40), 'size': 20, 'tag': 벚꽃길}]\n"
     ]
    }
   ],
   "source": [
    "# -*- coding: utf-8 -*-\n",
    "import konlpy\n",
    "from collections import Counter\n",
    "import urllib\n",
    "import random\n",
    "import webbrowser\n",
    "from konlpy.utils import pprint \n",
    "from konlpy.tag import Hannanum\n",
    "from lxml import html\n",
    "import pytagcloud # requires Korean font support\n",
    "import sys\n",
    "\n",
    "if sys.version_info[0] >= 3:\n",
    "    urlopen = urllib.request.urlopen\n",
    "else:\n",
    "    urlopen = urllib.urlopen\n",
    "\n",
    "\n",
    "r = lambda: random.randint(0,255)\n",
    "color = lambda: (r(), r(), r())\n",
    "\n",
    "\n",
    "def get_tags(text, ntags=50, multiplier=10):\n",
    "    h = Hannanum()\n",
    "    nouns = h.nouns(text)\n",
    "    count = Counter(nouns)\n",
    "    return [{ 'color': color(), 'tag': n, 'size': c*multiplier }\\\n",
    "                for n, c in count.most_common(ntags)]\n",
    "\n",
    "def draw_cloud(tags, filename, fontname='Noto Sans CJK', size=(800, 600)):\n",
    "    pytagcloud.create_tag_image(tags, filename, fontname=fontname, size=size)\n",
    "    webbrowser.open(filename)\n",
    "\n",
    "tags = get_tags(chosun)\n",
    "pprint(tags)\n",
    "draw_cloud(tags[3:], 'wordcloud.png')\n"
   ]
  },
  {
   "cell_type": "code",
   "execution_count": 110,
   "metadata": {
    "collapsed": false
   },
   "outputs": [],
   "source": [
    "data=soup.findAll('a')"
   ]
  },
  {
   "cell_type": "code",
   "execution_count": 116,
   "metadata": {
    "collapsed": false
   },
   "outputs": [
    {
     "data": {
      "text/plain": [
       "u''"
      ]
     },
     "execution_count": 116,
     "metadata": {},
     "output_type": "execute_result"
    }
   ],
   "source": [
    "soup.find('dd')"
   ]
  },
  {
   "cell_type": "code",
   "execution_count": null,
   "metadata": {
    "collapsed": true
   },
   "outputs": [],
   "source": []
  }
 ],
 "metadata": {
  "kernelspec": {
   "display_name": "Python 2",
   "language": "python",
   "name": "python2"
  },
  "language_info": {
   "codemirror_mode": {
    "name": "ipython",
    "version": 2
   },
   "file_extension": ".py",
   "mimetype": "text/x-python",
   "name": "python",
   "nbconvert_exporter": "python",
   "pygments_lexer": "ipython2",
   "version": "2.7.11"
  }
 },
 "nbformat": 4,
 "nbformat_minor": 0
}
