{
 "cells": [
  {
   "cell_type": "code",
   "execution_count": 1,
   "metadata": {
    "collapsed": true
   },
   "outputs": [],
   "source": [
    "#-*- coding: UTF-8 -*-\n",
    "from selenium import webdriver\n",
    "from selenium.webdriver.common.keys import Keys\n",
    "from selenium.webdriver.common.by import By\n",
    "from selenium.webdriver.common.action_chains import ActionChains\n",
    "chrome_path = r'C:\\Users\\kikun\\Desktop\\chromedriver.exe'\n",
    "driver = webdriver.Chrome(chrome_path)"
   ]
  },
  {
   "cell_type": "code",
   "execution_count": 2,
   "metadata": {
    "collapsed": false
   },
   "outputs": [],
   "source": [
    "import os\n",
    "import re\n",
    "import pandas as pd\n",
    "from pandas import DataFrame, Series\n",
    "import matplotlib.pyplot as plt\n",
    "import numpy as np\n",
    "from sklearn import datasets, linear_model\n",
    "import scipy as sci\n",
    "os.chdir('C:\\Users\\kikun\\Desktop\\watcha data')\n",
    "os.getcwd()\n",
    "%matplotlib inline"
   ]
  },
  {
   "cell_type": "code",
   "execution_count": 3,
   "metadata": {
    "collapsed": true
   },
   "outputs": [],
   "source": [
    "driver.get('http://www.watcha.net')"
   ]
  },
  {
   "cell_type": "code",
   "execution_count": 4,
   "metadata": {
    "collapsed": true
   },
   "outputs": [],
   "source": [
    "driver.find_element_by_xpath('''//*[@id=\"contents\"]/div[3]/div[2]/span[2]/a''').click()"
   ]
  },
  {
   "cell_type": "code",
   "execution_count": 6,
   "metadata": {
    "collapsed": true
   },
   "outputs": [],
   "source": [
    "elem = driver.find_element_by_id('user_email')\n",
    "elem.send_keys(\"ghk829@hanmail.net\")\n",
    "elem = driver.find_element_by_id('user_password')\n",
    "elem.send_keys('90qwnmas7')\n",
    "elem.submit()"
   ]
  },
  {
   "cell_type": "code",
   "execution_count": 7,
   "metadata": {
    "collapsed": true
   },
   "outputs": [],
   "source": [
    "elem = driver.find_element_by_id('input-query')\n",
    "elem.send_keys('love')\n",
    "elem.submit()"
   ]
  },
  {
   "cell_type": "code",
   "execution_count": 35,
   "metadata": {
    "collapsed": false,
    "scrolled": true
   },
   "outputs": [],
   "source": [
    "for i in range(1,10000):\n",
    "    driver.execute_script(\"window.scrollTo(0, document.body.scrollHeight);\")"
   ]
  },
  {
   "cell_type": "code",
   "execution_count": 36,
   "metadata": {
    "collapsed": false
   },
   "outputs": [],
   "source": [
    "from bs4 import BeautifulSoup as BT\n",
    "import urllib2\n",
    "soup = BT(driver.page_source)\n",
    "datas = soup.findAll('div',attrs={'class':'search-footer'})"
   ]
  },
  {
   "cell_type": "code",
   "execution_count": 37,
   "metadata": {
    "collapsed": false
   },
   "outputs": [],
   "source": [
    "href = list()\n",
    "for i in range(len(datas)):\n",
    "    href.append(datas[i].find('a')['href'])\n",
    "original = list()\n",
    "for i in range(len(datas)):\n",
    "    original.append('https://watcha.net')\n",
    "for i in range(len(datas)):\n",
    "    original[i] = original[i] + href[i]    "
   ]
  },
  {
   "cell_type": "code",
   "execution_count": null,
   "metadata": {
    "collapsed": true
   },
   "outputs": [],
   "source": [
    "#####################################################################################\n",
    "# for get the distribution of datas"
   ]
  },
  {
   "cell_type": "code",
   "execution_count": null,
   "metadata": {
    "collapsed": false,
    "scrolled": false
   },
   "outputs": [],
   "source": [
    "names = list()\n",
    "rt = list()\n",
    "for i in range(len(href)):\n",
    "    print str(i+1)+'th'\n",
    "    print re.split('/',original[i])[-2]\n",
    "    r = urllib2.urlopen(original[i])\n",
    "    soup = BT(r)\n",
    "    data = soup.find('div',attrs={'class':'rating-chart-wrapper'})['data-distribution']\n",
    "    dt=re.findall(':[^\"|^,|^}]{1,6}',data)\n",
    "    index= range(1,11)\n",
    "    score = list()\n",
    "    names.append(re.split('/',original[i])[-2]+'.csv')\n",
    "    text = soup.find('div',attrs={'class':'desc'}).getText()\n",
    "    time = re.split(',',text)[-1]\n",
    "    if len(re.split('\\W',time)) == 6 : rt.append(int(re.split('\\W',time)[1])*60+int(re.split('\\W',time)[4])) \n",
    "    else : rt.append('no_rt')\n",
    "    for d in dt:\n",
    "        score.append(int(re.split(':',d)[-1]))\n",
    "        watcha=DataFrame(score,range(1,len(score)+1))\n",
    "        watcha.to_csv(re.split('/',original[i])[-2]+'.csv')\n",
    "    print 'complete~'"
   ]
  },
  {
   "cell_type": "code",
   "execution_count": null,
   "metadata": {
    "collapsed": true
   },
   "outputs": [],
   "source": [
    "###################################################################################################################\n",
    "# for Regression model"
   ]
  },
  {
   "cell_type": "code",
   "execution_count": 38,
   "metadata": {
    "collapsed": false,
    "scrolled": true
   },
   "outputs": [
    {
     "name": "stdout",
     "output_type": "stream",
     "text": [
      "1th\n",
      "patutigi-love-and-peace-2007\n",
      "finish~~\n",
      "2th\n",
      "jia-mian-raida-kabuto-god-2006\n",
      "finish~~\n",
      "3th\n",
      "mo-ninguniang-xin-chun-2002\n",
      "finish~~\n",
      "4th\n",
      "plastic-love-2015\n",
      "finish~~\n",
      "5th\n",
      "love-orchestra-2012\n",
      "finish~~\n",
      "6th\n",
      "love-actually-2003\n",
      "finish~~\n",
      "7th\n",
      "bancangggo-2012\n",
      "finish~~\n",
      "8th\n",
      "love-letter-1995\n",
      "finish~~\n",
      "9th\n",
      "reobeupigsyeon-2011\n",
      "finish~~\n",
      "10th\n",
      "love-2012\n",
      "finish~~\n",
      "11th\n",
      "g-love-2011\n",
      "finish~~\n",
      "12th\n",
      "love-1999\n",
      "finish~~\n",
      "13th\n",
      "rosie-2014\n",
      "finish~~\n",
      "14th\n",
      "eumcikeulrinig-2012\n",
      "finish~~\n",
      "15th\n",
      "a-love-2007\n",
      "finish~~\n",
      "16th\n",
      "love-now-2007\n",
      "finish~~\n",
      "17th\n",
      "almost-love-2006\n",
      "finish~~\n",
      "18th\n",
      "love-affair-1994\n",
      "finish~~\n",
      "19th\n",
      "my-love-2007\n",
      "finish~~\n",
      "20th\n",
      "love-story-1970\n",
      "finish~~\n",
      "21th\n",
      "purpose-of-love-2005\n",
      "finish~~\n",
      "22th\n",
      "love-song-1998\n",
      "finish~~\n",
      "23th\n",
      "all-for-love-2005\n",
      "finish~~\n",
      "24th\n",
      "love-and-other-drugs-2010\n",
      "finish~~\n",
      "25th\n",
      "love-so-divine-2004\n",
      "finish~~\n",
      "26th\n",
      "balcighan-geunyeo-2014\n",
      "finish~~\n",
      "27th\n",
      "nayi-sarang-nayi-sinbu-2014\n",
      "finish~~\n",
      "28th\n",
      "the-scent-of-love-2003\n",
      "finish~~\n",
      "29th\n",
      "fair-love-2009\n",
      "finish~~\n",
      "30th\n",
      "love-phobia-2006\n",
      "finish~~\n",
      "31th\n",
      "shakespeare-in-love-1998\n",
      "finish~~\n",
      "32th\n",
      "to-rome-with-love-2012\n",
      "finish~~\n",
      "33th\n",
      "ps-i-love-you-2007\n",
      "finish~~\n",
      "34th\n",
      "eat-pray-love-2010\n",
      "finish~~\n",
      "35th\n",
      "between-love-and-hate-2006\n",
      "finish~~\n",
      "36th\n",
      "love-lesson-2013\n",
      "finish~~\n",
      "37th\n",
      "love-exposure-2008\n",
      "finish~~\n",
      "38th\n",
      "love-in-magic-2005\n",
      "finish~~\n",
      "39th\n",
      "secret-love-2010\n",
      "finish~~\n",
      "40th\n",
      "crazy-stupid-love-2011\n",
      "finish~~\n",
      "41th\n",
      "a-lot-like-love-2005\n",
      "finish~~\n",
      "42th\n",
      "ru-guo-ai-perhaps-love-2005\n",
      "finish~~\n",
      "43th\n",
      "a-millionaires-first-2006\n",
      "finish~~\n",
      "44th\n",
      "crazy-first-love-2003\n",
      "finish~~\n",
      "45th\n",
      "love-object-2003\n",
      "finish~~\n",
      "46th\n",
      "lost-in-love-2006\n",
      "finish~~\n",
      "47th\n",
      "from-paris-with-love-2010\n",
      "finish~~\n",
      "48th\n",
      "love-2015\n",
      "finish~~\n",
      "49th\n",
      "punch-drunk-love-2002\n",
      "finish~~\n",
      "50th\n",
      "comrades-almost-a-love-1996\n",
      "finish~~\n",
      "51th\n",
      "love-and-other-disasters-2006\n",
      "finish~~\n",
      "52th\n",
      "in-the-mood-for-love-2000\n",
      "finish~~\n",
      "53th\n",
      "endless-love-2014\n",
      "finish~~\n",
      "54th\n",
      "i-am-love-2009\n",
      "finish~~\n",
      "55th\n",
      "quantum-love-2014\n",
      "finish~~\n",
      "56th\n",
      "love-exposure-2007\n",
      "finish~~\n",
      "57th\n",
      "love-me-if-you-dare-2003\n",
      "finish~~\n",
      "58th\n",
      "ceossarang-2006\n",
      "finish~~\n",
      "59th\n",
      "the-truth-about-love-2004\n",
      "finish~~\n",
      "60th\n",
      "rabu-kon-love-com-2006\n",
      "finish~~\n",
      "61th\n",
      "i-love-you-2009\n",
      "finish~~\n",
      "62th\n",
      "my-bride-1990\n",
      "finish~~\n",
      "63th\n",
      "nailed-2014\n",
      "finish~~\n",
      "64th\n",
      "i-love-you-phillip-2009\n",
      "finish~~\n",
      "65th\n",
      "traces-of-love-2006\n",
      "finish~~\n",
      "66th\n",
      "love-me-not-2006\n",
      "finish~~\n",
      "67th\n",
      "love-underneath-2010\n",
      "finish~~\n",
      "68th\n",
      "viva-love-2008\n",
      "finish~~\n",
      "69th\n",
      "paradise-love-2012\n",
      "finish~~\n",
      "70th\n",
      "stuck-in-love-2012\n",
      "finish~~\n",
      "71th\n",
      "how-to-keep-my-love-2004\n",
      "finish~~\n",
      "72th\n",
      "down-with-love-2003\n",
      "finish~~\n",
      "73th\n",
      "my-love-2006\n",
      "finish~~\n",
      "74th\n",
      "dont-cross-that-river-2014\n",
      "finish~~\n",
      "75th\n",
      "love-2011\n",
      "finish~~\n",
      "76th\n",
      "ghost-in-love-1999\n",
      "finish~~\n",
      "77th\n",
      "love-at-sarang-2007\n",
      "finish~~\n",
      "78th\n",
      "from-russia-with-love-1963\n",
      "finish~~\n",
      "79th\n",
      "first-love-1993\n",
      "finish~~\n",
      "80th\n",
      "capitalism-a-love-story-2009\n",
      "finish~~\n",
      "81th\n",
      "addicted-to-love-1997\n",
      "finish~~\n",
      "82th\n",
      "like-someone-in-love-2012\n",
      "finish~~\n",
      "83th\n",
      "pilreumsidaesarang-2015\n",
      "finish~~\n",
      "84th\n",
      "love-songs-2007\n",
      "finish~~\n",
      "85th\n",
      "love-and-mercy-2014\n",
      "finish~~\n",
      "86th\n",
      "hiroshima-my-love-1959\n",
      "finish~~\n",
      "87th\n",
      "a-short-love-affair-1990\n",
      "finish~~\n",
      "88th\n",
      "i-give-my-first-love-to-2009\n",
      "finish~~\n",
      "89th\n",
      "look-of-love-2013\n",
      "finish~~\n",
      "90th\n",
      "mind-and-love-2009\n",
      "finish~~\n",
      "91th\n",
      "tamako-love-story-2014\n",
      "finish~~\n",
      "92th\n",
      "love-talk-2005\n",
      "finish~~\n",
      "93th\n",
      "the-sweet-sex-and-love-2003\n",
      "finish~~\n",
      "94th\n",
      "love-recipe-2008\n",
      "finish~~\n",
      "95th\n",
      "dian-che-nan-a-true-love-2005\n",
      "finish~~\n",
      "96th\n",
      "sukitte-ii-na-yo-2014\n",
      "finish~~\n",
      "97th\n",
      "enduring-love-2004\n",
      "finish~~\n",
      "98th\n",
      "hello-my-love-2009\n",
      "finish~~\n",
      "99th\n",
      "canone-inverso-making-2000\n",
      "finish~~\n",
      "100th\n",
      "man-2009\n",
      "finish~~\n",
      "101th\n",
      "sunshine-love-2013\n",
      "finish~~\n",
      "102th\n",
      "love-never-dies-2012\n",
      "finish~~\n",
      "103th\n",
      "love-lasts-three-years-2011\n",
      "finish~~\n",
      "104th\n",
      "love-docu-2014\n",
      "finish~~\n",
      "105th\n",
      "everyone-says-i-love-you-1996\n",
      "finish~~\n",
      "106th\n",
      "a-short-film-about-love-1988\n",
      "finish~~\n",
      "107th\n",
      "wansosa-2013\n",
      "finish~~\n",
      "108th\n",
      "marilyn-2012\n",
      "finish~~\n",
      "109th\n",
      "love-is-in-the-air-2013\n",
      "finish~~\n",
      "110th\n",
      "close-range-love-2014\n",
      "finish~~\n",
      "111th\n",
      "love-of-south-and-north-2003\n",
      "finish~~\n",
      "112th\n",
      "meat-love-1989\n",
      "finish~~\n",
      "113th\n",
      "lost-love-1991\n",
      "finish~~\n",
      "114th\n",
      "love-in-42-dot-9-2012\n",
      "finish~~\n",
      "115th\n",
      "reobeu-po-seil-2011\n",
      "finish~~\n",
      "116th\n",
      "love-and-sex-2000\n",
      "finish~~\n",
      "117th\n",
      "no-greater-love-2009-1\n",
      "finish~~\n",
      "118th\n",
      "milocrorze-a-love-story-2012\n",
      "finish~~\n",
      "119th\n",
      "all-that-i-love-2009\n",
      "finish~~\n",
      "120th\n",
      "love-punch-2013\n",
      "finish~~\n",
      "121th\n",
      "ukulele-love-together-2011\n",
      "finish~~\n",
      "122th\n",
      "po-huai-zhi-wang-love-on-1994\n",
      "finish~~\n",
      "123th\n",
      "lethal-weapon-3-1992\n",
      "finish~~\n",
      "124th\n",
      "love-is-a-crazy-thing-2005\n",
      "finish~~\n",
      "125th\n",
      "true-love-2012\n",
      "finish~~\n",
      "126th\n",
      "with-love-1967\n",
      "finish~~\n",
      "127th\n",
      "love-is-protein-2008\n",
      "finish~~\n",
      "128th\n",
      "love-is-all-you-need-2012\n",
      "finish~~\n",
      "129th\n",
      "for-love-of-the-game-1999\n",
      "finish~~\n",
      "130th\n",
      "endless-love-1981\n",
      "finish~~\n",
      "131th\n",
      "love-games-2012\n",
      "finish~~\n",
      "132th\n",
      "first-love-2010\n",
      "finish~~\n",
      "133th\n",
      "love-in-the-afternoon-1957\n",
      "finish~~\n",
      "134th\n",
      "their-last-love-affair-1996\n",
      "finish~~\n",
      "135th\n",
      "100-2010\n",
      "finish~~\n",
      "136th\n",
      "initiation-love-2015\n",
      "finish~~\n",
      "137th\n",
      "love-fight-2008\n",
      "finish~~\n",
      "138th\n",
      "love-come-2010\n",
      "finish~~\n",
      "139th\n",
      "love-scene-2013\n",
      "finish~~\n",
      "140th\n",
      "kabukicho-love-hotel-2014\n",
      "finish~~\n",
      "141th\n",
      "love-and-death-1975\n",
      "finish~~\n",
      "142th\n",
      "in-love-and-war-1996\n",
      "finish~~\n",
      "143th\n",
      "like-son-2011\n",
      "finish~~\n",
      "144th\n",
      "another-love-song-2005\n",
      "finish~~\n",
      "145th\n",
      "love-streams-1984\n",
      "finish~~\n",
      "146th\n",
      "love-crime-2010\n",
      "finish~~\n",
      "147th\n",
      "love-1971\n",
      "finish~~\n",
      "148th\n",
      "the-edge-of-love-2008\n",
      "finish~~\n",
      "149th\n",
      "love-story-1996\n",
      "finish~~\n",
      "150th\n",
      "sea-of-love-1989\n",
      "finish~~\n"
     ]
    }
   ],
   "source": [
    "names = list()\n",
    "rt = list()\n",
    "score = list()\n",
    "for i in range(len(href)):\n",
    "    print str(i+1)+'th'\n",
    "    print re.split('/',original[i])[-2]\n",
    "    r = urllib2.urlopen(original[i])\n",
    "    soup = BT(r)\n",
    "    names.append(re.split('/',original[i])[-2])\n",
    "    text = soup.find('div',attrs={'class':'desc'}).getText()\n",
    "    time = re.split(',',text)[-1]\n",
    "    if len(re.split('\\W',time)) == 6 : rt.append(int(re.split('\\W',time)[1])*60+int(re.split('\\W',time)[4])) \n",
    "    else : rt.append(0)\n",
    "    sc = soup.find('span',attrs={'class':'number'}).getText()\n",
    "    score.append(float(sc))\n",
    "    print 'finish~~'"
   ]
  },
  {
   "cell_type": "code",
   "execution_count": 104,
   "metadata": {
    "collapsed": false,
    "scrolled": false
   },
   "outputs": [],
   "source": [
    "d=DataFrame({'running_time':rt,'score':score},index=names)\n",
    "import numpy as np\n",
    "import matplotlib.pyplot as plt\n",
    "from sklearn.cluster import KMeans\n",
    "d.shape[0]\n",
    "random_state = d.shape[0]"
   ]
  },
  {
   "cell_type": "code",
   "execution_count": 112,
   "metadata": {
    "collapsed": false
   },
   "outputs": [],
   "source": [
    "random_state = d.shape[0]\n",
    "x = d['running_time'].get_values() ; y=d['score'].get_values()\n",
    "d = d[d.ix[:,0]>0]\n",
    "y_pred = KMeans(n_clusters=2, random_state=random_state).fit_predict(d)"
   ]
  },
  {
   "cell_type": "code",
   "execution_count": 113,
   "metadata": {
    "collapsed": false
   },
   "outputs": [
    {
     "data": {
      "text/plain": [
       "<matplotlib.collections.PathCollection at 0x23201240>"
      ]
     },
     "execution_count": 113,
     "metadata": {},
     "output_type": "execute_result"
    },
    {
     "data": {
      "image/png": "[encoded data removed]",
      "text/plain": [
       "<matplotlib.figure.Figure at 0x208837f0>"
      ]
     },
     "metadata": {},
     "output_type": "display_data"
    }
   ],
   "source": [
    "plt.scatter(x,y,c=y_pred)"
   ]
  },
  {
   "cell_type": "code",
   "execution_count": 21,
   "metadata": {
    "collapsed": false
   },
   "outputs": [
    {
     "data": {
      "text/plain": [
       "array([  2.51601462e-03,   2.78177406e+00])"
      ]
     },
     "execution_count": 21,
     "metadata": {},
     "output_type": "execute_result"
    }
   ],
   "source": [
    "slope = sci.stats.linregress(x,y)\n",
    "p1=sci.polyfit(x,y,1) ;p1"
   ]
  },
  {
   "cell_type": "code",
   "execution_count": 114,
   "metadata": {
    "collapsed": false,
    "scrolled": false
   },
   "outputs": [
    {
     "data": {
      "text/plain": [
       "[<matplotlib.lines.Line2D at 0x237044e0>]"
      ]
     },
     "execution_count": 114,
     "metadata": {},
     "output_type": "execute_result"
    },
    {
     "data": {
      "image/png": "[encoded data removed]",
      "text/plain": [
       "<matplotlib.figure.Figure at 0x22e076d8>"
      ]
     },
     "metadata": {},
     "output_type": "display_data"
    }
   ],
   "source": [
    "plt.plot(x,y,'o')\n",
    "plt.plot(x,sci.polyval(p1,x),'r-')"
   ]
  },
  {
   "cell_type": "code",
   "execution_count": 17,
   "metadata": {
    "collapsed": false,
    "scrolled": true
   },
   "outputs": [
    {
     "data": {
      "text/plain": [
       "{'boxes': [<matplotlib.lines.Line2D at 0x21c406d8>],\n",
       " 'caps': [<matplotlib.lines.Line2D at 0x21c4e438>,\n",
       "  <matplotlib.lines.Line2D at 0x21c4e9b0>],\n",
       " 'fliers': [<matplotlib.lines.Line2D at 0x21c5c4e0>],\n",
       " 'means': [],\n",
       " 'medians': [<matplotlib.lines.Line2D at 0x21c4ef28>],\n",
       " 'whiskers': [<matplotlib.lines.Line2D at 0x21c40898>,\n",
       "  <matplotlib.lines.Line2D at 0x21c40e80>]}"
      ]
     },
     "execution_count": 17,
     "metadata": {},
     "output_type": "execute_result"
    },
    {
     "data": {
      "image/png": "[encoded data removed]",
      "text/plain": [
       "<matplotlib.figure.Figure at 0x2185e080>"
      ]
     },
     "metadata": {},
     "output_type": "display_data"
    }
   ],
   "source": [
    "plt.boxplot(x)"
   ]
  },
  {
   "cell_type": "code",
   "execution_count": 19,
   "metadata": {
    "collapsed": false,
    "scrolled": true
   },
   "outputs": [
    {
     "data": {
      "text/plain": [
       "(array([ 1.,  5.,  2.,  2.,  4.,  7.,  1.,  1.,  1.,  2.]),\n",
       " array([ 2.2 ,  2.39,  2.58,  2.77,  2.96,  3.15,  3.34,  3.53,  3.72,\n",
       "         3.91,  4.1 ]),\n",
       " <a list of 10 Patch objects>)"
      ]
     },
     "execution_count": 19,
     "metadata": {},
     "output_type": "execute_result"
    },
    {
     "data": {
      "image/png": "[encoded data removed]",
      "text/plain": [
       "<matplotlib.figure.Figure at 0x21f39e48>"
      ]
     },
     "metadata": {},
     "output_type": "display_data"
    }
   ],
   "source": [
    "plt.hist(y)"
   ]
  },
  {
   "cell_type": "code",
   "execution_count": 97,
   "metadata": {
    "collapsed": true
   },
   "outputs": [],
   "source": [
    "#####################################################\n",
    "# Getting the data"
   ]
  },
  {
   "cell_type": "code",
   "execution_count": 53,
   "metadata": {
    "collapsed": false
   },
   "outputs": [],
   "source": [
    "data1=pd.read_csv('state-of-play-2009.csv',names=['score']).ix[1:]"
   ]
  },
  {
   "cell_type": "code",
   "execution_count": 54,
   "metadata": {
    "collapsed": true
   },
   "outputs": [],
   "source": [
    "data1=data1/data1.apply(sum)"
   ]
  },
  {
   "cell_type": "code",
   "execution_count": 55,
   "metadata": {
    "collapsed": false
   },
   "outputs": [
    {
     "data": {
      "text/plain": [
       "<matplotlib.axes._subplots.AxesSubplot at 0x20db0ef0>"
      ]
     },
     "execution_count": 55,
     "metadata": {},
     "output_type": "execute_result"
    },
    {
     "data": {
      "image/png": "[encoded data removed]",
      "text/plain": [
       "<matplotlib.figure.Figure at 0x20dae080>"
      ]
     },
     "metadata": {},
     "output_type": "display_data"
    }
   ],
   "source": [
    "data1.plot(kind='bar')"
   ]
  },
  {
   "cell_type": "code",
   "execution_count": 336,
   "metadata": {
    "collapsed": true
   },
   "outputs": [],
   "source": [
    "plt.show()"
   ]
  },
  {
   "cell_type": "code",
   "execution_count": 56,
   "metadata": {
    "collapsed": false
   },
   "outputs": [],
   "source": [
    "k = 0 \n",
    "for i in range(1,11):\n",
    "    k+=data1.index[i-1] * data1.ix[i]"
   ]
  },
  {
   "cell_type": "code",
   "execution_count": 57,
   "metadata": {
    "collapsed": false,
    "scrolled": true
   },
   "outputs": [
    {
     "ename": "ValueError",
     "evalue": "could not convert string to float: score",
     "output_type": "error",
     "traceback": [
      "\u001b[1;31m---------------------------------------------------------------------------\u001b[0m",
      "\u001b[1;31mValueError\u001b[0m                                Traceback (most recent call last)",
      "\u001b[1;32m<ipython-input-57-c4a1c094e908>\u001b[0m in \u001b[0;36m<module>\u001b[1;34m()\u001b[0m\n\u001b[1;32m----> 1\u001b[1;33m \u001b[0mplt\u001b[0m\u001b[1;33m.\u001b[0m\u001b[0mplot\u001b[0m\u001b[1;33m(\u001b[0m\u001b[0mk\u001b[0m\u001b[1;33m)\u001b[0m\u001b[1;33m\u001b[0m\u001b[0m\n\u001b[0m",
      "\u001b[1;32mC:\\Users\\kikun\\Anaconda2\\lib\\site-packages\\matplotlib\\pyplot.pyc\u001b[0m in \u001b[0;36mplot\u001b[1;34m(*args, **kwargs)\u001b[0m\n\u001b[0;32m   3152\u001b[0m         \u001b[0max\u001b[0m\u001b[1;33m.\u001b[0m\u001b[0mhold\u001b[0m\u001b[1;33m(\u001b[0m\u001b[0mhold\u001b[0m\u001b[1;33m)\u001b[0m\u001b[1;33m\u001b[0m\u001b[0m\n\u001b[0;32m   3153\u001b[0m     \u001b[1;32mtry\u001b[0m\u001b[1;33m:\u001b[0m\u001b[1;33m\u001b[0m\u001b[0m\n\u001b[1;32m-> 3154\u001b[1;33m         \u001b[0mret\u001b[0m \u001b[1;33m=\u001b[0m \u001b[0max\u001b[0m\u001b[1;33m.\u001b[0m\u001b[0mplot\u001b[0m\u001b[1;33m(\u001b[0m\u001b[1;33m*\u001b[0m\u001b[0margs\u001b[0m\u001b[1;33m,\u001b[0m \u001b[1;33m**\u001b[0m\u001b[0mkwargs\u001b[0m\u001b[1;33m)\u001b[0m\u001b[1;33m\u001b[0m\u001b[0m\n\u001b[0m\u001b[0;32m   3155\u001b[0m     \u001b[1;32mfinally\u001b[0m\u001b[1;33m:\u001b[0m\u001b[1;33m\u001b[0m\u001b[0m\n\u001b[0;32m   3156\u001b[0m         \u001b[0max\u001b[0m\u001b[1;33m.\u001b[0m\u001b[0mhold\u001b[0m\u001b[1;33m(\u001b[0m\u001b[0mwashold\u001b[0m\u001b[1;33m)\u001b[0m\u001b[1;33m\u001b[0m\u001b[0m\n",
      "\u001b[1;32mC:\\Users\\kikun\\Anaconda2\\lib\\site-packages\\matplotlib\\__init__.pyc\u001b[0m in \u001b[0;36minner\u001b[1;34m(ax, *args, **kwargs)\u001b[0m\n\u001b[0;32m   1808\u001b[0m                     warnings.warn(msg % (label_namer, func.__name__),\n\u001b[0;32m   1809\u001b[0m                                   RuntimeWarning, stacklevel=2)\n\u001b[1;32m-> 1810\u001b[1;33m             \u001b[1;32mreturn\u001b[0m \u001b[0mfunc\u001b[0m\u001b[1;33m(\u001b[0m\u001b[0max\u001b[0m\u001b[1;33m,\u001b[0m \u001b[1;33m*\u001b[0m\u001b[0margs\u001b[0m\u001b[1;33m,\u001b[0m \u001b[1;33m**\u001b[0m\u001b[0mkwargs\u001b[0m\u001b[1;33m)\u001b[0m\u001b[1;33m\u001b[0m\u001b[0m\n\u001b[0m\u001b[0;32m   1811\u001b[0m         \u001b[0mpre_doc\u001b[0m \u001b[1;33m=\u001b[0m \u001b[0minner\u001b[0m\u001b[1;33m.\u001b[0m\u001b[0m__doc__\u001b[0m\u001b[1;33m\u001b[0m\u001b[0m\n\u001b[0;32m   1812\u001b[0m         \u001b[1;32mif\u001b[0m \u001b[0mpre_doc\u001b[0m \u001b[1;32mis\u001b[0m \u001b[0mNone\u001b[0m\u001b[1;33m:\u001b[0m\u001b[1;33m\u001b[0m\u001b[0m\n",
      "\u001b[1;32mC:\\Users\\kikun\\Anaconda2\\lib\\site-packages\\matplotlib\\axes\\_axes.pyc\u001b[0m in \u001b[0;36mplot\u001b[1;34m(self, *args, **kwargs)\u001b[0m\n\u001b[0;32m   1426\u001b[0m \u001b[1;33m\u001b[0m\u001b[0m\n\u001b[0;32m   1427\u001b[0m         \u001b[1;32mfor\u001b[0m \u001b[0mline\u001b[0m \u001b[1;32min\u001b[0m \u001b[0mself\u001b[0m\u001b[1;33m.\u001b[0m\u001b[0m_get_lines\u001b[0m\u001b[1;33m(\u001b[0m\u001b[1;33m*\u001b[0m\u001b[0margs\u001b[0m\u001b[1;33m,\u001b[0m \u001b[1;33m**\u001b[0m\u001b[0mkwargs\u001b[0m\u001b[1;33m)\u001b[0m\u001b[1;33m:\u001b[0m\u001b[1;33m\u001b[0m\u001b[0m\n\u001b[1;32m-> 1428\u001b[1;33m             \u001b[0mself\u001b[0m\u001b[1;33m.\u001b[0m\u001b[0madd_line\u001b[0m\u001b[1;33m(\u001b[0m\u001b[0mline\u001b[0m\u001b[1;33m)\u001b[0m\u001b[1;33m\u001b[0m\u001b[0m\n\u001b[0m\u001b[0;32m   1429\u001b[0m             \u001b[0mlines\u001b[0m\u001b[1;33m.\u001b[0m\u001b[0mappend\u001b[0m\u001b[1;33m(\u001b[0m\u001b[0mline\u001b[0m\u001b[1;33m)\u001b[0m\u001b[1;33m\u001b[0m\u001b[0m\n\u001b[0;32m   1430\u001b[0m \u001b[1;33m\u001b[0m\u001b[0m\n",
      "\u001b[1;32mC:\\Users\\kikun\\Anaconda2\\lib\\site-packages\\matplotlib\\axes\\_base.pyc\u001b[0m in \u001b[0;36madd_line\u001b[1;34m(self, line)\u001b[0m\n\u001b[0;32m   1697\u001b[0m             \u001b[0mline\u001b[0m\u001b[1;33m.\u001b[0m\u001b[0mset_clip_path\u001b[0m\u001b[1;33m(\u001b[0m\u001b[0mself\u001b[0m\u001b[1;33m.\u001b[0m\u001b[0mpatch\u001b[0m\u001b[1;33m)\u001b[0m\u001b[1;33m\u001b[0m\u001b[0m\n\u001b[0;32m   1698\u001b[0m \u001b[1;33m\u001b[0m\u001b[0m\n\u001b[1;32m-> 1699\u001b[1;33m         \u001b[0mself\u001b[0m\u001b[1;33m.\u001b[0m\u001b[0m_update_line_limits\u001b[0m\u001b[1;33m(\u001b[0m\u001b[0mline\u001b[0m\u001b[1;33m)\u001b[0m\u001b[1;33m\u001b[0m\u001b[0m\n\u001b[0m\u001b[0;32m   1700\u001b[0m         \u001b[1;32mif\u001b[0m \u001b[1;32mnot\u001b[0m \u001b[0mline\u001b[0m\u001b[1;33m.\u001b[0m\u001b[0mget_label\u001b[0m\u001b[1;33m(\u001b[0m\u001b[1;33m)\u001b[0m\u001b[1;33m:\u001b[0m\u001b[1;33m\u001b[0m\u001b[0m\n\u001b[0;32m   1701\u001b[0m             \u001b[0mline\u001b[0m\u001b[1;33m.\u001b[0m\u001b[0mset_label\u001b[0m\u001b[1;33m(\u001b[0m\u001b[1;34m'_line%d'\u001b[0m \u001b[1;33m%\u001b[0m \u001b[0mlen\u001b[0m\u001b[1;33m(\u001b[0m\u001b[0mself\u001b[0m\u001b[1;33m.\u001b[0m\u001b[0mlines\u001b[0m\u001b[1;33m)\u001b[0m\u001b[1;33m)\u001b[0m\u001b[1;33m\u001b[0m\u001b[0m\n",
      "\u001b[1;32mC:\\Users\\kikun\\Anaconda2\\lib\\site-packages\\matplotlib\\axes\\_base.pyc\u001b[0m in \u001b[0;36m_update_line_limits\u001b[1;34m(self, line)\u001b[0m\n\u001b[0;32m   1708\u001b[0m         \u001b[0mFigures\u001b[0m \u001b[0mout\u001b[0m \u001b[0mthe\u001b[0m \u001b[0mdata\u001b[0m \u001b[0mlimit\u001b[0m \u001b[0mof\u001b[0m \u001b[0mthe\u001b[0m \u001b[0mgiven\u001b[0m \u001b[0mline\u001b[0m\u001b[1;33m,\u001b[0m \u001b[0mupdating\u001b[0m \u001b[0mself\u001b[0m\u001b[1;33m.\u001b[0m\u001b[0mdataLim\u001b[0m\u001b[1;33m.\u001b[0m\u001b[1;33m\u001b[0m\u001b[0m\n\u001b[0;32m   1709\u001b[0m         \"\"\"\n\u001b[1;32m-> 1710\u001b[1;33m         \u001b[0mpath\u001b[0m \u001b[1;33m=\u001b[0m \u001b[0mline\u001b[0m\u001b[1;33m.\u001b[0m\u001b[0mget_path\u001b[0m\u001b[1;33m(\u001b[0m\u001b[1;33m)\u001b[0m\u001b[1;33m\u001b[0m\u001b[0m\n\u001b[0m\u001b[0;32m   1711\u001b[0m         \u001b[1;32mif\u001b[0m \u001b[0mpath\u001b[0m\u001b[1;33m.\u001b[0m\u001b[0mvertices\u001b[0m\u001b[1;33m.\u001b[0m\u001b[0msize\u001b[0m \u001b[1;33m==\u001b[0m \u001b[1;36m0\u001b[0m\u001b[1;33m:\u001b[0m\u001b[1;33m\u001b[0m\u001b[0m\n\u001b[0;32m   1712\u001b[0m             \u001b[1;32mreturn\u001b[0m\u001b[1;33m\u001b[0m\u001b[0m\n",
      "\u001b[1;32mC:\\Users\\kikun\\Anaconda2\\lib\\site-packages\\matplotlib\\lines.pyc\u001b[0m in \u001b[0;36mget_path\u001b[1;34m(self)\u001b[0m\n\u001b[0;32m    924\u001b[0m         \"\"\"\n\u001b[0;32m    925\u001b[0m         \u001b[1;32mif\u001b[0m \u001b[0mself\u001b[0m\u001b[1;33m.\u001b[0m\u001b[0m_invalidy\u001b[0m \u001b[1;32mor\u001b[0m \u001b[0mself\u001b[0m\u001b[1;33m.\u001b[0m\u001b[0m_invalidx\u001b[0m\u001b[1;33m:\u001b[0m\u001b[1;33m\u001b[0m\u001b[0m\n\u001b[1;32m--> 926\u001b[1;33m             \u001b[0mself\u001b[0m\u001b[1;33m.\u001b[0m\u001b[0mrecache\u001b[0m\u001b[1;33m(\u001b[0m\u001b[1;33m)\u001b[0m\u001b[1;33m\u001b[0m\u001b[0m\n\u001b[0m\u001b[0;32m    927\u001b[0m         \u001b[1;32mreturn\u001b[0m \u001b[0mself\u001b[0m\u001b[1;33m.\u001b[0m\u001b[0m_path\u001b[0m\u001b[1;33m\u001b[0m\u001b[0m\n\u001b[0;32m    928\u001b[0m \u001b[1;33m\u001b[0m\u001b[0m\n",
      "\u001b[1;32mC:\\Users\\kikun\\Anaconda2\\lib\\site-packages\\matplotlib\\lines.pyc\u001b[0m in \u001b[0;36mrecache\u001b[1;34m(self, always)\u001b[0m\n\u001b[0;32m    609\u001b[0m                 \u001b[0mx\u001b[0m \u001b[1;33m=\u001b[0m \u001b[0mma\u001b[0m\u001b[1;33m.\u001b[0m\u001b[0masarray\u001b[0m\u001b[1;33m(\u001b[0m\u001b[0mxconv\u001b[0m\u001b[1;33m,\u001b[0m \u001b[0mnp\u001b[0m\u001b[1;33m.\u001b[0m\u001b[0mfloat_\u001b[0m\u001b[1;33m)\u001b[0m\u001b[1;33m.\u001b[0m\u001b[0mfilled\u001b[0m\u001b[1;33m(\u001b[0m\u001b[0mnp\u001b[0m\u001b[1;33m.\u001b[0m\u001b[0mnan\u001b[0m\u001b[1;33m)\u001b[0m\u001b[1;33m\u001b[0m\u001b[0m\n\u001b[0;32m    610\u001b[0m             \u001b[1;32melse\u001b[0m\u001b[1;33m:\u001b[0m\u001b[1;33m\u001b[0m\u001b[0m\n\u001b[1;32m--> 611\u001b[1;33m                 \u001b[0mx\u001b[0m \u001b[1;33m=\u001b[0m \u001b[0mnp\u001b[0m\u001b[1;33m.\u001b[0m\u001b[0masarray\u001b[0m\u001b[1;33m(\u001b[0m\u001b[0mxconv\u001b[0m\u001b[1;33m,\u001b[0m \u001b[0mnp\u001b[0m\u001b[1;33m.\u001b[0m\u001b[0mfloat_\u001b[0m\u001b[1;33m)\u001b[0m\u001b[1;33m\u001b[0m\u001b[0m\n\u001b[0m\u001b[0;32m    612\u001b[0m             \u001b[0mx\u001b[0m \u001b[1;33m=\u001b[0m \u001b[0mx\u001b[0m\u001b[1;33m.\u001b[0m\u001b[0mravel\u001b[0m\u001b[1;33m(\u001b[0m\u001b[1;33m)\u001b[0m\u001b[1;33m\u001b[0m\u001b[0m\n\u001b[0;32m    613\u001b[0m         \u001b[1;32melse\u001b[0m\u001b[1;33m:\u001b[0m\u001b[1;33m\u001b[0m\u001b[0m\n",
      "\u001b[1;32mC:\\Users\\kikun\\Anaconda2\\lib\\site-packages\\numpy\\core\\numeric.pyc\u001b[0m in \u001b[0;36masarray\u001b[1;34m(a, dtype, order)\u001b[0m\n\u001b[0;32m    472\u001b[0m \u001b[1;33m\u001b[0m\u001b[0m\n\u001b[0;32m    473\u001b[0m     \"\"\"\n\u001b[1;32m--> 474\u001b[1;33m     \u001b[1;32mreturn\u001b[0m \u001b[0marray\u001b[0m\u001b[1;33m(\u001b[0m\u001b[0ma\u001b[0m\u001b[1;33m,\u001b[0m \u001b[0mdtype\u001b[0m\u001b[1;33m,\u001b[0m \u001b[0mcopy\u001b[0m\u001b[1;33m=\u001b[0m\u001b[0mFalse\u001b[0m\u001b[1;33m,\u001b[0m \u001b[0morder\u001b[0m\u001b[1;33m=\u001b[0m\u001b[0morder\u001b[0m\u001b[1;33m)\u001b[0m\u001b[1;33m\u001b[0m\u001b[0m\n\u001b[0m\u001b[0;32m    475\u001b[0m \u001b[1;33m\u001b[0m\u001b[0m\n\u001b[0;32m    476\u001b[0m \u001b[1;32mdef\u001b[0m \u001b[0masanyarray\u001b[0m\u001b[1;33m(\u001b[0m\u001b[0ma\u001b[0m\u001b[1;33m,\u001b[0m \u001b[0mdtype\u001b[0m\u001b[1;33m=\u001b[0m\u001b[0mNone\u001b[0m\u001b[1;33m,\u001b[0m \u001b[0morder\u001b[0m\u001b[1;33m=\u001b[0m\u001b[0mNone\u001b[0m\u001b[1;33m)\u001b[0m\u001b[1;33m:\u001b[0m\u001b[1;33m\u001b[0m\u001b[0m\n",
      "\u001b[1;31mValueError\u001b[0m: could not convert string to float: score"
     ]
    },
    {
     "data": {
      "image/png": "[encoded data removed]",
      "text/plain": [
       "<matplotlib.figure.Figure at 0x21483400>"
      ]
     },
     "metadata": {},
     "output_type": "display_data"
    }
   ],
   "source": [
    "plt.plot(k)"
   ]
  },
  {
   "cell_type": "code",
   "execution_count": 58,
   "metadata": {
    "collapsed": false
   },
   "outputs": [],
   "source": [
    "k=list()\n",
    "for i in range(1,11):\n",
    "    k+=[int(data1.index[i-1])]*int(data1.ix[i])"
   ]
  },
  {
   "cell_type": "code",
   "execution_count": 59,
   "metadata": {
    "collapsed": false
   },
   "outputs": [],
   "source": [
    "import seaborn as sns\n"
   ]
  },
  {
   "cell_type": "code",
   "execution_count": 333,
   "metadata": {
    "collapsed": true
   },
   "outputs": [],
   "source": [
    "plt.show()"
   ]
  },
  {
   "cell_type": "code",
   "execution_count": 60,
   "metadata": {
    "collapsed": false
   },
   "outputs": [
    {
     "data": {
      "image/png": "[encoded data removed]",
      "text/plain": [
       "<matplotlib.figure.Figure at 0x206bb208>"
      ]
     },
     "metadata": {},
     "output_type": "display_data"
    }
   ],
   "source": [
    "fig = plt.figure()\n",
    "ax1 = fig.add_subplot(2, 2, 1)\n",
    "ax2 = fig.add_subplot(2,2,2)"
   ]
  },
  {
   "cell_type": "code",
   "execution_count": 61,
   "metadata": {
    "collapsed": false
   },
   "outputs": [
    {
     "ename": "ValueError",
     "evalue": "zero-size array to reduction operation minimum which has no identity",
     "output_type": "error",
     "traceback": [
      "\u001b[1;31m---------------------------------------------------------------------------\u001b[0m",
      "\u001b[1;31mValueError\u001b[0m                                Traceback (most recent call last)",
      "\u001b[1;32m<ipython-input-61-b006e3dfe27d>\u001b[0m in \u001b[0;36m<module>\u001b[1;34m()\u001b[0m\n\u001b[0;32m      1\u001b[0m \u001b[0msns\u001b[0m\u001b[1;33m.\u001b[0m\u001b[0mset_style\u001b[0m\u001b[1;33m(\u001b[0m\u001b[1;34m'whitegrid'\u001b[0m\u001b[1;33m)\u001b[0m\u001b[1;33m\u001b[0m\u001b[0m\n\u001b[1;32m----> 2\u001b[1;33m \u001b[0msns\u001b[0m\u001b[1;33m.\u001b[0m\u001b[0mkdeplot\u001b[0m\u001b[1;33m(\u001b[0m\u001b[0mnp\u001b[0m\u001b[1;33m.\u001b[0m\u001b[0marray\u001b[0m\u001b[1;33m(\u001b[0m\u001b[0mk\u001b[0m\u001b[1;33m)\u001b[0m\u001b[1;33m,\u001b[0m \u001b[0mbw\u001b[0m\u001b[1;33m=\u001b[0m\u001b[1;36m0.3\u001b[0m\u001b[1;33m)\u001b[0m\u001b[1;33m\u001b[0m\u001b[0m\n\u001b[0m",
      "\u001b[1;32mC:\\Users\\kikun\\Anaconda2\\lib\\site-packages\\seaborn\\distributions.pyc\u001b[0m in \u001b[0;36mkdeplot\u001b[1;34m(data, data2, shade, vertical, kernel, bw, gridsize, cut, clip, legend, cumulative, shade_lowest, ax, **kwargs)\u001b[0m\n\u001b[0;32m    599\u001b[0m         ax = _univariate_kdeplot(data, shade, vertical, kernel, bw,\n\u001b[0;32m    600\u001b[0m                                  \u001b[0mgridsize\u001b[0m\u001b[1;33m,\u001b[0m \u001b[0mcut\u001b[0m\u001b[1;33m,\u001b[0m \u001b[0mclip\u001b[0m\u001b[1;33m,\u001b[0m \u001b[0mlegend\u001b[0m\u001b[1;33m,\u001b[0m \u001b[0max\u001b[0m\u001b[1;33m,\u001b[0m\u001b[1;33m\u001b[0m\u001b[0m\n\u001b[1;32m--> 601\u001b[1;33m                                  cumulative=cumulative, **kwargs)\n\u001b[0m\u001b[0;32m    602\u001b[0m \u001b[1;33m\u001b[0m\u001b[0m\n\u001b[0;32m    603\u001b[0m     \u001b[1;32mreturn\u001b[0m \u001b[0max\u001b[0m\u001b[1;33m\u001b[0m\u001b[0m\n",
      "\u001b[1;32mC:\\Users\\kikun\\Anaconda2\\lib\\site-packages\\seaborn\\distributions.pyc\u001b[0m in \u001b[0;36m_univariate_kdeplot\u001b[1;34m(data, shade, vertical, kernel, bw, gridsize, cut, clip, legend, ax, cumulative, **kwargs)\u001b[0m\n\u001b[0;32m    265\u001b[0m         x, y = _statsmodels_univariate_kde(data, kernel, bw,\n\u001b[0;32m    266\u001b[0m                                            \u001b[0mgridsize\u001b[0m\u001b[1;33m,\u001b[0m \u001b[0mcut\u001b[0m\u001b[1;33m,\u001b[0m \u001b[0mclip\u001b[0m\u001b[1;33m,\u001b[0m\u001b[1;33m\u001b[0m\u001b[0m\n\u001b[1;32m--> 267\u001b[1;33m                                            cumulative=cumulative)\n\u001b[0m\u001b[0;32m    268\u001b[0m     \u001b[1;32melse\u001b[0m\u001b[1;33m:\u001b[0m\u001b[1;33m\u001b[0m\u001b[0m\n\u001b[0;32m    269\u001b[0m         \u001b[1;31m# Fall back to scipy if missing statsmodels\u001b[0m\u001b[1;33m\u001b[0m\u001b[1;33m\u001b[0m\u001b[0m\n",
      "\u001b[1;32mC:\\Users\\kikun\\Anaconda2\\lib\\site-packages\\seaborn\\distributions.pyc\u001b[0m in \u001b[0;36m_statsmodels_univariate_kde\u001b[1;34m(data, kernel, bw, gridsize, cut, clip, cumulative)\u001b[0m\n\u001b[0;32m    323\u001b[0m     \u001b[0mfft\u001b[0m \u001b[1;33m=\u001b[0m \u001b[0mkernel\u001b[0m \u001b[1;33m==\u001b[0m \u001b[1;34m\"gau\"\u001b[0m\u001b[1;33m\u001b[0m\u001b[0m\n\u001b[0;32m    324\u001b[0m     \u001b[0mkde\u001b[0m \u001b[1;33m=\u001b[0m \u001b[0msmnp\u001b[0m\u001b[1;33m.\u001b[0m\u001b[0mKDEUnivariate\u001b[0m\u001b[1;33m(\u001b[0m\u001b[0mdata\u001b[0m\u001b[1;33m)\u001b[0m\u001b[1;33m\u001b[0m\u001b[0m\n\u001b[1;32m--> 325\u001b[1;33m     \u001b[0mkde\u001b[0m\u001b[1;33m.\u001b[0m\u001b[0mfit\u001b[0m\u001b[1;33m(\u001b[0m\u001b[0mkernel\u001b[0m\u001b[1;33m,\u001b[0m \u001b[0mbw\u001b[0m\u001b[1;33m,\u001b[0m \u001b[0mfft\u001b[0m\u001b[1;33m,\u001b[0m \u001b[0mgridsize\u001b[0m\u001b[1;33m=\u001b[0m\u001b[0mgridsize\u001b[0m\u001b[1;33m,\u001b[0m \u001b[0mcut\u001b[0m\u001b[1;33m=\u001b[0m\u001b[0mcut\u001b[0m\u001b[1;33m,\u001b[0m \u001b[0mclip\u001b[0m\u001b[1;33m=\u001b[0m\u001b[0mclip\u001b[0m\u001b[1;33m)\u001b[0m\u001b[1;33m\u001b[0m\u001b[0m\n\u001b[0m\u001b[0;32m    326\u001b[0m     \u001b[1;32mif\u001b[0m \u001b[0mcumulative\u001b[0m\u001b[1;33m:\u001b[0m\u001b[1;33m\u001b[0m\u001b[0m\n\u001b[0;32m    327\u001b[0m         \u001b[0mgrid\u001b[0m\u001b[1;33m,\u001b[0m \u001b[0my\u001b[0m \u001b[1;33m=\u001b[0m \u001b[0mkde\u001b[0m\u001b[1;33m.\u001b[0m\u001b[0msupport\u001b[0m\u001b[1;33m,\u001b[0m \u001b[0mkde\u001b[0m\u001b[1;33m.\u001b[0m\u001b[0mcdf\u001b[0m\u001b[1;33m\u001b[0m\u001b[0m\n",
      "\u001b[1;32mC:\\Users\\kikun\\Anaconda2\\lib\\site-packages\\statsmodels\\nonparametric\\kde.pyc\u001b[0m in \u001b[0;36mfit\u001b[1;34m(self, kernel, bw, fft, weights, gridsize, adjust, cut, clip)\u001b[0m\n\u001b[0;32m    144\u001b[0m             density, grid, bw = kdensityfft(endog, kernel=kernel, bw=bw,\n\u001b[0;32m    145\u001b[0m                     \u001b[0madjust\u001b[0m\u001b[1;33m=\u001b[0m\u001b[0madjust\u001b[0m\u001b[1;33m,\u001b[0m \u001b[0mweights\u001b[0m\u001b[1;33m=\u001b[0m\u001b[0mweights\u001b[0m\u001b[1;33m,\u001b[0m \u001b[0mgridsize\u001b[0m\u001b[1;33m=\u001b[0m\u001b[0mgridsize\u001b[0m\u001b[1;33m,\u001b[0m\u001b[1;33m\u001b[0m\u001b[0m\n\u001b[1;32m--> 146\u001b[1;33m                     clip=clip, cut=cut)\n\u001b[0m\u001b[0;32m    147\u001b[0m         \u001b[1;32melse\u001b[0m\u001b[1;33m:\u001b[0m\u001b[1;33m\u001b[0m\u001b[0m\n\u001b[0;32m    148\u001b[0m             density, grid, bw = kdensity(endog, kernel=kernel, bw=bw,\n",
      "\u001b[1;32mC:\\Users\\kikun\\Anaconda2\\lib\\site-packages\\statsmodels\\nonparametric\\kde.pyc\u001b[0m in \u001b[0;36mkdensityfft\u001b[1;34m(X, kernel, bw, weights, gridsize, adjust, clip, cut, retgrid)\u001b[0m\n\u001b[0;32m    471\u001b[0m     \u001b[0mgridsize\u001b[0m \u001b[1;33m=\u001b[0m \u001b[1;36m2\u001b[0m\u001b[1;33m**\u001b[0m\u001b[0mnp\u001b[0m\u001b[1;33m.\u001b[0m\u001b[0mceil\u001b[0m\u001b[1;33m(\u001b[0m\u001b[0mnp\u001b[0m\u001b[1;33m.\u001b[0m\u001b[0mlog2\u001b[0m\u001b[1;33m(\u001b[0m\u001b[0mgridsize\u001b[0m\u001b[1;33m)\u001b[0m\u001b[1;33m)\u001b[0m \u001b[1;31m# round to next power of 2\u001b[0m\u001b[1;33m\u001b[0m\u001b[0m\n\u001b[0;32m    472\u001b[0m \u001b[1;33m\u001b[0m\u001b[0m\n\u001b[1;32m--> 473\u001b[1;33m     \u001b[0ma\u001b[0m \u001b[1;33m=\u001b[0m \u001b[0mnp\u001b[0m\u001b[1;33m.\u001b[0m\u001b[0mmin\u001b[0m\u001b[1;33m(\u001b[0m\u001b[0mX\u001b[0m\u001b[1;33m)\u001b[0m\u001b[1;33m-\u001b[0m\u001b[0mcut\u001b[0m\u001b[1;33m*\u001b[0m\u001b[0mbw\u001b[0m\u001b[1;33m\u001b[0m\u001b[0m\n\u001b[0m\u001b[0;32m    474\u001b[0m     \u001b[0mb\u001b[0m \u001b[1;33m=\u001b[0m \u001b[0mnp\u001b[0m\u001b[1;33m.\u001b[0m\u001b[0mmax\u001b[0m\u001b[1;33m(\u001b[0m\u001b[0mX\u001b[0m\u001b[1;33m)\u001b[0m\u001b[1;33m+\u001b[0m\u001b[0mcut\u001b[0m\u001b[1;33m*\u001b[0m\u001b[0mbw\u001b[0m\u001b[1;33m\u001b[0m\u001b[0m\n\u001b[0;32m    475\u001b[0m     \u001b[0mgrid\u001b[0m\u001b[1;33m,\u001b[0m\u001b[0mdelta\u001b[0m \u001b[1;33m=\u001b[0m \u001b[0mnp\u001b[0m\u001b[1;33m.\u001b[0m\u001b[0mlinspace\u001b[0m\u001b[1;33m(\u001b[0m\u001b[0ma\u001b[0m\u001b[1;33m,\u001b[0m\u001b[0mb\u001b[0m\u001b[1;33m,\u001b[0m\u001b[0mgridsize\u001b[0m\u001b[1;33m,\u001b[0m\u001b[0mretstep\u001b[0m\u001b[1;33m=\u001b[0m\u001b[0mTrue\u001b[0m\u001b[1;33m)\u001b[0m\u001b[1;33m\u001b[0m\u001b[0m\n",
      "\u001b[1;32mC:\\Users\\kikun\\Anaconda2\\lib\\site-packages\\numpy\\core\\fromnumeric.pyc\u001b[0m in \u001b[0;36mamin\u001b[1;34m(a, axis, out, keepdims)\u001b[0m\n\u001b[0;32m   2348\u001b[0m     \u001b[1;32melse\u001b[0m\u001b[1;33m:\u001b[0m\u001b[1;33m\u001b[0m\u001b[0m\n\u001b[0;32m   2349\u001b[0m         return _methods._amin(a, axis=axis,\n\u001b[1;32m-> 2350\u001b[1;33m                               out=out, keepdims=keepdims)\n\u001b[0m\u001b[0;32m   2351\u001b[0m \u001b[1;33m\u001b[0m\u001b[0m\n\u001b[0;32m   2352\u001b[0m \u001b[1;33m\u001b[0m\u001b[0m\n",
      "\u001b[1;32mC:\\Users\\kikun\\Anaconda2\\lib\\site-packages\\numpy\\core\\_methods.pyc\u001b[0m in \u001b[0;36m_amin\u001b[1;34m(a, axis, out, keepdims)\u001b[0m\n\u001b[0;32m     27\u001b[0m \u001b[1;33m\u001b[0m\u001b[0m\n\u001b[0;32m     28\u001b[0m \u001b[1;32mdef\u001b[0m \u001b[0m_amin\u001b[0m\u001b[1;33m(\u001b[0m\u001b[0ma\u001b[0m\u001b[1;33m,\u001b[0m \u001b[0maxis\u001b[0m\u001b[1;33m=\u001b[0m\u001b[0mNone\u001b[0m\u001b[1;33m,\u001b[0m \u001b[0mout\u001b[0m\u001b[1;33m=\u001b[0m\u001b[0mNone\u001b[0m\u001b[1;33m,\u001b[0m \u001b[0mkeepdims\u001b[0m\u001b[1;33m=\u001b[0m\u001b[0mFalse\u001b[0m\u001b[1;33m)\u001b[0m\u001b[1;33m:\u001b[0m\u001b[1;33m\u001b[0m\u001b[0m\n\u001b[1;32m---> 29\u001b[1;33m     \u001b[1;32mreturn\u001b[0m \u001b[0mumr_minimum\u001b[0m\u001b[1;33m(\u001b[0m\u001b[0ma\u001b[0m\u001b[1;33m,\u001b[0m \u001b[0maxis\u001b[0m\u001b[1;33m,\u001b[0m \u001b[0mNone\u001b[0m\u001b[1;33m,\u001b[0m \u001b[0mout\u001b[0m\u001b[1;33m,\u001b[0m \u001b[0mkeepdims\u001b[0m\u001b[1;33m)\u001b[0m\u001b[1;33m\u001b[0m\u001b[0m\n\u001b[0m\u001b[0;32m     30\u001b[0m \u001b[1;33m\u001b[0m\u001b[0m\n\u001b[0;32m     31\u001b[0m \u001b[1;32mdef\u001b[0m \u001b[0m_sum\u001b[0m\u001b[1;33m(\u001b[0m\u001b[0ma\u001b[0m\u001b[1;33m,\u001b[0m \u001b[0maxis\u001b[0m\u001b[1;33m=\u001b[0m\u001b[0mNone\u001b[0m\u001b[1;33m,\u001b[0m \u001b[0mdtype\u001b[0m\u001b[1;33m=\u001b[0m\u001b[0mNone\u001b[0m\u001b[1;33m,\u001b[0m \u001b[0mout\u001b[0m\u001b[1;33m=\u001b[0m\u001b[0mNone\u001b[0m\u001b[1;33m,\u001b[0m \u001b[0mkeepdims\u001b[0m\u001b[1;33m=\u001b[0m\u001b[0mFalse\u001b[0m\u001b[1;33m)\u001b[0m\u001b[1;33m:\u001b[0m\u001b[1;33m\u001b[0m\u001b[0m\n",
      "\u001b[1;31mValueError\u001b[0m: zero-size array to reduction operation minimum which has no identity"
     ]
    },
    {
     "data": {
      "image/png": "[encoded data removed]",
      "text/plain": [
       "<matplotlib.figure.Figure at 0x2227cb00>"
      ]
     },
     "metadata": {},
     "output_type": "display_data"
    }
   ],
   "source": [
    "sns.set_style('whitegrid')\n",
    "sns.kdeplot(np.array(k), bw=0.3)"
   ]
  },
  {
   "cell_type": "code",
   "execution_count": null,
   "metadata": {
    "collapsed": false
   },
   "outputs": [],
   "source": [
    "data1.plot(kind='bar')"
   ]
  },
  {
   "cell_type": "code",
   "execution_count": null,
   "metadata": {
    "collapsed": true
   },
   "outputs": [],
   "source": [
    "ax1.sns."
   ]
  },
  {
   "cell_type": "code",
   "execution_count": null,
   "metadata": {
    "collapsed": true
   },
   "outputs": [],
   "source": []
  }
 ],
 "metadata": {
  "kernelspec": {
   "display_name": "Python 2",
   "language": "python",
   "name": "python2"
  },
  "language_info": {
   "codemirror_mode": {
    "name": "ipython",
    "version": 2
   },
   "file_extension": ".py",
   "mimetype": "text/x-python",
   "name": "python",
   "nbconvert_exporter": "python",
   "pygments_lexer": "ipython2",
   "version": "2.7.11"
  }
 },
 "nbformat": 4,
 "nbformat_minor": 0
}
