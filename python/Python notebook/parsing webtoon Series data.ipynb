{
 "cells": [
  {
   "cell_type": "code",
   "execution_count": 1,
   "metadata": {
    "collapsed": false
   },
   "outputs": [],
   "source": [
    "#-*- coding: UTF-8 -*-\n",
    "import urllib2\n",
    "from bs4 import BeautifulSoup as BT\n",
    "from lxml import etree\n",
    "import numpy as np\n",
    "import pandas as np\n",
    "from pandas import Series, DataFrame\n",
    "import matplotlib.pyplot as plt\n",
    "import os\n",
    "from datetime import datetime\n",
    "os.getcwd();\n",
    "original = 'http://comic.naver.com/webtoon/list.nhn?titleId=641253&page='"
   ]
  },
  {
   "cell_type": "code",
   "execution_count": 2,
   "metadata": {
    "collapsed": false
   },
   "outputs": [],
   "source": [
    "star = list()\n",
    "for i in range(1,100): # you should change range\n",
    "    url = original + str(i)\n",
    "    r = urllib2.urlopen(url)\n",
    "    soup = BT(r,'lxml')\n",
    "    data = soup.findAll('div',attrs={'class':'rating_type'})\n",
    "    for j in range(len(data)):\n",
    "        star.append(data[j].find('strong').text)"
   ]
  },
  {
   "cell_type": "code",
   "execution_count": 3,
   "metadata": {
    "collapsed": false
   },
   "outputs": [],
   "source": [
    "date = list()\n",
    "for i in range(1,100): # you should change range\n",
    "    url = original + str(i)\n",
    "    r = urllib2.urlopen(url)\n",
    "    soup = BT(r,'lxml')\n",
    "    data = soup.findAll('td',attrs={'class':'num'})\n",
    "    for j in range(len(data)):\n",
    "        date.append(data[j].text)"
   ]
  },
  {
   "cell_type": "code",
   "execution_count": 4,
   "metadata": {
    "collapsed": false
   },
   "outputs": [],
   "source": [
    "for i in range(len(star)):\n",
    "    star[i] = float(star[i])\n",
    "for i in range(len(date)):\n",
    "    date[i]=datetime.strptime(date[i], '%Y.%m.%d')"
   ]
  },
  {
   "cell_type": "code",
   "execution_count": 5,
   "metadata": {
    "collapsed": false
   },
   "outputs": [],
   "source": [
    "star = star[::-1]"
   ]
  },
  {
   "cell_type": "code",
   "execution_count": 6,
   "metadata": {
    "collapsed": true
   },
   "outputs": [],
   "source": [
    "date = date[::-1]"
   ]
  },
  {
   "cell_type": "code",
   "execution_count": 7,
   "metadata": {
    "collapsed": false
   },
   "outputs": [
    {
     "data": {
      "text/plain": [
       "2014-11-20    9.85\n",
       "2014-11-27    9.85\n",
       "2014-11-20    9.85\n",
       "2014-11-27    9.85\n",
       "2014-11-20    9.85\n",
       "2014-11-27    9.85\n",
       "2014-11-20    9.85\n",
       "2014-11-27    9.85\n",
       "2014-11-20    9.85\n",
       "2014-11-27    9.85\n",
       "2014-11-20    9.85\n",
       "2014-11-27    9.85\n",
       "2014-11-20    9.85\n",
       "2014-11-27    9.85\n",
       "2014-11-20    9.85\n",
       "2014-11-27    9.85\n",
       "2014-11-20    9.85\n",
       "2014-11-27    9.85\n",
       "2014-11-20    9.85\n",
       "2014-11-27    9.85\n",
       "2014-11-20    9.85\n",
       "2014-11-27    9.85\n",
       "2014-11-20    9.85\n",
       "2014-11-27    9.85\n",
       "2014-11-20    9.85\n",
       "2014-11-27    9.85\n",
       "2014-11-20    9.85\n",
       "2014-11-27    9.85\n",
       "2014-11-20    9.85\n",
       "2014-11-27    9.85\n",
       "              ... \n",
       "2016-04-07    9.91\n",
       "2016-04-14    9.93\n",
       "2016-04-21    9.92\n",
       "2016-04-28    9.93\n",
       "2016-05-05    9.91\n",
       "2016-05-12    9.39\n",
       "2016-05-19    9.80\n",
       "2016-05-26    9.93\n",
       "2016-06-02    9.89\n",
       "2016-06-09    9.78\n",
       "2016-06-16    9.82\n",
       "2016-06-23    9.85\n",
       "2016-06-30    9.88\n",
       "2016-07-07    9.89\n",
       "2016-07-14    9.89\n",
       "2016-07-21    9.87\n",
       "2016-07-28    9.87\n",
       "2016-08-04    9.90\n",
       "2016-08-11    9.87\n",
       "2016-08-18    9.93\n",
       "2016-08-25    9.90\n",
       "2016-09-01    9.90\n",
       "2016-09-08    9.91\n",
       "2016-09-15    9.93\n",
       "2016-09-22    9.92\n",
       "2016-09-29    9.92\n",
       "2016-10-06    9.92\n",
       "2016-10-13    9.93\n",
       "2016-10-20    9.92\n",
       "2016-10-27    9.94\n",
       "dtype: float64"
      ]
     },
     "execution_count": 7,
     "metadata": {},
     "output_type": "execute_result"
    }
   ],
   "source": [
    "Face = Series(star,index=date) ; Face"
   ]
  },
  {
   "cell_type": "code",
   "execution_count": 8,
   "metadata": {
    "collapsed": false
   },
   "outputs": [],
   "source": [
    "FP=Face.plot()"
   ]
  },
  {
   "cell_type": "code",
   "execution_count": 9,
   "metadata": {
    "collapsed": false
   },
   "outputs": [
    {
     "data": {
      "text/plain": [
       "<matplotlib.text.Text at 0x8a80530>"
      ]
     },
     "execution_count": 9,
     "metadata": {},
     "output_type": "execute_result"
    }
   ],
   "source": [
    "FP.set_title('Face_best')"
   ]
  },
  {
   "cell_type": "code",
   "execution_count": 10,
   "metadata": {
    "collapsed": true
   },
   "outputs": [],
   "source": [
    "plt.show()"
   ]
  },
  {
   "cell_type": "code",
   "execution_count": 298,
   "metadata": {
    "collapsed": false
   },
   "outputs": [],
   "source": [
    "Face.to_csv('face_best')"
   ]
  },
  {
   "cell_type": "code",
   "execution_count": null,
   "metadata": {
    "collapsed": true
   },
   "outputs": [],
   "source": []
  }
 ],
 "metadata": {
  "kernelspec": {
   "display_name": "Python 2",
   "language": "python",
   "name": "python2"
  },
  "language_info": {
   "codemirror_mode": {
    "name": "ipython",
    "version": 2
   },
   "file_extension": ".py",
   "mimetype": "text/x-python",
   "name": "python",
   "nbconvert_exporter": "python",
   "pygments_lexer": "ipython2",
   "version": "2.7.11"
  }
 },
 "nbformat": 4,
 "nbformat_minor": 0
}
