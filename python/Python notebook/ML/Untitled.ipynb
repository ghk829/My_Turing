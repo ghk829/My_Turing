{
 "cells": [
  {
   "cell_type": "code",
   "execution_count": 1,
   "metadata": {
    "collapsed": true
   },
   "outputs": [],
   "source": [
    "from sklearn.datasets import make_blobs\n",
    "from numpy import *\n",
    "import numpy as np\n",
    "import matplotlib.pyplot as plt\n",
    "import random\n",
    "X, y= make_blobs(n_samples=150, n_features=2, centers=3,cluster_std=0.5,shuffle=True,random_state=0)"
   ]
  },
  {
   "cell_type": "code",
   "execution_count": 2,
   "metadata": {
    "collapsed": true
   },
   "outputs": [],
   "source": [
    "def sim(X1,X2):\n",
    "    a=X1-X2\n",
    "    dist=sum(a**2)\n",
    "    return dist"
   ]
  },
  {
   "cell_type": "code",
   "execution_count": 3,
   "metadata": {
    "collapsed": true
   },
   "outputs": [],
   "source": [
    "def kmeans(X,number,c):\n",
    "    fset =[X[random.randint(1,X.shape[0]),] for i in range(number)]\n",
    "    fset=array(fset)\n",
    "    for l in range(c):\n",
    "        cluset = [[] for i in range(number)]\n",
    "        index={}\n",
    "        for j in range(X.shape[0]):\n",
    "            pre=[]\n",
    "            for i in range(fset.shape[0]):\n",
    "                d=sim(X[j,],fset[i])\n",
    "                pre.append(d)\n",
    "            cluset[pre.index(np.min(pre))].append(X[j,])    \n",
    "            index[j]=pre.index(np.min(pre))    \n",
    "        cluset=array(cluset)\n",
    "        for n in range(cluset.shape[0]):\n",
    "            fset[i]=np.mean(cluset[i],axis=0)\n",
    "        cluset=cluset.tolist()\n",
    "    \n",
    "    return [index,cluset]    "
   ]
  },
  {
   "cell_type": "code",
   "execution_count": 9,
   "metadata": {
    "collapsed": true
   },
   "outputs": [],
   "source": [
    "fset =[X[random.randint(1,X.shape[0]),] for i in range(3)]\n",
    "fset=array(fset)\n",
    "for l in range(40):\n",
    "        cluset = [[] for i in range(3)]\n",
    "        index={}\n",
    "        for j in range(X.shape[0]):\n",
    "            pre=[]\n",
    "            for i in range(fset.shape[0]):\n",
    "                d=sim(X[j,],fset[i])\n",
    "                pre.append(d)\n",
    "            cluset[pre.index(np.min(pre))].append(X[j,])    \n",
    "            index[j]=pre.index(np.min(pre))    \n",
    "        cluset=array(cluset)\n",
    "        for n in range(cluset.shape[0]):\n",
    "            fset[i]=np.mean(cluset[i],axis=0)\n",
    "        cluset=cluset.tolist()\n",
    "        plt.scatter(X[:,0],X[:,1],c=index.values());plt.show()"
   ]
  },
  {
   "cell_type": "code",
   "execution_count": null,
   "metadata": {
    "collapsed": true
   },
   "outputs": [],
   "source": []
  }
 ],
 "metadata": {
  "kernelspec": {
   "display_name": "Python 2",
   "language": "python",
   "name": "python2"
  },
  "language_info": {
   "codemirror_mode": {
    "name": "ipython",
    "version": 2
   },
   "file_extension": ".py",
   "mimetype": "text/x-python",
   "name": "python",
   "nbconvert_exporter": "python",
   "pygments_lexer": "ipython2",
   "version": "2.7.11"
  }
 },
 "nbformat": 4,
 "nbformat_minor": 0
}
