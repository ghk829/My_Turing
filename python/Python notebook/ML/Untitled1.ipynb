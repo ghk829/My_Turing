{
 "cells": [
  {
   "cell_type": "raw",
   "metadata": {},
   "source": [
    "1. 나이 데이터(1살~100살)를 10만개 만들고(랜덤으로) 20살을 기준으로 등급을 나누시오\n",
    "2. 1등급(1~20세)에서 20을 더한 나이들의 합과 2등급의 나이들의 합 비교하시오(1등급이 크면 'upper'/ 'lower')"
   ]
  },
  {
   "cell_type": "code",
   "execution_count": 6,
   "metadata": {
    "collapsed": true
   },
   "outputs": [],
   "source": [
    "teen = [10,20,15]"
   ]
  },
  {
   "cell_type": "code",
   "execution_count": 7,
   "metadata": {
    "collapsed": false
   },
   "outputs": [],
   "source": [
    "teen=teen*10"
   ]
  },
  {
   "cell_type": "code",
   "execution_count": 9,
   "metadata": {
    "collapsed": false
   },
   "outputs": [],
   "source": [
    "twen = [30,35,39]"
   ]
  },
  {
   "cell_type": "code",
   "execution_count": 10,
   "metadata": {
    "collapsed": true
   },
   "outputs": [],
   "source": [
    "twen=twen*10"
   ]
  },
  {
   "cell_type": "code",
   "execution_count": 13,
   "metadata": {
    "collapsed": false
   },
   "outputs": [],
   "source": [
    "nteen=[]\n",
    "for tee in teen:\n",
    "    nteen.append(tee+20)"
   ]
  },
  {
   "cell_type": "code",
   "execution_count": 14,
   "metadata": {
    "collapsed": false
   },
   "outputs": [
    {
     "data": {
      "text/plain": [
       "[30,\n",
       " 40,\n",
       " 35,\n",
       " 30,\n",
       " 40,\n",
       " 35,\n",
       " 30,\n",
       " 40,\n",
       " 35,\n",
       " 30,\n",
       " 40,\n",
       " 35,\n",
       " 30,\n",
       " 40,\n",
       " 35,\n",
       " 30,\n",
       " 40,\n",
       " 35,\n",
       " 30,\n",
       " 40,\n",
       " 35,\n",
       " 30,\n",
       " 40,\n",
       " 35,\n",
       " 30,\n",
       " 40,\n",
       " 35,\n",
       " 30,\n",
       " 40,\n",
       " 35]"
      ]
     },
     "execution_count": 14,
     "metadata": {},
     "output_type": "execute_result"
    }
   ],
   "source": [
    "nteen"
   ]
  },
  {
   "cell_type": "code",
   "execution_count": null,
   "metadata": {
    "collapsed": true
   },
   "outputs": [],
   "source": []
  }
 ],
 "metadata": {
  "kernelspec": {
   "display_name": "Python 2",
   "language": "python",
   "name": "python2"
  },
  "language_info": {
   "codemirror_mode": {
    "name": "ipython",
    "version": 2
   },
   "file_extension": ".py",
   "mimetype": "text/x-python",
   "name": "python",
   "nbconvert_exporter": "python",
   "pygments_lexer": "ipython2",
   "version": "2.7.11"
  }
 },
 "nbformat": 4,
 "nbformat_minor": 0
}
