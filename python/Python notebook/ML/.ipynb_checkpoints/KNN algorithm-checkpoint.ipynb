{
 "cells": [
  {
   "cell_type": "code",
   "execution_count": 1,
   "metadata": {
    "collapsed": true
   },
   "outputs": [],
   "source": [
    "from sklearn.datasets import make_blobs\n",
    "from numpy import *\n",
    "import numpy as np\n",
    "import matplotlib.pyplot as plt\n",
    "import random\n",
    "from sklearn.cross_validation import train_test_split\n",
    "from scipy.stats import mode\n",
    "X, yy= make_blobs(n_samples=300, n_features=2, centers=2,cluster_std=0.5,shuffle=True,random_state=0)\n",
    "%matplotlib inline"
   ]
  },
  {
   "cell_type": "code",
   "execution_count": 2,
   "metadata": {
    "collapsed": true
   },
   "outputs": [],
   "source": [
    "def sim(X1,X2):\n",
    "    a=X1-X2\n",
    "    dist=sum(a**2)\n",
    "    return dist"
   ]
  },
  {
   "cell_type": "code",
   "execution_count": 3,
   "metadata": {
    "collapsed": true
   },
   "outputs": [],
   "source": [
    "X_train,X_test,y_train,y_test = train_test_split(X,yy,test_size=0.3,random_state=0)"
   ]
  },
  {
   "cell_type": "code",
   "execution_count": 4,
   "metadata": {
    "collapsed": true
   },
   "outputs": [],
   "source": [
    "def ONN(X,ref,refy):\n",
    "    trainy=[]\n",
    "    for i in range(len(X)):\n",
    "        sett=[]\n",
    "        for j in range(len(ref)):\n",
    "            sett.append(sim(X[i,],ref[j,]))\n",
    "        trainy.append(refy[sett.index(np.min(sett))])\n",
    "    return trainy"
   ]
  },
  {
   "cell_type": "code",
   "execution_count": 5,
   "metadata": {
    "collapsed": false
   },
   "outputs": [],
   "source": [
    "def KNN(X_test,X_train,refy,k):\n",
    "    trainy=[]\n",
    "    for i in range(len(X_test)):\n",
    "        count=[]\n",
    "        sett=[]\n",
    "        for j in range(len(X_train)):\n",
    "            sett.append(sim(X_test[i,],X_train[j,]))\n",
    "        tmp=sett[:]\n",
    "        sett.sort()\n",
    "        candiset=sett[0:(k-1)]\n",
    "        for l in range(len(candiset)):\n",
    "            count.append(refy[tmp.index(candiset[l])])\n",
    "        trainy.append(mode(count)[0][0])\n",
    "    return trainy"
   ]
  },
  {
   "cell_type": "code",
   "execution_count": 6,
   "metadata": {
    "collapsed": false
   },
   "outputs": [],
   "source": [
    "r=ONN(X_test,X_train,y_train)"
   ]
  },
  {
   "cell_type": "code",
   "execution_count": 7,
   "metadata": {
    "collapsed": true
   },
   "outputs": [],
   "source": [
    "col=[]\n",
    "marker=[]\n",
    "for i in range(len(X_test)):\n",
    "    if r[i]==0:\n",
    "        col.append('red')\n",
    "    else: col.append('blue')\n",
    "for i in range(len(X_test)):\n",
    "    if y_test[i]==0:\n",
    "        marker.append('x')\n",
    "    else: marker.append('o')"
   ]
  },
  {
   "cell_type": "code",
   "execution_count": 8,
   "metadata": {
    "collapsed": false
   },
   "outputs": [
    {
     "data": {
      "image/png": "[encoded data removed]",
      "text/plain": [
       "<matplotlib.figure.Figure at 0x6fb4cf0>"
      ]
     },
     "metadata": {},
     "output_type": "display_data"
    }
   ],
   "source": [
    "for i in range(len(X_test)):\n",
    "    plt.figure(0)\n",
    "    plt.scatter(X_test[i,0],X_test[i,1],c=col[i] ,marker=marker[i])"
   ]
  },
  {
   "cell_type": "code",
   "execution_count": null,
   "metadata": {
    "collapsed": true
   },
   "outputs": [],
   "source": []
  }
 ],
 "metadata": {
  "kernelspec": {
   "display_name": "Python 2",
   "language": "python",
   "name": "python2"
  },
  "language_info": {
   "codemirror_mode": {
    "name": "ipython",
    "version": 2
   },
   "file_extension": ".py",
   "mimetype": "text/x-python",
   "name": "python",
   "nbconvert_exporter": "python",
   "pygments_lexer": "ipython2",
   "version": "2.7.11"
  }
 },
 "nbformat": 4,
 "nbformat_minor": 0
}
