{
 "cells": [
  {
   "cell_type": "code",
   "execution_count": 1,
   "metadata": {
    "collapsed": true
   },
   "outputs": [],
   "source": [
    "import matplotlib.pyplot as plt"
   ]
  },
  {
   "cell_type": "code",
   "execution_count": 2,
   "metadata": {
    "collapsed": true
   },
   "outputs": [],
   "source": [
    "import numpy as np\n",
    "import random as rd\n",
    "from math import *"
   ]
  },
  {
   "cell_type": "code",
   "execution_count": 9,
   "metadata": {
    "collapsed": false
   },
   "outputs": [],
   "source": [
    "mean1=1\n",
    "mean2=5\n",
    "mean3=10\n",
    "data1=[]\n",
    "data2=[]\n",
    "data3=[]\n",
    "for i in range(100):\n",
    "    data1.append(mean1+np.random.normal(0,1))\n",
    "    data2.append(mean2+np.random.normal(0,1.5))\n",
    "    data3.append(mean3+np.random.normal(0,2))"
   ]
  },
  {
   "cell_type": "code",
   "execution_count": 10,
   "metadata": {
    "collapsed": false
   },
   "outputs": [],
   "source": [
    "def mean(data):\n",
    "    return sum(data)/len(data)\n",
    "def sd(data):\n",
    "    sums=[]\n",
    "    means=mean(data)\n",
    "    for i in range(len(data)):\n",
    "        sums.append(pow(data[i]-means,2))\n",
    "    return sum(sums)/(len(data)-1)"
   ]
  },
  {
   "cell_type": "code",
   "execution_count": 37,
   "metadata": {
    "collapsed": true
   },
   "outputs": [],
   "source": [
    "M=[mean(data1),mean(data2),mean(data3)];\n",
    "sd1=np.cov(data1);sd2=np.cov(data2);sd3=np.cov(data3)\n",
    "sds=[sd1,sd2,sd3]\n",
    "smean=(np.cov(data1)+np.cov(data2)+np.cov(data3))/3"
   ]
  },
  {
   "cell_type": "code",
   "execution_count": 25,
   "metadata": {
    "collapsed": false
   },
   "outputs": [],
   "source": [
    "data=[]\n",
    "data.extend(data1)\n",
    "data.extend(data2)\n",
    "data.extend(data3)"
   ]
  },
  {
   "cell_type": "code",
   "execution_count": 38,
   "metadata": {
    "collapsed": false
   },
   "outputs": [],
   "source": [
    "def dffunc(data,M,rule):\n",
    "    if rule==1:\n",
    "        #단위 공분산\n",
    "        clas=[]\n",
    "        for i in range(len(data)):\n",
    "            tmp=[]\n",
    "            for j in range(len(M)):\n",
    "                tmp.append(pow(data[i]-M[j],2))\n",
    "            clas.append(tmp.index(min(tmp))+1)\n",
    "        return clas\n",
    "    if rule==2:\n",
    "        #동일 공분산\n",
    "        clas=[]\n",
    "        for i in range(len(data)):\n",
    "            tmp=[]\n",
    "            for j in range(len(M)):\n",
    "                x=(data[i]-M[j])/smean*(data[i]-M[j])\n",
    "                tmp.append(x)\n",
    "            clas.append(tmp.index(min(tmp))+1)\n",
    "        return clas\n",
    "        #일반적\n",
    "        clas=[]\n",
    "        for i in range(len(data)):\n",
    "            tmp=[]\n",
    "            for j in range(len(M)):\n",
    "                x=(data[i]-M[j])/smean*(data[i]-M[j])+np.log(sds[j])\n",
    "                tmp.append(x)\n",
    "            clas.append(tmp.index(min(tmp))+1)\n",
    "        return clas"
   ]
  },
  {
   "cell_type": "code",
   "execution_count": 39,
   "metadata": {
    "collapsed": false
   },
   "outputs": [],
   "source": [
    "clas=[]\n",
    "for j in range(3):\n",
    "    for i in range(100):\n",
    "        if j==0:\n",
    "            clas.append(1)\n",
    "        elif j==1:\n",
    "            clas.append(2)\n",
    "        else:\n",
    "            clas.append(3)"
   ]
  },
  {
   "cell_type": "code",
   "execution_count": 40,
   "metadata": {
    "collapsed": false
   },
   "outputs": [
    {
     "data": {
      "text/plain": [
       "<matplotlib.collections.PathCollection at 0x5b0bbd0>"
      ]
     },
     "execution_count": 40,
     "metadata": {},
     "output_type": "execute_result"
    }
   ],
   "source": [
    "plt.scatter(data,clas,c=dffunc(data,M,2))"
   ]
  },
  {
   "cell_type": "code",
   "execution_count": 41,
   "metadata": {
    "collapsed": false
   },
   "outputs": [
    {
     "data": {
      "image/png": "[encoded data removed]",
      "text/plain": [
       "<matplotlib.figure.Figure at 0x5a7e050>"
      ]
     },
     "metadata": {},
     "output_type": "display_data"
    }
   ],
   "source": [
    "plt.show()"
   ]
  },
  {
   "cell_type": "code",
   "execution_count": null,
   "metadata": {
    "collapsed": true
   },
   "outputs": [],
   "source": []
  }
 ],
 "metadata": {
  "anaconda-cloud": {},
  "kernelspec": {
   "display_name": "Python [conda root]",
   "language": "python",
   "name": "conda-root-py"
  },
  "language_info": {
   "codemirror_mode": {
    "name": "ipython",
    "version": 2
   },
   "file_extension": ".py",
   "mimetype": "text/x-python",
   "name": "python",
   "nbconvert_exporter": "python",
   "pygments_lexer": "ipython2",
   "version": "2.7.12"
  }
 },
 "nbformat": 4,
 "nbformat_minor": 1
}
