{
 "cells": [
  {
   "cell_type": "code",
   "execution_count": 19,
   "metadata": {
    "collapsed": false
   },
   "outputs": [],
   "source": [
    "x=c(rep(160,5),rep(180,5),rep(200,5),rep(220,5))\n",
    "y=c(575,542,530,539,570,565,593,590,579,610,600,651,610,637,629,725,700,715,685,710)\n",
    "ym=matrix(y,byrow=T,4,5)"
   ]
  },
  {
   "cell_type": "code",
   "execution_count": 16,
   "metadata": {
    "collapsed": false
   },
   "outputs": [
    {
     "data": {
      "text/plain": [
       "            Df Sum Sq Mean Sq F value   Pr(>F)    \n",
       "factor(x)    3  66871   22290    66.8 2.88e-09 ***\n",
       "Residuals   16   5339     334                     \n",
       "---\n",
       "Signif. codes:  0 '***' 0.001 '**' 0.01 '*' 0.05 '.' 0.1 ' ' 1"
      ]
     },
     "metadata": {},
     "output_type": "display_data"
    }
   ],
   "source": [
    "aov.out=aov(y~factor(x))\n",
    "summary(aov.out)"
   ]
  },
  {
   "cell_type": "code",
   "execution_count": 37,
   "metadata": {
    "collapsed": true
   },
   "outputs": [],
   "source": [
    "# Output에서 MSE가 334로 나옴.\n",
    "mse = 334"
   ]
  },
  {
   "cell_type": "code",
   "execution_count": 40,
   "metadata": {
    "collapsed": false
   },
   "outputs": [],
   "source": [
    "CIof4=c(apply(ym,1,mean)[4]-abs(qt(0.025,df=20-4)*sqrt(mse/5)),apply(ym,1,mean)[4]+abs(qt(0.025,df=20-4)*sqrt(mse/5)))"
   ]
  },
  {
   "cell_type": "code",
   "execution_count": 41,
   "metadata": {
    "collapsed": false
   },
   "outputs": [
    {
     "data": {
      "text/html": [
       "<ol class=list-inline>\n",
       "\t<li>689.673745404499</li>\n",
       "\t<li>724.326254595501</li>\n",
       "</ol>\n"
      ],
      "text/latex": [
       "\\begin{enumerate*}\n",
       "\\item 689.673745404499\n",
       "\\item 724.326254595501\n",
       "\\end{enumerate*}\n"
      ],
      "text/markdown": [
       "1. 689.673745404499\n",
       "2. 724.326254595501\n",
       "\n",
       "\n"
      ],
      "text/plain": [
       "[1] 689.6737 724.3263"
      ]
     },
     "metadata": {},
     "output_type": "display_data"
    }
   ],
   "source": [
    "CIof4"
   ]
  },
  {
   "cell_type": "code",
   "execution_count": 24,
   "metadata": {
    "collapsed": false
   },
   "outputs": [
    {
     "data": {
      "text/html": [
       "TRUE"
      ],
      "text/latex": [
       "TRUE"
      ],
      "text/markdown": [
       "TRUE"
      ],
      "text/plain": [
       "[1] TRUE"
      ]
     },
     "metadata": {},
     "output_type": "display_data"
    }
   ],
   "source": [
    "# 고정효과의 총합은 0\n",
    "sum(apply(ym,1,mean)-mean(y))==0"
   ]
  },
  {
   "cell_type": "code",
   "execution_count": 60,
   "metadata": {
    "collapsed": false
   },
   "outputs": [
    {
     "data": {
      "image/png": "[encoded data removed]",
      "text/plain": [
       "Plot with title \"Normal Q-Q Plot\""
      ]
     },
     "metadata": {},
     "output_type": "display_data"
    }
   ],
   "source": [
    "qqnorm(aov.out$residuals)\n",
    "qqline(aov.out$residuals)"
   ]
  },
  {
   "cell_type": "code",
   "execution_count": 63,
   "metadata": {
    "collapsed": false
   },
   "outputs": [
    {
     "data": {
      "image/png": "[encoded data removed]",
      "text/plain": [
       "plot without title"
      ]
     },
     "metadata": {},
     "output_type": "display_data"
    }
   ],
   "source": [
    "plot(1:20,aov.out$residuals)\n",
    "abline(h=0)"
   ]
  },
  {
   "cell_type": "code",
   "execution_count": 65,
   "metadata": {
    "collapsed": false
   },
   "outputs": [
    {
     "data": {
      "image/png": "[encoded data removed]",
      "text/plain": [
       "plot without title"
      ]
     },
     "metadata": {},
     "output_type": "display_data"
    }
   ],
   "source": [
    "plot(aov.out$fitted.values,aov.out$residuals)\n",
    "abline(h=0)"
   ]
  },
  {
   "cell_type": "code",
   "execution_count": 71,
   "metadata": {
    "collapsed": false
   },
   "outputs": [],
   "source": [
    "sp=sum(4*apply(ym,1,var))/16"
   ]
  },
  {
   "cell_type": "code",
   "execution_count": 72,
   "metadata": {
    "collapsed": false
   },
   "outputs": [
    {
     "data": {
      "text/html": [
       "333.7"
      ],
      "text/latex": [
       "333.7"
      ],
      "text/markdown": [
       "333.7"
      ],
      "text/plain": [
       "[1] 333.7"
      ]
     },
     "metadata": {},
     "output_type": "display_data"
    }
   ],
   "source": [
    "sp"
   ]
  },
  {
   "cell_type": "code",
   "execution_count": 93,
   "metadata": {
    "collapsed": false
   },
   "outputs": [
    {
     "data": {
      "text/html": [
       "0.433490528208639"
      ],
      "text/latex": [
       "0.433490528208639"
      ],
      "text/markdown": [
       "0.433490528208639"
      ],
      "text/plain": [
       "[1] 0.4334905"
      ]
     },
     "metadata": {},
     "output_type": "display_data"
    }
   ],
   "source": [
    "q=16*log10(sp)-4*sum(log10(apply(ym,1,var)))\n",
    "c=1+1/(3*3)*(4/4-1/16)\n",
    "2.3026*q/c"
   ]
  },
  {
   "cell_type": "code",
   "execution_count": 74,
   "metadata": {
    "collapsed": false
   },
   "outputs": [
    {
     "data": {
      "text/plain": [
       "\n",
       "\tBartlett test of homogeneity of variances\n",
       "\n",
       "data:  y and factor(x)\n",
       "Bartlett's K-squared = 0.43349, df = 3, p-value = 0.9332\n"
      ]
     },
     "metadata": {},
     "output_type": "display_data"
    }
   ],
   "source": [
    "# 분산의 동질성 검정 - bartlett-test\n",
    "bartlett.test(y,factor(x))"
   ]
  },
  {
   "cell_type": "code",
   "execution_count": 94,
   "metadata": {
    "collapsed": true
   },
   "outputs": [],
   "source": [
    "# contrasts anova\n",
    "contrastnull=cbind(c(1,-1,0,0),\n",
    "c(1,1,-1,-1),\n",
    "c(0,0,1,-1))\n",
    "contrastnull\n",
    "data=data.frame(y,x)\n",
    "data$x=factor(data$x)\n",
    "contrasts(data$x)<-contrastnull\n",
    "model1 <- aov(y ~ x, data = data)\n",
    "summary.aov(model1, split=list(x=list(\"u1 vs. u2\"=1, \"u1 + u2 vs u3 + u4\" = 2, \"u3 vs u4\"=3))) "
   ]
  },
  {
   "cell_type": "code",
   "execution_count": 120,
   "metadata": {
    "collapsed": false
   },
   "outputs": [],
   "source": [
    "LSD=abs(qt(0.025,16))*sqrt(2*mse/5)"
   ]
  },
  {
   "cell_type": "code",
   "execution_count": 118,
   "metadata": {
    "collapsed": false
   },
   "outputs": [
    {
     "name": "stdout",
     "output_type": "stream",
     "text": [
      "[1] -36.2\n",
      "[1] -74.2\n",
      "[1] -155.8\n",
      "[1] -38\n",
      "[1] -119.6\n",
      "[1] -81.6\n"
     ]
    }
   ],
   "source": [
    "ymeans=apply(ym,1,mean)\n",
    "diffs=c()\n",
    "for(i in 1:3){\n",
    "    for (j in (i+1):4){\n",
    "        print(ymeans[i]-ymeans[j])\n",
    "        diffs=c(diffs,ymeans[i]-ymeans[j])\n",
    "    }    \n",
    "}"
   ]
  },
  {
   "cell_type": "code",
   "execution_count": 122,
   "metadata": {
    "collapsed": false
   },
   "outputs": [
    {
     "data": {
      "text/html": [
       "<ol class=list-inline>\n",
       "\t<li>TRUE</li>\n",
       "\t<li>TRUE</li>\n",
       "\t<li>TRUE</li>\n",
       "\t<li>TRUE</li>\n",
       "\t<li>TRUE</li>\n",
       "\t<li>TRUE</li>\n",
       "</ol>\n"
      ],
      "text/latex": [
       "\\begin{enumerate*}\n",
       "\\item TRUE\n",
       "\\item TRUE\n",
       "\\item TRUE\n",
       "\\item TRUE\n",
       "\\item TRUE\n",
       "\\item TRUE\n",
       "\\end{enumerate*}\n"
      ],
      "text/markdown": [
       "1. TRUE\n",
       "2. TRUE\n",
       "3. TRUE\n",
       "4. TRUE\n",
       "5. TRUE\n",
       "6. TRUE\n",
       "\n",
       "\n"
      ],
      "text/plain": [
       "[1] TRUE TRUE TRUE TRUE TRUE TRUE"
      ]
     },
     "metadata": {},
     "output_type": "display_data"
    }
   ],
   "source": [
    "abs(diffs)>LSD\n",
    "# 모든 그룹의 평균차이가 있음."
   ]
  },
  {
   "cell_type": "code",
   "execution_count": 2,
   "metadata": {
    "collapsed": false
   },
   "outputs": [],
   "source": [
    "DC=c(118.8, 122.6, 115.6, 113.6, 119.5, 115.9, 115.8, 115.1, 116.9, 115.4, 115.6, 107.9) \n",
    "DCnMC=c(105.4, 101.1, 102.7, 97.1, 101.9, 98.9, 100.0, 99.8, 102.6, 100.9, 104.5, 93.5) \n",
    "MC= c(102.1, 105.8, 99.6, 102.7, 98.8, 100.9, 102.8, 98.7, 94.7, 97.8, 99.7, 98.6)"
   ]
  },
  {
   "cell_type": "code",
   "execution_count": 4,
   "metadata": {
    "collapsed": true
   },
   "outputs": [],
   "source": [
    "choco=c(DC,DCnMC,MC)"
   ]
  },
  {
   "cell_type": "code",
   "execution_count": 25,
   "metadata": {
    "collapsed": true
   },
   "outputs": [],
   "source": [
    "X=c(rep(\"DC\",12),rep(\"DCnMC\",12),rep(\"MC\",12))"
   ]
  },
  {
   "cell_type": "code",
   "execution_count": 26,
   "metadata": {
    "collapsed": true
   },
   "outputs": [],
   "source": [
    "X=factor(X)"
   ]
  },
  {
   "cell_type": "code",
   "execution_count": 27,
   "metadata": {
    "collapsed": false
   },
   "outputs": [
    {
     "data": {
      "text/plain": [
       "            Df Sum Sq Mean Sq F value   Pr(>F)    \n",
       "X            2 1952.6   976.3   93.58 2.52e-14 ***\n",
       "Residuals   33  344.3    10.4                     \n",
       "---\n",
       "Signif. codes:  0 '***' 0.001 '**' 0.01 '*' 0.05 '.' 0.1 ' ' 1"
      ]
     },
     "metadata": {},
     "output_type": "display_data"
    }
   ],
   "source": [
    "chocoaov=aov(choco~X)\n",
    "summary(chocoaov)"
   ]
  },
  {
   "cell_type": "code",
   "execution_count": 28,
   "metadata": {
    "collapsed": false
   },
   "outputs": [],
   "source": [
    "library(agricolae)"
   ]
  },
  {
   "cell_type": "code",
   "execution_count": 29,
   "metadata": {
    "collapsed": false,
    "scrolled": true
   },
   "outputs": [
    {
     "data": {
      "text/plain": [
       "$statistics\n",
       "      Mean       CV  MSerror      LSD\n",
       "  105.6472 3.057434 10.43351 2.682876\n",
       "\n",
       "$parameters\n",
       "  Df ntr  t.value alpha       test name.t\n",
       "  33   3 2.034515  0.05 Fisher-LSD      X\n",
       "\n",
       "$means\n",
       "         choco      std  r       LCL      UCL   Min   Max\n",
       "DC    116.0583 3.533337 12 114.16125 117.9554 107.9 122.6\n",
       "DCnMC 100.7000 3.235035 12  98.80292 102.5971  93.5 105.4\n",
       "MC    100.1833 2.889742 12  98.28625 102.0804  94.7 105.8\n",
       "\n",
       "$comparison\n",
       "NULL\n",
       "\n",
       "$groups\n",
       "    trt    means M\n",
       "1    DC 116.0583 a\n",
       "2 DCnMC 100.7000 b\n",
       "3    MC 100.1833 b\n"
      ]
     },
     "metadata": {},
     "output_type": "display_data"
    }
   ],
   "source": [
    "out=LSD.test(chocoaov,\"X\")\n",
    "out"
   ]
  },
  {
   "cell_type": "code",
   "execution_count": 33,
   "metadata": {
    "collapsed": false
   },
   "outputs": [
    {
     "data": {
      "image/png": "[encoded data removed]",
      "text/plain": [
       "Plot with title \"Normal Q-Q Plot\""
      ]
     },
     "metadata": {},
     "output_type": "display_data"
    }
   ],
   "source": [
    "qqnorm(chocoaov$residuals)\n",
    "qqline(chocoaov$residuals)"
   ]
  },
  {
   "cell_type": "code",
   "execution_count": 35,
   "metadata": {
    "collapsed": false
   },
   "outputs": [
    {
     "data": {
      "image/png": "[encoded data removed]",
      "text/plain": [
       "plot without title"
      ]
     },
     "metadata": {},
     "output_type": "display_data"
    }
   ],
   "source": [
    "plot(chocoaov$fitted.values,chocoaov$residuals)\n",
    "abline(h=0)"
   ]
  },
  {
   "cell_type": "raw",
   "metadata": {},
   "source": []
  },
  {
   "cell_type": "raw",
   "metadata": {},
   "source": []
  }
 ],
 "metadata": {
  "anaconda-cloud": {},
  "kernelspec": {
   "display_name": "R",
   "language": "R",
   "name": "ir"
  },
  "language_info": {
   "codemirror_mode": "r",
   "file_extension": ".r",
   "mimetype": "text/x-r-source",
   "name": "R",
   "pygments_lexer": "r",
   "version": "3.3.2"
  }
 },
 "nbformat": 4,
 "nbformat_minor": 1
}
