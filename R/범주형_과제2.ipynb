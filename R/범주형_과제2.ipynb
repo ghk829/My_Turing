{
 "cells": [
  {
   "cell_type": "code",
   "execution_count": 1,
   "metadata": {
    "collapsed": false
   },
   "outputs": [
    {
     "data": {
      "text/html": [
       "<table>\n",
       "<thead><tr><th scope=col>employeed</th><th scope=col>VL</th><th scope=col>L</th><th scope=col>M</th><th scope=col>H</th><th scope=col>VH</th></tr></thead>\n",
       "<tbody>\n",
       "\t<tr><td>1   </td><td>91  </td><td>990 </td><td>3758</td><td>1157</td><td>451 </td></tr>\n",
       "\t<tr><td>0   </td><td>42  </td><td>350 </td><td>1335</td><td> 443</td><td>211 </td></tr>\n",
       "</tbody>\n",
       "</table>\n"
      ],
      "text/latex": [
       "\\begin{tabular}{r|llllll}\n",
       " employeed & VL & L & M & H & VH\\\\\n",
       "\\hline\n",
       "\t 1    & 91   & 990  & 3758 & 1157 & 451 \\\\\n",
       "\t 0    & 42   & 350  & 1335 &  443 & 211 \\\\\n",
       "\\end{tabular}\n"
      ],
      "text/markdown": [
       "\n",
       "employeed | VL | L | M | H | VH | \n",
       "|---|---|\n",
       "| 1    | 91   | 990  | 3758 | 1157 | 451  | \n",
       "| 0    | 42   | 350  | 1335 |  443 | 211  | \n",
       "\n",
       "\n"
      ],
      "text/plain": [
       "  employeed VL L   M    H    VH \n",
       "1 1         91 990 3758 1157 451\n",
       "2 0         42 350 1335  443 211"
      ]
     },
     "metadata": {},
     "output_type": "display_data"
    }
   ],
   "source": [
    "#문제 2.1번\n",
    "satis=matrix(0,2,6)\n",
    "satis[1,]=c(1,91,990,3758,1157,451)\n",
    "satis[2,]=c(0,42,350,1335,443,211)\n",
    "satis=data.frame(satis)\n",
    "satisf=satis[,2:6]\n",
    "names(satis)=c(\"employeed\",\"VL\",\"L\",\"M\",\"H\",\"VH\")\n",
    "satis"
   ]
  },
  {
   "cell_type": "code",
   "execution_count": 2,
   "metadata": {
    "collapsed": false
   },
   "outputs": [
    {
     "name": "stdout",
     "output_type": "stream",
     "text": [
      "[1]   91 1081 4839 5996 6447\n",
      "[1]   42  392 1727 2170 2381\n"
     ]
    }
   ],
   "source": [
    "print(cumsum(t(satisf[1,])))\n",
    "print(cumsum(t(satisf[2,])))\n",
    "# 정규직 누적 numbers\n",
    "# 비정규직 누적 numbers"
   ]
  },
  {
   "cell_type": "code",
   "execution_count": 3,
   "metadata": {
    "collapsed": false
   },
   "outputs": [
    {
     "name": "stdout",
     "output_type": "stream",
     "text": [
      "[1]  0.01431718  0.20145360  3.00932836 13.29490022\n",
      "[1]  0.01795639  0.19708396  2.64067278 10.28436019\n",
      "[1] 0.7973306 1.0221714 1.1396067 1.2927299\n"
     ]
    },
    {
     "data": {
      "text/html": [
       "1.06295966496066"
      ],
      "text/latex": [
       "1.06295966496066"
      ],
      "text/markdown": [
       "1.06295966496066"
      ],
      "text/plain": [
       "[1] 1.06296"
      ]
     },
     "metadata": {},
     "output_type": "display_data"
    }
   ],
   "source": [
    "odds1=cumsum(t(satisf[1,]))/(6447-cumsum(t(satisf[1,])))\n",
    "odds2=cumsum(t(satisf[2,]))/(2381-cumsum(t(satisf[2,])))\n",
    "oddsr=c()\n",
    "for(i in 1:5){\n",
    "  oddsr=c(oddsr,odds1[i]/odds2[i])\n",
    "}\n",
    "print(odds1[1:4])\n",
    "print(odds2[1:4])\n",
    "print(oddsr[1:4])\n",
    "mean(oddsr[1:4])"
   ]
  },
  {
   "cell_type": "code",
   "execution_count": 4,
   "metadata": {
    "collapsed": false,
    "scrolled": true
   },
   "outputs": [
    {
     "name": "stderr",
     "output_type": "stream",
     "text": [
      "Warning message:\n",
      "\"package 'VGAM' was built under R version 3.4.0\"Loading required package: stats4\n",
      "Loading required package: splines\n",
      "Warning message in model.frame(formula = cbind(VL, L, M, H, VH) ~ employeed, data = satis, :\n",
      "\"바이트코드 버전이 일치하지 않으므로 eval을 사용합니다\""
     ]
    },
    {
     "name": "stdout",
     "output_type": "stream",
     "text": [
      "  P(Y<=1)/P(Y>1) P(Y<=2)/P(Y>2) P(Y<=3)/P(Y>3) P(Y<=4)/P(Y>4)\n",
      "1     0.01568561      0.2053803       2.979605       12.66867\n",
      "2     0.01423783      0.1864237       2.704587       11.49935\n",
      "P(Y<=1|1)/P(Y>1|1)/P(Y<=1|0)/P(Y>1|0)     P(Y<=2)/P(Y>2)/P(Y<=2|0)/P(Y>2|0) \n",
      "                             1.101686                              1.101686 \n",
      "    P(Y<=3)/P(Y>3)/P(Y<=3|0)/P(Y>3|0)     P(Y<=4)/P(Y>4)/P(Y<=4|0)/P(Y>4|0) \n",
      "                             1.101686                              1.101686 \n"
     ]
    }
   ],
   "source": [
    "library(VGAM)\n",
    "fit2 <- vglm(cbind(VL,L,M,H,VH) ~ employeed,propodds,satis)\n",
    "result2=summary(fit2)\n",
    "odds=1/exp(predict(fit2))\n",
    "dimnames(odds)[2][[1]]<-c(\"P(Y<=1)/P(Y>1)\",\"P(Y<=2)/P(Y>2)\",\"P(Y<=3)/P(Y>3)\",\"P(Y<=4)/P(Y>4)\")\n",
    "oddsratio=odds[1,]/odds[2,]\n",
    "names(oddsratio)<-c(\"P(Y<=1|1)/P(Y>1|1)/P(Y<=1|0)/P(Y>1|0)\",\"P(Y<=2)/P(Y>2)/P(Y<=2|0)/P(Y>2|0)\",\"P(Y<=3)/P(Y>3)/P(Y<=3|0)/P(Y>3|0)\",\"P(Y<=4)/P(Y>4)/P(Y<=4|0)/P(Y>4|0)\")\n",
    "print(odds)\n",
    "print(oddsratio)"
   ]
  },
  {
   "cell_type": "code",
   "execution_count": 5,
   "metadata": {
    "collapsed": false
   },
   "outputs": [
    {
     "data": {
      "text/plain": [
       "\n",
       "\tPearson's Chi-squared test\n",
       "\n",
       "data:  satisf\n",
       "X-squared = 11.909, df = 4, p-value = 0.01804\n"
      ]
     },
     "metadata": {},
     "output_type": "display_data"
    }
   ],
   "source": [
    "#문제 2.2\n",
    "chisq.test(satisf)"
   ]
  },
  {
   "cell_type": "code",
   "execution_count": 6,
   "metadata": {
    "collapsed": false
   },
   "outputs": [
    {
     "name": "stdout",
     "output_type": "stream",
     "text": [
      "\n",
      "Call:\n",
      "vglm(formula = cbind(VL, L, M, H, VH) ~ 1, family = propodds, \n",
      "    data = satis)\n",
      "\n",
      "\n",
      "Coefficients:\n",
      "(Intercept):1 (Intercept):2 (Intercept):3 (Intercept):4 \n",
      "     4.180154      1.608079     -1.065655     -2.512469 \n",
      "\n",
      "Degrees of Freedom: 8 Total; 4 Residual\n",
      "Residual deviance: 11.59445 \n",
      "Log-likelihood: -35.40099 \n"
     ]
    }
   ],
   "source": [
    "#문제 2.3\n",
    "\n",
    "fit1 <- vglm(cbind(VL,L,M,H,VH) ~ 1,propodds,satis)\n",
    "result1=summary(fit1)\n",
    "print(fit1)"
   ]
  },
  {
   "cell_type": "code",
   "execution_count": 7,
   "metadata": {
    "collapsed": false
   },
   "outputs": [
    {
     "data": {
      "text/html": [
       "0.0206361567569308"
      ],
      "text/latex": [
       "0.0206361567569308"
      ],
      "text/markdown": [
       "0.0206361567569308"
      ],
      "text/plain": [
       "[1] 0.02063616"
      ]
     },
     "metadata": {},
     "output_type": "display_data"
    }
   ],
   "source": [
    "1-pchisq(11.59445,df=4)"
   ]
  },
  {
   "cell_type": "code",
   "execution_count": 8,
   "metadata": {
    "collapsed": false
   },
   "outputs": [
    {
     "data": {
      "text/html": [
       "11.9084605851891"
      ],
      "text/latex": [
       "11.9084605851891"
      ],
      "text/markdown": [
       "11.9084605851891"
      ],
      "text/plain": [
       "[1] 11.90846"
      ]
     },
     "metadata": {},
     "output_type": "display_data"
    }
   ],
   "source": [
    "sum(result1@pearson.resid^2)"
   ]
  },
  {
   "cell_type": "code",
   "execution_count": 9,
   "metadata": {
    "collapsed": false
   },
   "outputs": [
    {
     "data": {
      "text/plain": [
       "\n",
       "Call:\n",
       "vglm(formula = cbind(VL, L, M, H, VH) ~ employeed, family = propodds, \n",
       "    data = satis)\n",
       "\n",
       "\n",
       "Pearson residuals:\n",
       "  logit(P[Y>=2]) logit(P[Y>=3]) logit(P[Y>=4]) logit(P[Y>=5])\n",
       "1         0.8448         0.4973        -0.1437         -1.019\n",
       "2        -1.4574        -0.8483         0.2259          1.606\n",
       "\n",
       "Coefficients: \n",
       "              Estimate Std. Error z value Pr(>|z|)    \n",
       "(Intercept):1  4.25185    0.09395  45.255   <2e-16 ***\n",
       "(Intercept):2  1.67973    0.04468  37.592   <2e-16 ***\n",
       "(Intercept):3 -0.99495    0.04148 -23.985   <2e-16 ***\n",
       "(Intercept):4 -2.44229    0.05239 -46.617   <2e-16 ***\n",
       "employeed     -0.09684    0.04645  -2.085   0.0371 *  \n",
       "---\n",
       "Signif. codes:  0 '***' 0.001 '**' 0.01 '*' 0.05 '.' 0.1 ' ' 1\n",
       "\n",
       "Number of linear predictors:  4 \n",
       "\n",
       "Names of linear predictors: \n",
       "logit(P[Y>=2]), logit(P[Y>=3]), logit(P[Y>=4]), logit(P[Y>=5])\n",
       "\n",
       "Residual deviance: 7.2894 on 3 degrees of freedom\n",
       "\n",
       "Log-likelihood: -33.2485 on 3 degrees of freedom\n",
       "\n",
       "Number of iterations: 3 \n",
       "\n",
       "Exponentiated coefficients:\n",
       "employeed \n",
       "0.9076999 "
      ]
     },
     "metadata": {},
     "output_type": "display_data"
    }
   ],
   "source": [
    "#문제 2.4\n",
    "fit2 <- vglm(cbind(VL,L,M,H,VH) ~ employeed,propodds,satis)\n",
    "result2=summary(fit2)\n",
    "result2"
   ]
  },
  {
   "cell_type": "code",
   "execution_count": 10,
   "metadata": {
    "collapsed": false
   },
   "outputs": [
    {
     "data": {
      "text/plain": [
       "\n",
       "Call:\n",
       "vglm(formula = cbind(VH, H, M, L, VL) ~ employeed, family = propodds, \n",
       "    data = satis)\n",
       "\n",
       "\n",
       "Pearson residuals:\n",
       "  logit(P[Y>=2]) logit(P[Y>=3]) logit(P[Y>=4]) logit(P[Y>=5])\n",
       "1          1.019         0.1437        -0.4973        -0.8448\n",
       "2         -1.606        -0.2259         0.8483         1.4574\n",
       "\n",
       "Coefficients: \n",
       "              Estimate Std. Error z value Pr(>|z|)    \n",
       "(Intercept):1  2.44229    0.05239  46.617   <2e-16 ***\n",
       "(Intercept):2  0.99495    0.04148  23.985   <2e-16 ***\n",
       "(Intercept):3 -1.67973    0.04468 -37.592   <2e-16 ***\n",
       "(Intercept):4 -4.25185    0.09395 -45.255   <2e-16 ***\n",
       "employeed      0.09684    0.04645   2.085   0.0371 *  \n",
       "---\n",
       "Signif. codes:  0 '***' 0.001 '**' 0.01 '*' 0.05 '.' 0.1 ' ' 1\n",
       "\n",
       "Number of linear predictors:  4 \n",
       "\n",
       "Names of linear predictors: \n",
       "logit(P[Y>=2]), logit(P[Y>=3]), logit(P[Y>=4]), logit(P[Y>=5])\n",
       "\n",
       "Residual deviance: 7.2894 on 3 degrees of freedom\n",
       "\n",
       "Log-likelihood: -33.2485 on 3 degrees of freedom\n",
       "\n",
       "Number of iterations: 3 \n",
       "\n",
       "Exponentiated coefficients:\n",
       "employeed \n",
       " 1.101686 "
      ]
     },
     "metadata": {},
     "output_type": "display_data"
    }
   ],
   "source": [
    "#SAS 결과와 동일하게 만듬.\n",
    "fit2 <- vglm(cbind(VH,H,M,L,VL) ~ employeed,propodds,satis)\n",
    "result2=summary(fit2)\n",
    "result2"
   ]
  },
  {
   "cell_type": "code",
   "execution_count": 11,
   "metadata": {
    "collapsed": false
   },
   "outputs": [],
   "source": [
    "#문제 2.5\n",
    "attach(satis)"
   ]
  },
  {
   "cell_type": "code",
   "execution_count": 12,
   "metadata": {
    "collapsed": false
   },
   "outputs": [],
   "source": [
    "y=c(rep(1,sum(VL)),rep(2,sum(L)),rep(3,sum(M)),rep(4,sum(H)),rep(5,sum(VH)))\n",
    "x=c(rep(c(1,0),VL),rep(c(1,0),L),rep(c(1,0),M),rep(c(1,0),H),rep(c(1,0),VH))"
   ]
  },
  {
   "cell_type": "code",
   "execution_count": 13,
   "metadata": {
    "collapsed": false,
    "scrolled": true
   },
   "outputs": [
    {
     "data": {
      "text/plain": [
       "\n",
       "Call:\n",
       "lm(formula = y ~ x)\n",
       "\n",
       "Residuals:\n",
       "    Min      1Q  Median      3Q     Max \n",
       "-2.1810 -0.1810 -0.1376  0.8190  1.8624 \n",
       "\n",
       "Coefficients:\n",
       "            Estimate Std. Error t value Pr(>|t|)    \n",
       "(Intercept)  3.18102    0.01678 189.526   <2e-16 ***\n",
       "x           -0.04343    0.01964  -2.211    0.027 *  \n",
       "---\n",
       "Signif. codes:  0 '***' 0.001 '**' 0.01 '*' 0.05 '.' 0.1 ' ' 1\n",
       "\n",
       "Residual standard error: 0.819 on 8826 degrees of freedom\n",
       "Multiple R-squared:  0.0005538,\tAdjusted R-squared:  0.0004405 \n",
       "F-statistic:  4.89 on 1 and 8826 DF,  p-value: 0.02703\n"
      ]
     },
     "metadata": {},
     "output_type": "display_data"
    }
   ],
   "source": [
    "summary(lm(y~x))"
   ]
  },
  {
   "cell_type": "code",
   "execution_count": 14,
   "metadata": {
    "collapsed": false,
    "scrolled": true
   },
   "outputs": [
    {
     "data": {
      "text/plain": [
       "\n",
       "\tPearson's product-moment correlation\n",
       "\n",
       "data:  y and x\n",
       "t = -2.2114, df = 8826, p-value = 0.02703\n",
       "alternative hypothesis: true correlation is not equal to 0\n",
       "95 percent confidence interval:\n",
       " -0.044371366 -0.002673171\n",
       "sample estimates:\n",
       "       cor \n",
       "-0.0235325 \n"
      ]
     },
     "metadata": {},
     "output_type": "display_data"
    }
   ],
   "source": [
    "cor.test(y,x)"
   ]
  },
  {
   "cell_type": "code",
   "execution_count": 15,
   "metadata": {
    "collapsed": false,
    "scrolled": true
   },
   "outputs": [
    {
     "name": "stderr",
     "output_type": "stream",
     "text": [
      "Warning message in vglm.fitter(x = x, y = y, w = w, offset = offset, Xm2 = Xm2, :\n",
      "\"iterations terminated because half-step sizes are very small\"Warning message in vglm.fitter(x = x, y = y, w = w, offset = offset, Xm2 = Xm2, :\n",
      "\"some quantities such as z, residuals, SEs may be inaccurate due to convergence at a half-step\""
     ]
    },
    {
     "data": {
      "text/plain": [
       "\n",
       "Call:\n",
       "vglm(formula = cbind(VL, L, M, H, VH) ~ employeed, family = multinomial, \n",
       "    data = satis)\n",
       "\n",
       "\n",
       "Coefficients:\n",
       "(Intercept):1 (Intercept):2 (Intercept):3 (Intercept):4   employeed:1 \n",
       "  -1.61418852    0.50607502    1.84482844    0.74171164    0.01358068 \n",
       "  employeed:2   employeed:3   employeed:4 \n",
       "   0.28016258    0.27534640    0.20040675 \n",
       "\n",
       "Degrees of Freedom: 8 Total; 0 Residual\n",
       "Residual deviance: -2.742057e-12 \n",
       "Log-likelihood: -29.60377 \n",
       "\n",
       "This is a multinomial logit model with 5 levels"
      ]
     },
     "metadata": {},
     "output_type": "display_data"
    }
   ],
   "source": [
    "#문제 2.6\n",
    "fit3=vglm(cbind(VL,L,M,H,VH) ~ employeed,multinomial,satis)\n",
    "fit3"
   ]
  },
  {
   "cell_type": "code",
   "execution_count": 16,
   "metadata": {
    "collapsed": false
   },
   "outputs": [
    {
     "data": {
      "text/html": [
       "-29.6037723557492"
      ],
      "text/latex": [
       "-29.6037723557492"
      ],
      "text/markdown": [
       "-29.6037723557492"
      ],
      "text/plain": [
       "[1] -29.60377"
      ]
     },
     "metadata": {},
     "output_type": "display_data"
    }
   ],
   "source": [
    "logLik(fit3)"
   ]
  },
  {
   "cell_type": "code",
   "execution_count": 17,
   "metadata": {
    "collapsed": false
   },
   "outputs": [
    {
     "data": {
      "text/html": [
       "-33.2484862348192"
      ],
      "text/latex": [
       "-33.2484862348192"
      ],
      "text/markdown": [
       "-33.2484862348192"
      ],
      "text/plain": [
       "[1] -33.24849"
      ]
     },
     "metadata": {},
     "output_type": "display_data"
    }
   ],
   "source": [
    "logLik(fit2)"
   ]
  },
  {
   "cell_type": "code",
   "execution_count": 18,
   "metadata": {
    "collapsed": false
   },
   "outputs": [
    {
     "data": {
      "text/html": [
       "-35.4009949595657"
      ],
      "text/latex": [
       "-35.4009949595657"
      ],
      "text/markdown": [
       "-35.4009949595657"
      ],
      "text/plain": [
       "[1] -35.40099"
      ]
     },
     "metadata": {},
     "output_type": "display_data"
    }
   ],
   "source": [
    "logLik(fit1)"
   ]
  },
  {
   "cell_type": "code",
   "execution_count": 19,
   "metadata": {
    "collapsed": false
   },
   "outputs": [
    {
     "data": {
      "text/html": [
       "7.28942775813994"
      ],
      "text/latex": [
       "7.28942775813994"
      ],
      "text/markdown": [
       "7.28942775813994"
      ],
      "text/plain": [
       "[1] 7.289428"
      ]
     },
     "metadata": {},
     "output_type": "display_data"
    }
   ],
   "source": [
    "2*(logLik(fit3)-logLik(fit2))"
   ]
  },
  {
   "cell_type": "code",
   "execution_count": 20,
   "metadata": {
    "collapsed": false
   },
   "outputs": [
    {
     "data": {
      "text/html": [
       "11.5944452076328"
      ],
      "text/latex": [
       "11.5944452076328"
      ],
      "text/markdown": [
       "11.5944452076328"
      ],
      "text/plain": [
       "[1] 11.59445"
      ]
     },
     "metadata": {},
     "output_type": "display_data"
    }
   ],
   "source": [
    "2*(logLik(fit3)-logLik(fit1))"
   ]
  },
  {
   "cell_type": "code",
   "execution_count": 21,
   "metadata": {
    "collapsed": false
   },
   "outputs": [
    {
     "data": {
      "text/html": [
       "<table>\n",
       "<thead><tr><th scope=col>X1</th><th scope=col>X2</th><th scope=col>X3</th><th scope=col>X4</th><th scope=col>X5</th></tr></thead>\n",
       "<tbody>\n",
       "\t<tr><td>1  </td><td>1  </td><td>370</td><td>49 </td><td>74 </td></tr>\n",
       "\t<tr><td>1  </td><td>0  </td><td>250</td><td>45 </td><td>71 </td></tr>\n",
       "\t<tr><td>0  </td><td>1  </td><td> 64</td><td> 9 </td><td>15 </td></tr>\n",
       "\t<tr><td>0  </td><td>0  </td><td> 25</td><td> 5 </td><td>13 </td></tr>\n",
       "</tbody>\n",
       "</table>\n"
      ],
      "text/latex": [
       "\\begin{tabular}{r|lllll}\n",
       " X1 & X2 & X3 & X4 & X5\\\\\n",
       "\\hline\n",
       "\t 1   & 1   & 370 & 49  & 74 \\\\\n",
       "\t 1   & 0   & 250 & 45  & 71 \\\\\n",
       "\t 0   & 1   &  64 &  9  & 15 \\\\\n",
       "\t 0   & 0   &  25 &  5  & 13 \\\\\n",
       "\\end{tabular}\n"
      ],
      "text/markdown": [
       "\n",
       "X1 | X2 | X3 | X4 | X5 | \n",
       "|---|---|---|---|\n",
       "| 1   | 1   | 370 | 49  | 74  | \n",
       "| 1   | 0   | 250 | 45  | 71  | \n",
       "| 0   | 1   |  64 |  9  | 15  | \n",
       "| 0   | 0   |  25 |  5  | 13  | \n",
       "\n",
       "\n"
      ],
      "text/plain": [
       "  X1 X2 X3  X4 X5\n",
       "1 1  1  370 49 74\n",
       "2 1  0  250 45 71\n",
       "3 0  1   64  9 15\n",
       "4 0  0   25  5 13"
      ]
     },
     "metadata": {},
     "output_type": "display_data"
    }
   ],
   "source": [
    "#문제 1번\n",
    "Belief=matrix(0,4,5)\n",
    "Belief[,1]=c(1,1,0,0)\n",
    "Belief[,2]=c(1,0,1,0)\n",
    "Belief[,3]=c(370,250,64,25)\n",
    "Belief[,4]=c(49,45,9,5)\n",
    "Belief[,5]=c(74,71,15,13)\n",
    "Belief <- data.frame(Belief)\n",
    "Belief"
   ]
  },
  {
   "cell_type": "code",
   "execution_count": 22,
   "metadata": {
    "collapsed": false
   },
   "outputs": [
    {
     "name": "stderr",
     "output_type": "stream",
     "text": [
      "Warning message in vglm.fitter(x = x, y = y, w = w, offset = offset, Xm2 = Xm2, :\n",
      "\"iterations terminated because half-step sizes are very small\"Warning message in vglm.fitter(x = x, y = y, w = w, offset = offset, Xm2 = Xm2, :\n",
      "\"some quantities such as z, residuals, SEs may be inaccurate due to convergence at a half-step\""
     ]
    }
   ],
   "source": [
    "names(Belief)=c(\"Race\",\"Gender\",\"Yes\",\"Un\",\"No\")\n",
    "fit1 <- vglm(cbind(Yes,Un,No) ~ Race * Gender, multinomial, data=Belief)\n",
    "result=summary(fit1)"
   ]
  },
  {
   "cell_type": "code",
   "execution_count": 23,
   "metadata": {
    "collapsed": false
   },
   "outputs": [
    {
     "data": {
      "text/plain": [
       "\n",
       "Call:\n",
       "vglm(formula = cbind(Yes, Un, No) ~ Race * Gender, family = multinomial, \n",
       "    data = Belief)\n",
       "\n",
       "\n",
       "Coefficients: \n",
       "              Estimate Std. Error z value Pr(>|z|)  \n",
       "(Intercept):1   0.6539     0.3419   1.912   0.0558 .\n",
       "(Intercept):2  -0.9555     0.5262  -1.816   0.0694 .\n",
       "Race:1          0.6049     0.3674   1.646   0.0997 .\n",
       "Race:2          0.4995     0.5597   0.892   0.3721  \n",
       "Gender:1        0.7969     0.4463   1.785   0.0742 .\n",
       "Gender:2        0.4447     0.6743   0.659   0.5096  \n",
       "Race:Gender:1  -0.4462     0.4832  -0.923   0.3558  \n",
       "Race:Gender:2  -0.4009     0.7245  -0.553   0.5800  \n",
       "---\n",
       "Signif. codes:  0 '***' 0.001 '**' 0.01 '*' 0.05 '.' 0.1 ' ' 1\n",
       "\n",
       "Number of linear predictors:  2 \n",
       "\n",
       "Names of linear predictors: log(mu[,1]/mu[,3]), log(mu[,2]/mu[,3])\n",
       "\n",
       "Residual deviance: -5.346e-14 on 0 degrees of freedom\n",
       "\n",
       "Log-likelihood: -19.3051 on 0 degrees of freedom\n",
       "\n",
       "Number of iterations: 7 \n",
       "\n",
       "Reference group is level  3  of the response"
      ]
     },
     "metadata": {},
     "output_type": "display_data"
    }
   ],
   "source": [
    "result"
   ]
  },
  {
   "cell_type": "code",
   "execution_count": 58,
   "metadata": {
    "collapsed": false,
    "scrolled": true
   },
   "outputs": [
    {
     "data": {
      "text/html": [
       "<table>\n",
       "<thead><tr><th scope=col>S</th><th scope=col>E</th><th scope=col>I</th><th scope=col>Count</th></tr></thead>\n",
       "<tbody>\n",
       "\t<tr><td>1     </td><td>1     </td><td>0     </td><td>  1105</td></tr>\n",
       "\t<tr><td>1     </td><td>0     </td><td>0     </td><td>411111</td></tr>\n",
       "\t<tr><td>0     </td><td>1     </td><td>0     </td><td>  4624</td></tr>\n",
       "\t<tr><td>0     </td><td>0     </td><td>0     </td><td>157342</td></tr>\n",
       "\t<tr><td>1     </td><td>1     </td><td>1     </td><td>    14</td></tr>\n",
       "\t<tr><td>1     </td><td>0     </td><td>1     </td><td>   483</td></tr>\n",
       "\t<tr><td>0     </td><td>1     </td><td>1     </td><td>   497</td></tr>\n",
       "\t<tr><td>0     </td><td>0     </td><td>1     </td><td>  1008</td></tr>\n",
       "</tbody>\n",
       "</table>\n"
      ],
      "text/latex": [
       "\\begin{tabular}{r|llll}\n",
       " S & E & I & Count\\\\\n",
       "\\hline\n",
       "\t 1      & 1      & 0      &   1105\\\\\n",
       "\t 1      & 0      & 0      & 411111\\\\\n",
       "\t 0      & 1      & 0      &   4624\\\\\n",
       "\t 0      & 0      & 0      & 157342\\\\\n",
       "\t 1      & 1      & 1      &     14\\\\\n",
       "\t 1      & 0      & 1      &    483\\\\\n",
       "\t 0      & 1      & 1      &    497\\\\\n",
       "\t 0      & 0      & 1      &   1008\\\\\n",
       "\\end{tabular}\n"
      ],
      "text/markdown": [
       "\n",
       "S | E | I | Count | \n",
       "|---|---|---|---|---|---|---|---|\n",
       "| 1      | 1      | 0      |   1105 | \n",
       "| 1      | 0      | 0      | 411111 | \n",
       "| 0      | 1      | 0      |   4624 | \n",
       "| 0      | 0      | 0      | 157342 | \n",
       "| 1      | 1      | 1      |     14 | \n",
       "| 1      | 0      | 1      |    483 | \n",
       "| 0      | 1      | 1      |    497 | \n",
       "| 0      | 0      | 1      |   1008 | \n",
       "\n",
       "\n"
      ],
      "text/plain": [
       "  S E I Count \n",
       "1 1 1 0   1105\n",
       "2 1 0 0 411111\n",
       "3 0 1 0   4624\n",
       "4 0 0 0 157342\n",
       "5 1 1 1     14\n",
       "6 1 0 1    483\n",
       "7 0 1 1    497\n",
       "8 0 0 1   1008"
      ]
     },
     "metadata": {},
     "output_type": "display_data"
    },
    {
     "name": "stderr",
     "output_type": "stream",
     "text": [
      "The following objects are masked from SEI (pos = 3):\n",
      "\n",
      "    Count, E, I, S\n",
      "\n",
      "The following objects are masked from SEI (pos = 4):\n",
      "\n",
      "    Count, E, I, S\n",
      "\n"
     ]
    }
   ],
   "source": [
    "#문제 3.1번\n",
    "SEI=matrix(0,8,4)\n",
    "SEI[,1]=c(1,1,0,0,1,1,0,0)\n",
    "SEI[,2]=c(1,0,1,0,1,0,1,0)\n",
    "SEI[,3]=c(0,0,0,0,1,1,1,1)\n",
    "SEI[,4]=c(1105,411111,4624,157342,14,483,497,1008)\n",
    "\n",
    "SEI=data.frame(SEI)\n",
    "names(SEI)=c(\"S\",\"E\",\"I\",\"Count\")\n",
    "SEIf=SEI[,3:4]\n",
    "SEI\n",
    "attach(SEI)\n",
    "S1=factor(S,labels=c(\"S(YES)\",\"S(NO)\"))\n",
    "E1=factor(E,labels=c(\"E(YES)\",\"E(NO)\"))\n",
    "I1=factor(I,labels=c(\"I(NO)\",\"I(YES)\"))\n",
    "logf1=glm(Count~S+E+I+S:E+I:S, family=poisson(link=\"log\"), data=SEI)\n",
    "logf2=glm(Count~S+E+I+S:E+I:S+E:I, family=poisson(link=\"log\"), data=SEI)\n",
    "logf3=glm(Count~S*E*I,family=poisson(link=\"log\"),data=SEI)"
   ]
  },
  {
   "cell_type": "code",
   "execution_count": 62,
   "metadata": {
    "collapsed": false
   },
   "outputs": [
    {
     "data": {
      "text/plain": [
       "\n",
       "Call:\n",
       "glm(formula = Count ~ S + E + I + S:E + I:S, family = poisson(link = \"log\"), \n",
       "    data = SEI)\n",
       "\n",
       "Deviance Residuals: \n",
       "      1        2        3        4        5        6        7        8  \n",
       " -0.379    0.020   -6.412    1.135    6.343   -0.571   37.967  -12.482  \n",
       "\n",
       "Coefficients:\n",
       "             Estimate Std. Error z value Pr(>|z|)    \n",
       "(Intercept) 11.963314   0.002524 4739.31   <2e-16 ***\n",
       "S            0.963274   0.002967  324.64   <2e-16 ***\n",
       "E           -3.431458   0.014198 -241.68   <2e-16 ***\n",
       "I           -4.678594   0.025896 -180.67   <2e-16 ***\n",
       "S:E         -2.476144   0.033131  -74.74   <2e-16 ***\n",
       "S:I         -2.042119   0.051818  -39.41   <2e-16 ***\n",
       "---\n",
       "Signif. codes:  0 '***' 0.001 '**' 0.01 '*' 0.05 '.' 0.1 ' ' 1\n",
       "\n",
       "(Dispersion parameter for poisson family taken to be 1)\n",
       "\n",
       "    Null deviance: 1624865.3  on 7  degrees of freedom\n",
       "Residual deviance:    1680.4  on 2  degrees of freedom\n",
       "AIC: 1769.4\n",
       "\n",
       "Number of Fisher Scoring iterations: 5\n"
      ]
     },
     "metadata": {},
     "output_type": "display_data"
    }
   ],
   "source": [
    "summary(logf1)"
   ]
  },
  {
   "cell_type": "code",
   "execution_count": 25,
   "metadata": {
    "collapsed": false
   },
   "outputs": [
    {
     "data": {
      "text/html": [
       "1677.55799553703"
      ],
      "text/latex": [
       "1677.55799553703"
      ],
      "text/markdown": [
       "1677.55799553703"
      ],
      "text/plain": [
       "[1] 1677.558"
      ]
     },
     "metadata": {},
     "output_type": "display_data"
    },
    {
     "data": {
      "text/html": [
       "TRUE"
      ],
      "text/latex": [
       "TRUE"
      ],
      "text/markdown": [
       "TRUE"
      ],
      "text/plain": [
       "[1] TRUE"
      ]
     },
     "metadata": {},
     "output_type": "display_data"
    }
   ],
   "source": [
    "# 효과(I:E)가 0인지 확인하는 검정\n",
    "result=-2*(logLik(logf1)-logLik(logf2))\n",
    "result[1]\n",
    "result[1]>qchisq(0.95,df=1)"
   ]
  },
  {
   "cell_type": "code",
   "execution_count": 60,
   "metadata": {
    "collapsed": false
   },
   "outputs": [
    {
     "data": {
      "text/plain": [
       "\n",
       "Call:\n",
       "glm(formula = Count ~ S + E + I + S:E + I:S + E:I, family = poisson(link = \"log\"), \n",
       "    data = SEI)\n",
       "\n",
       "Deviance Residuals: \n",
       "       1         2         3         4         5         6         7         8  \n",
       " 0.20704  -0.01071  -0.10095   0.01731  -1.59987   0.31400   0.30951  -0.21583  \n",
       "\n",
       "Coefficients:\n",
       "             Estimate Std. Error z value Pr(>|z|)    \n",
       "(Intercept) 11.966133   0.002521 4746.70   <2e-16 ***\n",
       "S            0.960502   0.002964  324.03   <2e-16 ***\n",
       "E           -3.525634   0.014879 -236.95   <2e-16 ***\n",
       "I           -5.043620   0.031202 -161.65   <2e-16 ***\n",
       "S:E         -2.399636   0.033340  -71.97   <2e-16 ***\n",
       "S:I         -1.717321   0.054015  -31.79   <2e-16 ***\n",
       "E:I          2.797795   0.055256   50.63   <2e-16 ***\n",
       "---\n",
       "Signif. codes:  0 '***' 0.001 '**' 0.01 '*' 0.05 '.' 0.1 ' ' 1\n",
       "\n",
       "(Dispersion parameter for poisson family taken to be 1)\n",
       "\n",
       "    Null deviance: 1.6249e+06  on 7  degrees of freedom\n",
       "Residual deviance: 2.8540e+00  on 1  degrees of freedom\n",
       "AIC: 93.853\n",
       "\n",
       "Number of Fisher Scoring iterations: 3\n"
      ]
     },
     "metadata": {},
     "output_type": "display_data"
    }
   ],
   "source": [
    "summary(logf2)"
   ]
  },
  {
   "cell_type": "code",
   "execution_count": 71,
   "metadata": {
    "collapsed": false
   },
   "outputs": [
    {
     "data": {
      "text/html": [
       "0.091373936736445"
      ],
      "text/latex": [
       "0.091373936736445"
      ],
      "text/markdown": [
       "0.091373936736445"
      ],
      "text/plain": [
       "[1] 0.09137394"
      ]
     },
     "metadata": {},
     "output_type": "display_data"
    }
   ],
   "source": [
    "1-pchisq(2.85,df=1)"
   ]
  },
  {
   "cell_type": "code",
   "execution_count": 63,
   "metadata": {
    "collapsed": false
   },
   "outputs": [],
   "source": [
    "tmp=SEI[1:4,4]/SEI[5:8,4]\n",
    "oddsr=c(tmp[1]/tmp[2],tmp[3]/tmp[4])\n",
    "logoddsr=log(oddsr)"
   ]
  },
  {
   "cell_type": "code",
   "execution_count": 64,
   "metadata": {
    "collapsed": false
   },
   "outputs": [],
   "source": [
    "teststa=(logoddsr[2]-logoddsr[1])^2/(sum(1/SEI[,4]))"
   ]
  },
  {
   "cell_type": "code",
   "execution_count": 65,
   "metadata": {
    "collapsed": false
   },
   "outputs": [
    {
     "data": {
      "text/html": [
       "-1.58623996003797"
      ],
      "text/latex": [
       "-1.58623996003797"
      ],
      "text/markdown": [
       "-1.58623996003797"
      ],
      "text/plain": [
       "[1] -1.58624"
      ]
     },
     "metadata": {},
     "output_type": "display_data"
    }
   ],
   "source": [
    "(logoddsr[2]-logoddsr[1])/sqrt(sum(1/SEI[,4]))"
   ]
  },
  {
   "cell_type": "code",
   "execution_count": 68,
   "metadata": {
    "collapsed": false
   },
   "outputs": [
    {
     "data": {
      "text/html": [
       "-0.441969634222579"
      ],
      "text/latex": [
       "-0.441969634222579"
      ],
      "text/markdown": [
       "-0.441969634222579"
      ],
      "text/plain": [
       "[1] -0.4419696"
      ]
     },
     "metadata": {},
     "output_type": "display_data"
    }
   ],
   "source": [
    "(logoddsr[2]-logoddsr[1])"
   ]
  },
  {
   "cell_type": "code",
   "execution_count": 69,
   "metadata": {
    "collapsed": false
   },
   "outputs": [
    {
     "data": {
      "text/html": [
       "0.278627222461348"
      ],
      "text/latex": [
       "0.278627222461348"
      ],
      "text/markdown": [
       "0.278627222461348"
      ],
      "text/plain": [
       "[1] 0.2786272"
      ]
     },
     "metadata": {},
     "output_type": "display_data"
    }
   ],
   "source": [
    "sqrt(sum(1/SEI[,4]))"
   ]
  },
  {
   "cell_type": "code",
   "execution_count": 66,
   "metadata": {
    "collapsed": false
   },
   "outputs": [
    {
     "data": {
      "text/html": [
       "2.51615721082125"
      ],
      "text/latex": [
       "2.51615721082125"
      ],
      "text/markdown": [
       "2.51615721082125"
      ],
      "text/plain": [
       "[1] 2.516157"
      ]
     },
     "metadata": {},
     "output_type": "display_data"
    }
   ],
   "source": [
    "teststa"
   ]
  },
  {
   "cell_type": "code",
   "execution_count": 67,
   "metadata": {
    "collapsed": false
   },
   "outputs": [
    {
     "data": {
      "text/html": [
       "0.112684886237862"
      ],
      "text/latex": [
       "0.112684886237862"
      ],
      "text/markdown": [
       "0.112684886237862"
      ],
      "text/plain": [
       "[1] 0.1126849"
      ]
     },
     "metadata": {},
     "output_type": "display_data"
    }
   ],
   "source": [
    "1-pchisq(teststa,df=1)"
   ]
  },
  {
   "cell_type": "code",
   "execution_count": 76,
   "metadata": {
    "collapsed": false
   },
   "outputs": [
    {
     "data": {
      "text/html": [
       "93.8527745274895"
      ],
      "text/latex": [
       "93.8527745274895"
      ],
      "text/markdown": [
       "93.8527745274895"
      ],
      "text/plain": [
       "[1] 93.85277"
      ]
     },
     "metadata": {},
     "output_type": "display_data"
    }
   ],
   "source": [
    "AIC(logf2)"
   ]
  },
  {
   "cell_type": "code",
   "execution_count": 77,
   "metadata": {
    "collapsed": false
   },
   "outputs": [],
   "source": [
    "SEIm=matrix(0,4,4)\n",
    "SEIm[,1]=c(1,1,0,0)\n",
    "SEIm[,2]=c(1,0,1,0)\n",
    "SEIm[,3:4]=matrix(c(SEI$Count[1:4],SEI$Count[5:8]),4,2)\n",
    "SEIm=data.frame(SEIm)\n",
    "names(SEIm)=c(\"S\",\"E\",\"No\",\"Yes\")"
   ]
  },
  {
   "cell_type": "code",
   "execution_count": 78,
   "metadata": {
    "collapsed": false
   },
   "outputs": [
    {
     "data": {
      "text/html": [
       "<table>\n",
       "<thead><tr><th scope=col>S</th><th scope=col>E</th><th scope=col>No</th><th scope=col>Yes</th></tr></thead>\n",
       "<tbody>\n",
       "\t<tr><td>1     </td><td>1     </td><td>  1105</td><td>  14  </td></tr>\n",
       "\t<tr><td>1     </td><td>0     </td><td>411111</td><td> 483  </td></tr>\n",
       "\t<tr><td>0     </td><td>1     </td><td>  4624</td><td> 497  </td></tr>\n",
       "\t<tr><td>0     </td><td>0     </td><td>157342</td><td>1008  </td></tr>\n",
       "</tbody>\n",
       "</table>\n"
      ],
      "text/latex": [
       "\\begin{tabular}{r|llll}\n",
       " S & E & No & Yes\\\\\n",
       "\\hline\n",
       "\t 1      & 1      &   1105 &   14  \\\\\n",
       "\t 1      & 0      & 411111 &  483  \\\\\n",
       "\t 0      & 1      &   4624 &  497  \\\\\n",
       "\t 0      & 0      & 157342 & 1008  \\\\\n",
       "\\end{tabular}\n"
      ],
      "text/markdown": [
       "\n",
       "S | E | No | Yes | \n",
       "|---|---|---|---|\n",
       "| 1      | 1      |   1105 |   14   | \n",
       "| 1      | 0      | 411111 |  483   | \n",
       "| 0      | 1      |   4624 |  497   | \n",
       "| 0      | 0      | 157342 | 1008   | \n",
       "\n",
       "\n"
      ],
      "text/plain": [
       "  S E No     Yes \n",
       "1 1 1   1105   14\n",
       "2 1 0 411111  483\n",
       "3 0 1   4624  497\n",
       "4 0 0 157342 1008"
      ]
     },
     "metadata": {},
     "output_type": "display_data"
    }
   ],
   "source": [
    "SEIm"
   ]
  },
  {
   "cell_type": "code",
   "execution_count": 84,
   "metadata": {
    "collapsed": false
   },
   "outputs": [],
   "source": [
    "logitfit1=glm(cbind(Yes,No)~S+E,data=SEIm,family=binomial)\n",
    "logitfit2=glm(cbind(Yes,No)~S*E,data=SEIm,family=binomial)"
   ]
  },
  {
   "cell_type": "code",
   "execution_count": 85,
   "metadata": {
    "collapsed": false
   },
   "outputs": [
    {
     "data": {
      "text/plain": [
       "\n",
       "Call:\n",
       "glm(formula = cbind(Yes, No) ~ S + E, family = binomial, data = SEIm)\n",
       "\n",
       "Deviance Residuals: \n",
       "      1        2        3        4  \n",
       "-1.6132   0.3142   0.3256  -0.2165  \n",
       "\n",
       "Coefficients:\n",
       "            Estimate Std. Error z value Pr(>|z|)    \n",
       "(Intercept) -5.04362    0.03120 -161.65   <2e-16 ***\n",
       "S           -1.71732    0.05402  -31.79   <2e-16 ***\n",
       "E            2.79779    0.05526   50.63   <2e-16 ***\n",
       "---\n",
       "Signif. codes:  0 '***' 0.001 '**' 0.01 '*' 0.05 '.' 0.1 ' ' 1\n",
       "\n",
       "(Dispersion parameter for binomial family taken to be 1)\n",
       "\n",
       "    Null deviance: 3567.723  on 3  degrees of freedom\n",
       "Residual deviance:    2.854  on 1  degrees of freedom\n",
       "AIC: 38.039\n",
       "\n",
       "Number of Fisher Scoring iterations: 3\n"
      ]
     },
     "metadata": {},
     "output_type": "display_data"
    }
   ],
   "source": [
    "summary(logitfit1)"
   ]
  },
  {
   "cell_type": "code",
   "execution_count": 83,
   "metadata": {
    "collapsed": false
   },
   "outputs": [
    {
     "data": {
      "text/plain": [
       "\n",
       "Call:\n",
       "glm(formula = Count ~ S + E + I + S:E + I:S + E:I, family = poisson(link = \"log\"), \n",
       "    data = SEI)\n",
       "\n",
       "Deviance Residuals: \n",
       "       1         2         3         4         5         6         7         8  \n",
       " 0.20704  -0.01071  -0.10095   0.01731  -1.59987   0.31400   0.30951  -0.21583  \n",
       "\n",
       "Coefficients:\n",
       "             Estimate Std. Error z value Pr(>|z|)    \n",
       "(Intercept) 11.966133   0.002521 4746.70   <2e-16 ***\n",
       "S            0.960502   0.002964  324.03   <2e-16 ***\n",
       "E           -3.525634   0.014879 -236.95   <2e-16 ***\n",
       "I           -5.043620   0.031202 -161.65   <2e-16 ***\n",
       "S:E         -2.399636   0.033340  -71.97   <2e-16 ***\n",
       "S:I         -1.717321   0.054015  -31.79   <2e-16 ***\n",
       "E:I          2.797795   0.055256   50.63   <2e-16 ***\n",
       "---\n",
       "Signif. codes:  0 '***' 0.001 '**' 0.01 '*' 0.05 '.' 0.1 ' ' 1\n",
       "\n",
       "(Dispersion parameter for poisson family taken to be 1)\n",
       "\n",
       "    Null deviance: 1.6249e+06  on 7  degrees of freedom\n",
       "Residual deviance: 2.8540e+00  on 1  degrees of freedom\n",
       "AIC: 93.853\n",
       "\n",
       "Number of Fisher Scoring iterations: 3\n"
      ]
     },
     "metadata": {},
     "output_type": "display_data"
    }
   ],
   "source": [
    "summary(logf2)"
   ]
  },
  {
   "cell_type": "code",
   "execution_count": 86,
   "metadata": {
    "collapsed": false
   },
   "outputs": [
    {
     "data": {
      "text/plain": [
       "\n",
       "Call:\n",
       "glm(formula = Count ~ S * E * I, family = poisson(link = \"log\"), \n",
       "    data = SEI)\n",
       "\n",
       "Deviance Residuals: \n",
       "[1]  0  0  0  0  0  0  0  0\n",
       "\n",
       "Coefficients:\n",
       "             Estimate Std. Error  z value Pr(>|z|)    \n",
       "(Intercept) 11.966177   0.002521 4746.547   <2e-16 ***\n",
       "S            0.960441   0.002964  323.985   <2e-16 ***\n",
       "E           -3.527162   0.014920 -236.398   <2e-16 ***\n",
       "I           -5.050454   0.031598 -159.836   <2e-16 ***\n",
       "S:E         -2.391856   0.033616  -71.153   <2e-16 ***\n",
       "S:I         -1.696148   0.055419  -30.606   <2e-16 ***\n",
       "E:I          2.820028   0.056805   49.644   <2e-16 ***\n",
       "S:E:I       -0.441970   0.278627   -1.586    0.113    \n",
       "---\n",
       "Signif. codes:  0 '***' 0.001 '**' 0.01 '*' 0.05 '.' 0.1 ' ' 1\n",
       "\n",
       "(Dispersion parameter for poisson family taken to be 1)\n",
       "\n",
       "    Null deviance: 1.6249e+06  on 7  degrees of freedom\n",
       "Residual deviance: 2.8931e-11  on 0  degrees of freedom\n",
       "AIC: 92.999\n",
       "\n",
       "Number of Fisher Scoring iterations: 3\n"
      ]
     },
     "metadata": {},
     "output_type": "display_data"
    }
   ],
   "source": [
    "summary(logf3)"
   ]
  },
  {
   "cell_type": "code",
   "execution_count": 88,
   "metadata": {
    "collapsed": false
   },
   "outputs": [
    {
     "data": {
      "text/plain": [
       "\n",
       "Call:\n",
       "glm(formula = cbind(Yes, No) ~ S * E, family = binomial, data = SEIm)\n",
       "\n",
       "Deviance Residuals: \n",
       "[1]  0  0  0  0\n",
       "\n",
       "Coefficients:\n",
       "            Estimate Std. Error  z value Pr(>|z|)    \n",
       "(Intercept) -5.05045    0.03160 -159.836   <2e-16 ***\n",
       "S           -1.69615    0.05542  -30.606   <2e-16 ***\n",
       "E            2.82003    0.05680   49.644   <2e-16 ***\n",
       "S:E         -0.44197    0.27863   -1.586    0.113    \n",
       "---\n",
       "Signif. codes:  0 '***' 0.001 '**' 0.01 '*' 0.05 '.' 0.1 ' ' 1\n",
       "\n",
       "(Dispersion parameter for binomial family taken to be 1)\n",
       "\n",
       "    Null deviance:  3.5677e+03  on 3  degrees of freedom\n",
       "Residual deviance: -4.2411e-13  on 0  degrees of freedom\n",
       "AIC: 37.185\n",
       "\n",
       "Number of Fisher Scoring iterations: 3\n"
      ]
     },
     "metadata": {},
     "output_type": "display_data"
    }
   ],
   "source": [
    "summary(logitfit2)"
   ]
  },
  {
   "cell_type": "code",
   "execution_count": null,
   "metadata": {
    "collapsed": true
   },
   "outputs": [],
   "source": []
  }
 ],
 "metadata": {
  "anaconda-cloud": {},
  "kernelspec": {
   "display_name": "R",
   "language": "R",
   "name": "ir"
  },
  "language_info": {
   "codemirror_mode": "r",
   "file_extension": ".r",
   "mimetype": "text/x-r-source",
   "name": "R",
   "pygments_lexer": "r",
   "version": "3.3.2"
  }
 },
 "nbformat": 4,
 "nbformat_minor": 1
}
