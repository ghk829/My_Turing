{
 "cells": [
  {
   "cell_type": "code",
   "execution_count": 3,
   "metadata": {
    "collapsed": false
   },
   "outputs": [],
   "source": [
    "data = c(30000,\n",
    "35200,\n",
    "47200,\n",
    "75000,\n",
    "95000,\n",
    "100000,\n",
    "105000,\n",
    "106000,\n",
    "110000,\n",
    "115000,\n",
    "120000,\n",
    "135000,\n",
    "150000,\n",
    "150000,\n",
    "150000,\n",
    "150000,\n",
    "150000,\n",
    "150000,\n",
    "158000,\n",
    "163400)"
   ]
  },
  {
   "cell_type": "code",
   "execution_count": 21,
   "metadata": {
    "collapsed": false
   },
   "outputs": [
    {
     "ename": "ERROR",
     "evalue": "Error in hist.default(data, breaks = seq(min(data), max(data), by = 50000)): some 'x' not counted; maybe 'breaks' do not span range of 'x'\n",
     "output_type": "error",
     "traceback": [
      "Error in hist.default(data, breaks = seq(min(data), max(data), by = 50000)): some 'x' not counted; maybe 'breaks' do not span range of 'x'\nTraceback:\n",
      "1. hist(data, breaks = seq(min(data), max(data), by = 50000))",
      "2. hist.default(data, breaks = seq(min(data), max(data), by = 50000))",
      "3. stop(\"some 'x' not counted; maybe 'breaks' do not span range of 'x'\")"
     ]
    }
   ],
   "source": [
    "hist(data,breaks=seq(min(data),max(data),by=50000))"
   ]
  },
  {
   "cell_type": "code",
   "execution_count": 32,
   "metadata": {
    "collapsed": false
   },
   "outputs": [
    {
     "name": "stdout",
     "output_type": "stream",
     "text": [
      "[1] 3\n"
     ]
    }
   ],
   "source": [
    "x <- c(2,5,3,9,8,11,6)\n",
    "count <- 0\n",
    "for (val in x) {\n",
    "    if(val %% 2 == 0)  count = count+1\n",
    "}\n",
    "print(count)"
   ]
  },
  {
   "cell_type": "code",
   "execution_count": 48,
   "metadata": {
    "collapsed": false
   },
   "outputs": [],
   "source": [
    "br=c()\n",
    "for (datum in data){\n",
    "    if (datum<50000){\n",
    "        br=c(br,1)\n",
    "    }\n",
    "    else if(50000<=datum&datum<100000){\n",
    "        br=c(br,2)\n",
    "    }\n",
    "    else if(100000<=datum&datum<150000){\n",
    "        br=c(br,3)\n",
    "    }\n",
    "    else {\n",
    "        br=c(br,4)\n",
    "    }\n",
    "}"
   ]
  },
  {
   "cell_type": "code",
   "execution_count": 49,
   "metadata": {
    "collapsed": false
   },
   "outputs": [],
   "source": [
    "tb=table(br)"
   ]
  },
  {
   "cell_type": "code",
   "execution_count": 50,
   "metadata": {
    "collapsed": false
   },
   "outputs": [],
   "source": [
    "names(tb)=c('<50000','<100000','<150000','above')"
   ]
  },
  {
   "cell_type": "code",
   "execution_count": 51,
   "metadata": {
    "collapsed": false
   },
   "outputs": [
    {
     "data": {
      "image/png": "[encoded data removed]",
      "text/plain": [
       "plot without title"
      ]
     },
     "metadata": {},
     "output_type": "display_data"
    }
   ],
   "source": [
    "barplot(tb)"
   ]
  },
  {
   "cell_type": "code",
   "execution_count": null,
   "metadata": {
    "collapsed": true
   },
   "outputs": [],
   "source": []
  }
 ],
 "metadata": {
  "anaconda-cloud": {},
  "kernelspec": {
   "display_name": "R",
   "language": "R",
   "name": "ir"
  },
  "language_info": {
   "codemirror_mode": "r",
   "file_extension": ".r",
   "mimetype": "text/x-r-source",
   "name": "R",
   "pygments_lexer": "r",
   "version": "3.3.2"
  }
 },
 "nbformat": 4,
 "nbformat_minor": 1
}
