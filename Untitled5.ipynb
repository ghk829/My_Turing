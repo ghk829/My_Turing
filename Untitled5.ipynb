{
 "cells": [
  {
   "cell_type": "code",
   "execution_count": 45,
   "metadata": {
    "collapsed": false
   },
   "outputs": [
    {
     "data": {
      "text/html": [
       "-4.83625714129385"
      ],
      "text/latex": [
       "-4.83625714129385"
      ],
      "text/markdown": [
       "-4.83625714129385"
      ],
      "text/plain": [
       "[1] -4.836257"
      ]
     },
     "metadata": {},
     "output_type": "display_data"
    }
   ],
   "source": [
    "## 큰 1번\n",
    "# 문제 1번\n",
    "\n",
    "L1=log(dnorm(170,170,2)*dnorm(172,172,2)*dnorm(177,177,2))\n",
    "L1"
   ]
  },
  {
   "cell_type": "code",
   "execution_count": 46,
   "metadata": {
    "collapsed": false
   },
   "outputs": [
    {
     "data": {
      "text/html": [
       "-8.08625714129385"
      ],
      "text/latex": [
       "-8.08625714129385"
      ],
      "text/markdown": [
       "-8.08625714129385"
      ],
      "text/plain": [
       "[1] -8.086257"
      ]
     },
     "metadata": {},
     "output_type": "display_data"
    },
    {
     "data": {
      "image/png": "[encoded data removed]",
      "text/plain": [
       "plot without title"
      ]
     },
     "metadata": {},
     "output_type": "display_data"
    }
   ],
   "source": [
    "# 문제 2번\n",
    "likefunc = function(x,mu){\n",
    "  dnorm(x,mu,2)\n",
    "}\n",
    "threelike=function(x,mu){\n",
    "  LL=c()\n",
    "  for(i in x){\n",
    "    LL=c(LL,likefunc(i,mu))\n",
    "  }\n",
    "  return(log(prod(LL)))\n",
    "}\n",
    "\n",
    "x=c(170,172,177)\n",
    "ref=seq(160,180,by=0.1)\n",
    "Ldata=c()\n",
    "for (i in ref){\n",
    "Ldata=c(Ldata,threelike(x,i))}\n",
    "\n",
    "plot(ref,Ldata)\n",
    "abline(v=ref[which.max(Ldata)],col='blue')\n",
    "abline(h=max(Ldata),col='red')\n",
    "L2=max(Ldata)\n",
    "L2"
   ]
  },
  {
   "cell_type": "code",
   "execution_count": 47,
   "metadata": {
    "collapsed": false
   },
   "outputs": [
    {
     "data": {
      "text/html": [
       "-17.4612571412939"
      ],
      "text/latex": [
       "-17.4612571412939"
      ],
      "text/markdown": [
       "-17.4612571412939"
      ],
      "text/plain": [
       "[1] -17.46126"
      ]
     },
     "metadata": {},
     "output_type": "display_data"
    }
   ],
   "source": [
    "# 문제 3번\n",
    "\n",
    "L3=threelike(x,168)\n",
    "L3"
   ]
  },
  {
   "cell_type": "code",
   "execution_count": 48,
   "metadata": {
    "collapsed": false
   },
   "outputs": [
    {
     "data": {
      "text/html": [
       "-4.83625714129385"
      ],
      "text/latex": [
       "-4.83625714129385"
      ],
      "text/markdown": [
       "-4.83625714129385"
      ],
      "text/plain": [
       "[1] -4.836257"
      ]
     },
     "metadata": {},
     "output_type": "display_data"
    },
    {
     "data": {
      "text/html": [
       "-8.08625714129385"
      ],
      "text/latex": [
       "-8.08625714129385"
      ],
      "text/markdown": [
       "-8.08625714129385"
      ],
      "text/plain": [
       "[1] -8.086257"
      ]
     },
     "metadata": {},
     "output_type": "display_data"
    },
    {
     "data": {
      "text/html": [
       "-17.4612571412939"
      ],
      "text/latex": [
       "-17.4612571412939"
      ],
      "text/markdown": [
       "-17.4612571412939"
      ],
      "text/plain": [
       "[1] -17.46126"
      ]
     },
     "metadata": {},
     "output_type": "display_data"
    },
    {
     "data": {
      "text/html": [
       "TRUE"
      ],
      "text/latex": [
       "TRUE"
      ],
      "text/markdown": [
       "TRUE"
      ],
      "text/plain": [
       "[1] TRUE"
      ]
     },
     "metadata": {},
     "output_type": "display_data"
    },
    {
     "data": {
      "text/html": [
       "TRUE"
      ],
      "text/latex": [
       "TRUE"
      ],
      "text/markdown": [
       "TRUE"
      ],
      "text/plain": [
       "[1] TRUE"
      ]
     },
     "metadata": {},
     "output_type": "display_data"
    }
   ],
   "source": [
    "# 문제 4번\n",
    "\n",
    "L1\n",
    "L2\n",
    "L3\n",
    "L1>L2\n",
    "L2>L3"
   ]
  },
  {
   "cell_type": "code",
   "execution_count": 49,
   "metadata": {
    "collapsed": false
   },
   "outputs": [
    {
     "data": {
      "text/html": [
       "-4.83625714129385"
      ],
      "text/latex": [
       "-4.83625714129385"
      ],
      "text/markdown": [
       "-4.83625714129385"
      ],
      "text/plain": [
       "[1] -4.836257"
      ]
     },
     "metadata": {},
     "output_type": "display_data"
    }
   ],
   "source": [
    "## 큰 문제 2번\n",
    "# 문제 1번\n",
    "L1=L1\n",
    "L1"
   ]
  },
  {
   "cell_type": "code",
   "execution_count": 50,
   "metadata": {
    "collapsed": false
   },
   "outputs": [
    {
     "data": {
      "text/html": [
       "<ol class=list-inline>\n",
       "\t<li>169.5</li>\n",
       "\t<li>173</li>\n",
       "\t<li>176.5</li>\n",
       "</ol>\n"
      ],
      "text/latex": [
       "\\begin{enumerate*}\n",
       "\\item 169.5\n",
       "\\item 173\n",
       "\\item 176.5\n",
       "\\end{enumerate*}\n"
      ],
      "text/markdown": [
       "1. 169.5\n",
       "2. 173\n",
       "3. 176.5\n",
       "\n",
       "\n"
      ],
      "text/plain": [
       "[1] 169.5 173.0 176.5"
      ]
     },
     "metadata": {},
     "output_type": "display_data"
    },
    {
     "data": {
      "text/html": [
       "-5.02375714129385"
      ],
      "text/latex": [
       "-5.02375714129385"
      ],
      "text/markdown": [
       "-5.02375714129385"
      ],
      "text/plain": [
       "[1] -5.023757"
      ]
     },
     "metadata": {},
     "output_type": "display_data"
    }
   ],
   "source": [
    "# 문제 2번\n",
    "# linear 문제에서 LSE와 MLE문제와 같다는 것을 이용할 수 있다.\n",
    "X=matrix(c(1,1,1,0.5,1,1.5),3,2)\n",
    "hat=as.vector((solve(t(X)%*%X)%*%t(X))%*%x)\n",
    "yhat=hat[2]*c(0.5,1,1.5)+hat[1]\n",
    "yhat\n",
    "L2=sum(log(likefunc(x,yhat)))\n",
    "L2"
   ]
  },
  {
   "cell_type": "code",
   "execution_count": 51,
   "metadata": {
    "collapsed": false
   },
   "outputs": [
    {
     "data": {
      "text/html": [
       "<ol class=list-inline>\n",
       "\t<li>166</li>\n",
       "\t<li>169</li>\n",
       "\t<li>172</li>\n",
       "</ol>\n"
      ],
      "text/latex": [
       "\\begin{enumerate*}\n",
       "\\item 166\n",
       "\\item 169\n",
       "\\item 172\n",
       "\\end{enumerate*}\n"
      ],
      "text/markdown": [
       "1. 166\n",
       "2. 169\n",
       "3. 172\n",
       "\n",
       "\n"
      ],
      "text/plain": [
       "[1] 166 169 172"
      ]
     },
     "metadata": {},
     "output_type": "display_data"
    },
    {
     "data": {
      "text/html": [
       "-11.0862571412939"
      ],
      "text/latex": [
       "-11.0862571412939"
      ],
      "text/markdown": [
       "-11.0862571412939"
      ],
      "text/plain": [
       "[1] -11.08626"
      ]
     },
     "metadata": {},
     "output_type": "display_data"
    }
   ],
   "source": [
    "# 문제 3번\n",
    "\n",
    "hat=c(163,6)\n",
    "xhat=hat[2]*c(0.5,1,1.5)+hat[1]\n",
    "xhat\n",
    "L3=sum(log(likefunc(x,xhat)))\n",
    "L3"
   ]
  },
  {
   "cell_type": "code",
   "execution_count": 53,
   "metadata": {
    "collapsed": false
   },
   "outputs": [
    {
     "data": {
      "text/html": [
       "-4.83625714129385"
      ],
      "text/latex": [
       "-4.83625714129385"
      ],
      "text/markdown": [
       "-4.83625714129385"
      ],
      "text/plain": [
       "[1] -4.836257"
      ]
     },
     "metadata": {},
     "output_type": "display_data"
    },
    {
     "data": {
      "text/html": [
       "-5.02375714129385"
      ],
      "text/latex": [
       "-5.02375714129385"
      ],
      "text/markdown": [
       "-5.02375714129385"
      ],
      "text/plain": [
       "[1] -5.023757"
      ]
     },
     "metadata": {},
     "output_type": "display_data"
    },
    {
     "data": {
      "text/html": [
       "-11.0862571412939"
      ],
      "text/latex": [
       "-11.0862571412939"
      ],
      "text/markdown": [
       "-11.0862571412939"
      ],
      "text/plain": [
       "[1] -11.08626"
      ]
     },
     "metadata": {},
     "output_type": "display_data"
    },
    {
     "data": {
      "text/html": [
       "TRUE"
      ],
      "text/latex": [
       "TRUE"
      ],
      "text/markdown": [
       "TRUE"
      ],
      "text/plain": [
       "[1] TRUE"
      ]
     },
     "metadata": {},
     "output_type": "display_data"
    },
    {
     "data": {
      "text/html": [
       "TRUE"
      ],
      "text/latex": [
       "TRUE"
      ],
      "text/markdown": [
       "TRUE"
      ],
      "text/plain": [
       "[1] TRUE"
      ]
     },
     "metadata": {},
     "output_type": "display_data"
    }
   ],
   "source": [
    "# 문제 4번\n",
    "\n",
    "L1\n",
    "L2\n",
    "L3\n",
    "L1>L2\n",
    "L2>L3"
   ]
  },
  {
   "cell_type": "code",
   "execution_count": 54,
   "metadata": {
    "collapsed": false
   },
   "outputs": [
    {
     "data": {
      "text/html": [
       "-6.21069323910509"
      ],
      "text/latex": [
       "-6.21069323910509"
      ],
      "text/markdown": [
       "-6.21069323910509"
      ],
      "text/plain": [
       "[1] -6.210693"
      ]
     },
     "metadata": {},
     "output_type": "display_data"
    }
   ],
   "source": [
    "# 문제 5번\n",
    "\n",
    "likefunc = function(x,mu){\n",
    "  dnorm(x,mu,sqrt(10))\n",
    "}\n",
    "# 문제 1번\n",
    "L1=log(dnorm(170,170,sqrt(10))*dnorm(172,172,sqrt(10))*dnorm(177,177,sqrt(10)))\n",
    "L1"
   ]
  },
  {
   "cell_type": "code",
   "execution_count": 55,
   "metadata": {
    "collapsed": false
   },
   "outputs": [
    {
     "data": {
      "text/html": [
       "<ol class=list-inline>\n",
       "\t<li>169.5</li>\n",
       "\t<li>173</li>\n",
       "\t<li>176.5</li>\n",
       "</ol>\n"
      ],
      "text/latex": [
       "\\begin{enumerate*}\n",
       "\\item 169.5\n",
       "\\item 173\n",
       "\\item 176.5\n",
       "\\end{enumerate*}\n"
      ],
      "text/markdown": [
       "1. 169.5\n",
       "2. 173\n",
       "3. 176.5\n",
       "\n",
       "\n"
      ],
      "text/plain": [
       "[1] 169.5 173.0 176.5"
      ]
     },
     "metadata": {},
     "output_type": "display_data"
    }
   ],
   "source": [
    "# 문제 2번\n",
    "# linear 문제에서 LSE와 MLE문제와 같다는 것을 이용할 수 있다.\n",
    "X=matrix(c(1,1,1,0.5,1,1.5),3,2)\n",
    "hat=as.vector((solve(t(X)%*%X)%*%t(X))%*%x)\n",
    "xhat=hat[2]*c(0.5,1,1.5)+hat[1]\n",
    "xhat\n",
    "L2=sum(log(likefunc(x,xhat)))"
   ]
  },
  {
   "cell_type": "code",
   "execution_count": 56,
   "metadata": {
    "collapsed": false
   },
   "outputs": [
    {
     "data": {
      "text/html": [
       "<ol class=list-inline>\n",
       "\t<li>166</li>\n",
       "\t<li>169</li>\n",
       "\t<li>172</li>\n",
       "</ol>\n"
      ],
      "text/latex": [
       "\\begin{enumerate*}\n",
       "\\item 166\n",
       "\\item 169\n",
       "\\item 172\n",
       "\\end{enumerate*}\n"
      ],
      "text/markdown": [
       "1. 166\n",
       "2. 169\n",
       "3. 172\n",
       "\n",
       "\n"
      ],
      "text/plain": [
       "[1] 166 169 172"
      ]
     },
     "metadata": {},
     "output_type": "display_data"
    }
   ],
   "source": [
    "\n",
    "# 문제 3번\n",
    "\n",
    "hat=c(163,6)\n",
    "xhat=hat[2]*c(0.5,1,1.5)+hat[1]\n",
    "xhat\n",
    "L3=sum(log(likefunc(x,xhat)))"
   ]
  },
  {
   "cell_type": "code",
   "execution_count": 57,
   "metadata": {
    "collapsed": false
   },
   "outputs": [
    {
     "data": {
      "text/html": [
       "-6.21069323910509"
      ],
      "text/latex": [
       "-6.21069323910509"
      ],
      "text/markdown": [
       "-6.21069323910509"
      ],
      "text/plain": [
       "[1] -6.210693"
      ]
     },
     "metadata": {},
     "output_type": "display_data"
    },
    {
     "data": {
      "text/html": [
       "-6.28569323910509"
      ],
      "text/latex": [
       "-6.28569323910509"
      ],
      "text/markdown": [
       "-6.28569323910509"
      ],
      "text/plain": [
       "[1] -6.285693"
      ]
     },
     "metadata": {},
     "output_type": "display_data"
    },
    {
     "data": {
      "text/html": [
       "-8.71069323910509"
      ],
      "text/latex": [
       "-8.71069323910509"
      ],
      "text/markdown": [
       "-8.71069323910509"
      ],
      "text/plain": [
       "[1] -8.710693"
      ]
     },
     "metadata": {},
     "output_type": "display_data"
    },
    {
     "data": {
      "text/html": [
       "TRUE"
      ],
      "text/latex": [
       "TRUE"
      ],
      "text/markdown": [
       "TRUE"
      ],
      "text/plain": [
       "[1] TRUE"
      ]
     },
     "metadata": {},
     "output_type": "display_data"
    },
    {
     "data": {
      "text/html": [
       "TRUE"
      ],
      "text/latex": [
       "TRUE"
      ],
      "text/markdown": [
       "TRUE"
      ],
      "text/plain": [
       "[1] TRUE"
      ]
     },
     "metadata": {},
     "output_type": "display_data"
    }
   ],
   "source": [
    "#문제 4번\n",
    "L1\n",
    "L2\n",
    "L3\n",
    "L1>L2\n",
    "L2>L3"
   ]
  },
  {
   "cell_type": "code",
   "execution_count": 58,
   "metadata": {
    "collapsed": false
   },
   "outputs": [
    {
     "data": {
      "text/html": [
       "<table>\n",
       "<thead><tr><th></th><th scope=col>High</th><th scope=col>Low</th></tr></thead>\n",
       "<tbody>\n",
       "\t<tr><th scope=row>Male</th><td>22</td><td>18</td></tr>\n",
       "\t<tr><th scope=row>Female</th><td>26</td><td>14</td></tr>\n",
       "</tbody>\n",
       "</table>\n"
      ],
      "text/latex": [
       "\\begin{tabular}{r|ll}\n",
       "  & High & Low\\\\\n",
       "\\hline\n",
       "\tMale & 22 & 18\\\\\n",
       "\tFemale & 26 & 14\\\\\n",
       "\\end{tabular}\n"
      ],
      "text/markdown": [
       "\n",
       "| <!--/--> | High | Low | \n",
       "|---|---|\n",
       "| Male | 22 | 18 | \n",
       "| Female | 26 | 14 | \n",
       "\n",
       "\n"
      ],
      "text/plain": [
       "       High Low\n",
       "Male   22   18 \n",
       "Female 26   14 "
      ]
     },
     "metadata": {},
     "output_type": "display_data"
    },
    {
     "data": {
      "text/plain": [
       "\n",
       "\tPearson's Chi-squared test\n",
       "\n",
       "data:  mat\n",
       "X-squared = 0.83333, df = 1, p-value = 0.3613\n"
      ]
     },
     "metadata": {},
     "output_type": "display_data"
    },
    {
     "data": {
      "text/html": [
       "0.833333333333333"
      ],
      "text/latex": [
       "0.833333333333333"
      ],
      "text/markdown": [
       "0.833333333333333"
      ],
      "text/plain": [
       "[1] 0.8333333"
      ]
     },
     "metadata": {},
     "output_type": "display_data"
    }
   ],
   "source": [
    "## 큰 문제 3번\n",
    "# 1번 행과 열이 독립인가를 보기위한 문제\n",
    "mat=matrix(c(22,26,18,14),2,2)\n",
    "row.names(mat)<-c('Male','Female')\n",
    "colnames(mat)<-c('High','Low')\n",
    "mat\n",
    "result=chisq.test(mat,correct = FALSE)\n",
    "result\n",
    "sum((as.vector(mat)-as.vector(result$expected))^2/as.vector(result$expected))"
   ]
  },
  {
   "cell_type": "code",
   "execution_count": 59,
   "metadata": {
    "collapsed": false
   },
   "outputs": [
    {
     "data": {
      "text/plain": [
       "\n",
       "\t2-sample test for equality of proportions without continuity\n",
       "\tcorrection\n",
       "\n",
       "data:  mat\n",
       "X-squared = 0.83333, df = 1, p-value = 0.3613\n",
       "alternative hypothesis: two.sided\n",
       "95 percent confidence interval:\n",
       " -0.3135821  0.1135821\n",
       "sample estimates:\n",
       "prop 1 prop 2 \n",
       "  0.55   0.65 \n"
      ]
     },
     "metadata": {},
     "output_type": "display_data"
    }
   ],
   "source": [
    "# 2번\n",
    "prop.test(mat,correct=FALSE)"
   ]
  },
  {
   "cell_type": "code",
   "execution_count": 64,
   "metadata": {
    "collapsed": false
   },
   "outputs": [
    {
     "data": {
      "text/html": [
       "0.842105263157894"
      ],
      "text/latex": [
       "0.842105263157894"
      ],
      "text/markdown": [
       "0.842105263157894"
      ],
      "text/plain": [
       "[1] 0.8421053"
      ]
     },
     "metadata": {},
     "output_type": "display_data"
    }
   ],
   "source": [
    "\n",
    "#3번\n",
    "((p1-p2)/sqrt(p1*(1-p1)/40+p2*(1-p2)/40))^2"
   ]
  },
  {
   "cell_type": "code",
   "execution_count": 65,
   "metadata": {
    "collapsed": false
   },
   "outputs": [
    {
     "data": {
      "text/html": [
       "0.822826929892517"
      ],
      "text/latex": [
       "0.822826929892517"
      ],
      "text/markdown": [
       "0.822826929892517"
      ],
      "text/plain": [
       "[1] 0.8228269"
      ]
     },
     "metadata": {},
     "output_type": "display_data"
    }
   ],
   "source": [
    "#3번\n",
    "p1=0.55;p2=0.65\n",
    "(log((p1/p2))/sqrt((1-p1)/(40*p1)+(1-p2)/(40*p2)))^2\n"
   ]
  },
  {
   "cell_type": "code",
   "execution_count": 71,
   "metadata": {
    "collapsed": false
   },
   "outputs": [
    {
     "data": {
      "text/html": [
       "0.829929054484693"
      ],
      "text/latex": [
       "0.829929054484693"
      ],
      "text/markdown": [
       "0.829929054484693"
      ],
      "text/plain": [
       "[1] 0.8299291"
      ]
     },
     "metadata": {},
     "output_type": "display_data"
    }
   ],
   "source": [
    "#4번\n",
    "ore<-(22*14)/(18*26)\n",
    "ase_log<-sqrt(1/22 + 1/26 + 1/18 + 1/14)\n",
    "(log(ore)/ase_log)^2"
   ]
  },
  {
   "cell_type": "code",
   "execution_count": null,
   "metadata": {
    "collapsed": true
   },
   "outputs": [],
   "source": []
  },
  {
   "cell_type": "code",
   "execution_count": 62,
   "metadata": {
    "collapsed": false
   },
   "outputs": [
    {
     "data": {
      "text/html": [
       "0.822916666666667"
      ],
      "text/latex": [
       "0.822916666666667"
      ],
      "text/markdown": [
       "0.822916666666667"
      ],
      "text/plain": [
       "[1] 0.8229167"
      ]
     },
     "metadata": {},
     "output_type": "display_data"
    }
   ],
   "source": [
    "#5번\n",
    "n=80\n",
    "umean=sum(c(0,1)*rowSums(mat)/n)\n",
    "vmean=sum(c(0,1)*colSums(mat)/n)\n",
    "gender=c(1,0,1,0)-0.5\n",
    "high=c(1,1,0,0)-vmean\n",
    "num=sum(gender*high*as.vector(mat/n))\n",
    "u=sum(c(0-umean,1-umean)^2*rowSums(mat)/n)\n",
    "v=sum(c(0-vmean,1-vmean)^2*colSums(mat)/n)\n",
    "dmon=sqrt(u*v)\n",
    "(num/dmon)^2*(n-1)"
   ]
  },
  {
   "cell_type": "code",
   "execution_count": null,
   "metadata": {
    "collapsed": true
   },
   "outputs": [],
   "source": [
    "2*sum(as.vector(mat)*log(as.vector(mat)/as.vector(result$expected)))\n",
    "fisher.test(mat)"
   ]
  }
 ],
 "metadata": {
  "kernelspec": {
   "display_name": "R",
   "language": "R",
   "name": "ir"
  },
  "language_info": {
   "codemirror_mode": "r",
   "file_extension": ".r",
   "mimetype": "text/x-r-source",
   "name": "R",
   "pygments_lexer": "r",
   "version": "3.3.2"
  }
 },
 "nbformat": 4,
 "nbformat_minor": 1
}
